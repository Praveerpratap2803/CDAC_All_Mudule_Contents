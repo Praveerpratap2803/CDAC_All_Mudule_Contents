{
 "cells": [
  {
   "cell_type": "markdown",
   "id": "635452e3",
   "metadata": {},
   "source": [
    "# Assignment 4"
   ]
  },
  {
   "cell_type": "markdown",
   "id": "919ec28e",
   "metadata": {},
   "source": [
    "Q1. What will be output of following\n",
    "\n",
    "a. type(0) => int\n",
    "b. type(0.0) => float\n",
    "c. type('A') => str\n",
    "d. type(print) -> remember print is function =>builtin_function_or_method\n",
    "e. type(3+3j) => complex\n",
    "f. type(True) => bool\n",
    "\n",
    "NOTE: Similarly check for few other values and clarify the concept "
   ]
  },
  {
   "cell_type": "code",
   "execution_count": 7,
   "id": "d70be54d",
   "metadata": {},
   "outputs": [
    {
     "data": {
      "text/plain": [
       "bool"
      ]
     },
     "execution_count": 7,
     "metadata": {},
     "output_type": "execute_result"
    }
   ],
   "source": [
    "type(True)"
   ]
  },
  {
   "cell_type": "markdown",
   "id": "af57852d",
   "metadata": {},
   "source": [
    "Q2. What will be output of following\n",
    "\n",
    "a. isinstance(10,int) => True\n",
    "b. isinstance(10,float) => Flase\n",
    "c. isinstance(1,bool) => False\n",
    "d. isinstance(0,bool) => False\n",
    "e. isinstance(78.8,int) => False\n",
    "f. isinstance(78.8,float) => True\n",
    "g. isinstance(78.8,complex) => False\n",
    "h. isinstance(True,bool) => True\n",
    "\n",
    "NOTE: Similarly check for few other values and clarify the concept "
   ]
  },
  {
   "cell_type": "code",
   "execution_count": 14,
   "id": "32beba6e",
   "metadata": {},
   "outputs": [
    {
     "data": {
      "text/plain": [
       "True"
      ]
     },
     "execution_count": 14,
     "metadata": {},
     "output_type": "execute_result"
    }
   ],
   "source": [
    "isinstance(True,bool)"
   ]
  },
  {
   "cell_type": "markdown",
   "id": "c9d9786a",
   "metadata": {},
   "source": [
    "Q3. WAP to take following from user, \n",
    "roll no : should be int : store in a variable\n",
    "percentage marks : should be float: store in a variable\n",
    "Any complex number : should be a complex number : store in a variable\n",
    "name of student: should be a string : store in a variable\n",
    "\n",
    "Print values of all four variables\n",
    "\n"
   ]
  },
  {
   "cell_type": "code",
   "execution_count": 22,
   "id": "cdd2a539",
   "metadata": {},
   "outputs": [
    {
     "name": "stdout",
     "output_type": "stream",
     "text": [
      "Enter the roll no.10\n",
      "Enter the percentage99\n",
      "Enter the real value12\n",
      "Enter the complex value13\n",
      "Enter the nameganesh\n",
      "10\n",
      "99.0\n",
      "(12+13j)\n",
      "ganesh\n"
     ]
    }
   ],
   "source": [
    "roll_no = int(input(\"Enter the roll no.\"))\n",
    "percentage_marks = float(input(\"Enter the percentage\"))\n",
    "complex_number = complex(int(input(\"Enter the real value\")),int(input(\"Enter the complex value\")))\n",
    "name = str(input(\"Enter the name\"))\n",
    "print(roll_no)\n",
    "print(percentage_marks)\n",
    "print(complex_number)\n",
    "print(name)"
   ]
  },
  {
   "cell_type": "markdown",
   "id": "c1fa52dc",
   "metadata": {},
   "source": [
    "Q4. WAP to convert given integer to binary, hex and octal format\n"
   ]
  },
  {
   "cell_type": "code",
   "execution_count": 6,
   "id": "f5695d5a",
   "metadata": {},
   "outputs": [
    {
     "name": "stdout",
     "output_type": "stream",
     "text": [
      "Enter the integer value12\n",
      "0b1100 0xc 0o14\n"
     ]
    }
   ],
   "source": [
    "number = int(input(\"Enter the integer value\"))\n",
    "binary = bin(number)\n",
    "hex_value = hex(number)\n",
    "bin_value = oct(number)\n",
    "\n",
    "print(binary,hex_value,bin_value)"
   ]
  },
  {
   "cell_type": "markdown",
   "id": "5452add7",
   "metadata": {},
   "source": [
    "Q5. WAP to convert given binary string to an integer.\n",
    "NOTE: Binary string should start with '0b' always\n"
   ]
  },
  {
   "cell_type": "code",
   "execution_count": 46,
   "id": "a76d0733",
   "metadata": {},
   "outputs": [
    {
     "name": "stdout",
     "output_type": "stream",
     "text": [
      "Enter the binary value 1011\n",
      "11\n"
     ]
    }
   ],
   "source": [
    "number = int(input(\"Enter the binary value \"),2)\n",
    "print(number)"
   ]
  },
  {
   "cell_type": "markdown",
   "id": "142e5760",
   "metadata": {},
   "source": [
    "Q6. WAP to convert given octal string to an integer.\n",
    "NOTE: Binary string should start with '0o' always"
   ]
  },
  {
   "cell_type": "code",
   "execution_count": 50,
   "id": "154c991c",
   "metadata": {},
   "outputs": [
    {
     "name": "stdout",
     "output_type": "stream",
     "text": [
      "Enter the octal value 11\n",
      "0o3\n"
     ]
    }
   ],
   "source": [
    "number = int(input(\"Enter the octal value \"),2)\n",
    "octal = oct(number)\n",
    "print(octal)"
   ]
  },
  {
   "cell_type": "markdown",
   "id": "69b07bfb",
   "metadata": {},
   "source": [
    "Q7. WAP to convert given hex string to an integer.\n",
    "NOTE: Binary string should start with '0x' always"
   ]
  },
  {
   "cell_type": "code",
   "execution_count": 51,
   "id": "1e015131",
   "metadata": {},
   "outputs": [
    {
     "name": "stdout",
     "output_type": "stream",
     "text": [
      "Enter the hex value 1101\n",
      "0xd\n"
     ]
    }
   ],
   "source": [
    "number = int(input(\"Enter the hex value \"),2)\n",
    "octal = hex(number)\n",
    "print(octal)"
   ]
  },
  {
   "cell_type": "markdown",
   "id": "0c21a1b8",
   "metadata": {},
   "source": [
    "Q8. WAP to take an int from user. Print number of 1's and 0's in binary format of given number.\n",
    "NOTE: '0b' is suffix in binary string. It should not be included in calculation.\n"
   ]
  },
  {
   "cell_type": "code",
   "execution_count": 30,
   "id": "e5127b1a",
   "metadata": {},
   "outputs": [
    {
     "name": "stdout",
     "output_type": "stream",
     "text": [
      "Enter the number7\n",
      "1\n",
      "1\n",
      "1\n"
     ]
    }
   ],
   "source": [
    "number = int(input(\"Enter the number\"))\n",
    "binary_number = bin(number)\n",
    "bi=binary_number.split(\"b\",1)[1]\n",
    "for i in bi:\n",
    "    print(i)"
   ]
  },
  {
   "cell_type": "markdown",
   "id": "23c1f0a6",
   "metadata": {},
   "source": [
    "Q9. Write a menu driven program.\n",
    "Ask the user which input needs to be converted \n",
    "1. binary 2. Octal 3. Hex\n",
    "Then convert given string to integer using int() function"
   ]
  },
  {
   "cell_type": "code",
   "execution_count": 35,
   "id": "c56e3a99",
   "metadata": {},
   "outputs": [
    {
     "name": "stdout",
     "output_type": "stream",
     "text": [
      "Enter the choice 1.Binary 2.Octal 3.Hex2\n",
      "Enter the number2\n",
      "Octal no. :  0o2\n",
      "Press q to quitw\n",
      "Enter the choice 1.Binary 2.Octal 3.Hex3\n",
      "Enter the number23\n",
      "Hex no. :  0x17\n",
      "Press q to quitq\n"
     ]
    }
   ],
   "source": [
    "quit = 'a'\n",
    "while quit!=\"q\":\n",
    "    choice = int(input(\"Enter the choice 1.Binary 2.Octal 3.Hex\"))\n",
    "    if choice == 1:\n",
    "        number = int(input(\"Enter the number\"))\n",
    "        binary_number = bin(number)\n",
    "        print(\"Binary no. : \",binary_number)\n",
    "    if choice == 2:\n",
    "        number = int(input(\"Enter the number\"))\n",
    "        octal_number = oct(number)\n",
    "        print(\"Octal no. : \",octal_number)\n",
    "    if choice == 3:\n",
    "        number = int(input(\"Enter the number\"))\n",
    "        hex_number = hex(number)\n",
    "        print(\"Hex no. : \",hex_number)\n",
    "    quit = input(\"Press q to quit\")\n",
    "        \n",
    "\n",
    "        \n",
    "    \n",
    "    "
   ]
  },
  {
   "cell_type": "code",
   "execution_count": null,
   "id": "68a85e3b",
   "metadata": {},
   "outputs": [],
   "source": []
  },
  {
   "cell_type": "markdown",
   "id": "a6828df8",
   "metadata": {},
   "source": [
    "Q10. Manually tell output (Truth value) of following expression, then verify it in python\n",
    "You can get truth value of an expression by passing it to bool()\n",
    "Ex. bool(100+56*3) returns True\n",
    "\n",
    "a. '' (empty string) => False\n",
    "b. 10-10 => False\n",
    "c. 19.99-19.9 => True\n",
    "d. [] (empty list) => False\n",
    "e. range(0) => True\n",
    "f. None => False\n",
    "g. 0+0.1j => True\n",
    "h. -10 => True\n",
    "i. -9.6 => True\n",
    "j. 'ABC'+'KL' => True\n",
    "k. '-' => True\n",
    "l. 'False' => True\n",
    "m. False => False\n",
    "n. 'None' => True\n"
   ]
  },
  {
   "cell_type": "code",
   "execution_count": 49,
   "id": "643537ee",
   "metadata": {},
   "outputs": [
    {
     "data": {
      "text/plain": [
       "False"
      ]
     },
     "execution_count": 49,
     "metadata": {},
     "output_type": "execute_result"
    }
   ],
   "source": [
    "bool(False)"
   ]
  },
  {
   "cell_type": "code",
   "execution_count": null,
   "id": "514b877c",
   "metadata": {},
   "outputs": [],
   "source": []
  },
  {
   "cell_type": "markdown",
   "id": "b71b1ada",
   "metadata": {},
   "source": [
    "Q11. Find the size of x when x is given following values\n",
    "Hint : Size of object can be found by sys.getsizeof() function\n",
    "a. x=0 \n",
    "Check what is size of x\n",
    "b. x=1 \n",
    "Check what is size of x\n",
    "c. x=2 ** 20\n",
    "Check what is size of x\n",
    "d. x=2 ** 32\n",
    "Check what is size of x\n",
    "e. x=2 ** 60 \n",
    "Check what is size of x"
   ]
  },
  {
   "cell_type": "code",
   "execution_count": null,
   "id": "88f8f86b",
   "metadata": {},
   "outputs": [],
   "source": []
  },
  {
   "cell_type": "markdown",
   "id": "fd4e55ce",
   "metadata": {},
   "source": [
    "Q12. Find output of following\n",
    "\n",
    "a. 10 + True\n",
    "b. int(False)\n",
    "c. bin(False)\n",
    "d. hex(True)\n",
    "e. 1578.67 + False\n",
    "f. int(5/4)\n",
    "g. int(9/10)\n",
    "h. int(-89/10)\n",
    "i. float(True)\n",
    "j. float(6*7)\n",
    "k. float(1e3)\n",
    "l. float(1e323)"
   ]
  },
  {
   "cell_type": "code",
   "execution_count": null,
   "id": "ad6faa3e",
   "metadata": {},
   "outputs": [],
   "source": []
  },
  {
   "cell_type": "markdown",
   "id": "381e59c3",
   "metadata": {},
   "source": [
    "Q13. Solve following\n",
    "\n",
    "a. Print value of int.bit_length(10)\n",
    "Print value of bin(10)\n",
    "Explain output of both functions \n",
    "\n",
    "b. Take a number from user. Find its square root. And check if square root is an integer or not.\n",
    "(Hint: Use built-in function from float data type functions for last part)\n",
    "\n",
    "c. Take hexadecimal string from user and convert it to float\n",
    "Ex. User input string: '0x1.67e30'\n",
    "o/p 1.4058074951171875\n"
   ]
  },
  {
   "cell_type": "code",
   "execution_count": null,
   "id": "04419dc3",
   "metadata": {},
   "outputs": [],
   "source": []
  },
  {
   "cell_type": "markdown",
   "id": "0f4d5cde",
   "metadata": {},
   "source": [
    "Q14. WAP to convert given floating point number into fraction i..e numerator and denominator, and print them.\n"
   ]
  },
  {
   "cell_type": "code",
   "execution_count": null,
   "id": "6a9f60c9",
   "metadata": {},
   "outputs": [],
   "source": []
  },
  {
   "cell_type": "markdown",
   "id": "6912d945",
   "metadata": {},
   "source": [
    "Q15. WAP to create simple calculator in python.\n",
    "Take two numbers from user and give following options\n",
    "a. add b. subtract c. divide d. multiply e. integer division f. mod operation \n",
    "g. check if both numbers are same  h. power operation i. square root of both numbers  j. log of both numbers\n",
    "k. gcd (find the  the greatest common divisor of the two integers) l. lcm (least common multiple)\n",
    "(Hint: Use inbuilt functions)\n"
   ]
  },
  {
   "cell_type": "code",
   "execution_count": null,
   "id": "c0306937",
   "metadata": {},
   "outputs": [],
   "source": []
  },
  {
   "cell_type": "code",
   "execution_count": null,
   "id": "7f14860c",
   "metadata": {},
   "outputs": [],
   "source": [
    "Q16. WAP to check given integer is a perfect square or not. \n",
    "Don't use built in function\n"
   ]
  },
  {
   "cell_type": "code",
   "execution_count": 51,
   "id": "f1ccf3a5",
   "metadata": {},
   "outputs": [
    {
     "name": "stdout",
     "output_type": "stream",
     "text": [
      "Enter the number10\n",
      "not a perfect square\n"
     ]
    }
   ],
   "source": [
    "import math\n",
    "number = int(input(\"Enter the number\"))\n",
    "root_of_number = math.sqrt(number)\n",
    "if root_of_number-math.floor(root_of_number)==0:\n",
    "    print(\"Perfect square\")\n",
    "else:\n",
    "    print(\"not a perfect square\")"
   ]
  },
  {
   "cell_type": "markdown",
   "id": "228cd384",
   "metadata": {},
   "source": [
    "# Advanced Assignments:"
   ]
  },
  {
   "cell_type": "markdown",
   "id": "320c8a69",
   "metadata": {},
   "source": [
    "Q. What is output of following? Explain why such output?\n",
    "\n",
    "a. bool(hex(0))\n",
    "b. bool(bin(0))\n",
    "c. bool(0)\n"
   ]
  },
  {
   "cell_type": "code",
   "execution_count": null,
   "id": "2dd93ac4",
   "metadata": {},
   "outputs": [],
   "source": []
  },
  {
   "cell_type": "markdown",
   "id": "c025c264",
   "metadata": {},
   "source": [
    "Q. What is output of following ? Explain\n",
    "\n",
    "a. \n",
    "if( 10 == 10.00 ):\n",
    "  print(\"Equal\")\n",
    "else:\n",
    "  print(\"not Equal\")\n",
    "\n",
    "b. \n",
    "x=10\n",
    "y=10.00\n",
    "if( x == y ):\n",
    "  print(\"Equal\")\n",
    "else:\n",
    "  print(\"not Equal\")\n",
    "\n",
    "c.\n",
    "x=10\n",
    "y=10.00\n",
    "if( x is y ):\n",
    "  print(\"Same\")\n",
    "else:\n",
    "  print(\"Not Same\")\n",
    "\n",
    "d.\n",
    "x=10\n",
    "y=10\n",
    "if( x is y ):\n",
    "  print(\"Same\")\n",
    "else:\n",
    "  print(\"Not Same\")\n",
    "\n"
   ]
  },
  {
   "cell_type": "code",
   "execution_count": null,
   "id": "55f10919",
   "metadata": {},
   "outputs": [],
   "source": []
  },
  {
   "cell_type": "markdown",
   "id": "ac52b9da",
   "metadata": {},
   "source": [
    "Q. What is output of following\n",
    "a. x = 23+4j\n",
    "print(x)\n",
    "b. x = 23+4i\n",
    "c. x = 23+4k\n",
    "d. x=complex('23 + 4j')\n",
    "e. x=complex('23+4j')\n",
    "print(x)\n",
    "\n",
    "NOTE: Read documentation & Explain why different outputs are coming \n",
    "\n",
    "https://docs.python.org/3/library/functions.html#complex \n"
   ]
  },
  {
   "cell_type": "code",
   "execution_count": null,
   "id": "7db5de6e",
   "metadata": {},
   "outputs": [],
   "source": []
  },
  {
   "cell_type": "markdown",
   "id": "213e769d",
   "metadata": {},
   "source": [
    "Q. Read about difference between byte order types Big-Endian and Little-Endian\n",
    "\n",
    "https://en.wikipedia.org/wiki/Endianness"
   ]
  },
  {
   "cell_type": "code",
   "execution_count": null,
   "id": "a4e8d972",
   "metadata": {},
   "outputs": [],
   "source": []
  }
 ],
 "metadata": {
  "kernelspec": {
   "display_name": "Python 3 (ipykernel)",
   "language": "python",
   "name": "python3"
  },
  "language_info": {
   "codemirror_mode": {
    "name": "ipython",
    "version": 3
   },
   "file_extension": ".py",
   "mimetype": "text/x-python",
   "name": "python",
   "nbconvert_exporter": "python",
   "pygments_lexer": "ipython3",
   "version": "3.11.4"
  }
 },
 "nbformat": 4,
 "nbformat_minor": 5
}
