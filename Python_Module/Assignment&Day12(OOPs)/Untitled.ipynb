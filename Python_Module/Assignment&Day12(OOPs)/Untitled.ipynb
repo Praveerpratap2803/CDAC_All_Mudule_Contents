{
 "cells": [
  {
   "cell_type": "code",
   "execution_count": 1,
   "id": "fbe48922",
   "metadata": {},
   "outputs": [
    {
     "name": "stdout",
     "output_type": "stream",
     "text": [
      "13 white 12\n"
     ]
    }
   ],
   "source": [
    "class car:\n",
    "    def __init__ (self,color,price,avg,type_fuel):\n",
    "        self.color=color\n",
    "        self.price=price\n",
    "        self.avg=avg\n",
    "        self.type_fuel=type_fuel\n",
    "    def display(self):\n",
    "        print(self.avg,self.color,self.price)\n",
    "c1 = car(\"white\",12,13,\"type1\")\n",
    "c1.display()"
   ]
  },
  {
   "cell_type": "code",
   "execution_count": 15,
   "id": "4f05084d",
   "metadata": {},
   "outputs": [
    {
     "name": "stdout",
     "output_type": "stream",
     "text": [
      "10 20\n"
     ]
    },
    {
     "data": {
      "text/plain": [
       "110"
      ]
     },
     "execution_count": 15,
     "metadata": {},
     "output_type": "execute_result"
    }
   ],
   "source": [
    "class student:\n",
    "    def __init__(self,m1,m2):\n",
    "        self.m1=m1\n",
    "        self.m2=m2\n",
    "    def display(self):\n",
    "        print(self.m1,self.m2)\n",
    "    def __add__(self,other):\n",
    "        m1=self.m1 + other.m1\n",
    "        m2=self.m2+other.m2\n",
    "        s3=student(m1,m2)\n",
    "        return s3\n",
    "        \n",
    "s1 = student(10,20)\n",
    "s2=student(100,200)\n",
    "s1.display()\n",
    "s3=s1+s2\n",
    "s3.m1"
   ]
  },
  {
   "cell_type": "code",
   "execution_count": null,
   "id": "d5732efc",
   "metadata": {},
   "outputs": [],
   "source": []
  },
  {
   "cell_type": "code",
   "execution_count": null,
   "id": "fad0f2a1",
   "metadata": {},
   "outputs": [],
   "source": []
  },
  {
   "cell_type": "code",
   "execution_count": null,
   "id": "33a3a4c8",
   "metadata": {},
   "outputs": [],
   "source": []
  },
  {
   "cell_type": "code",
   "execution_count": null,
   "id": "677d4174",
   "metadata": {},
   "outputs": [],
   "source": []
  },
  {
   "cell_type": "code",
   "execution_count": null,
   "id": "05c364f4",
   "metadata": {},
   "outputs": [],
   "source": []
  }
 ],
 "metadata": {
  "kernelspec": {
   "display_name": "Python 3 (ipykernel)",
   "language": "python",
   "name": "python3"
  },
  "language_info": {
   "codemirror_mode": {
    "name": "ipython",
    "version": 3
   },
   "file_extension": ".py",
   "mimetype": "text/x-python",
   "name": "python",
   "nbconvert_exporter": "python",
   "pygments_lexer": "ipython3",
   "version": "3.11.4"
  }
 },
 "nbformat": 4,
 "nbformat_minor": 5
}
