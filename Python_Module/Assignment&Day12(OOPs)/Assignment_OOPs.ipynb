{
 "cells": [
  {
   "cell_type": "code",
   "execution_count": null,
   "id": "d92eb443",
   "metadata": {},
   "outputs": [],
   "source": [
    "Create Employee class to have employee details\n",
    "    empid int\n",
    "    name str\n",
    "    designation str\n",
    "    salary int  --> make it private (hidden)\n",
    "    project_ids_assigned (set)\n",
    "    skills list of str\n",
    "    company name : \n",
    "         shared in all employees\n",
    "\n",
    "Functionalities (methods):\n",
    "        display_projetids()\n",
    "        display_identity()\n",
    "        check_relevant_skill()\n",
    "        \n",
    "        display_company_details():\n",
    "            shared in all (class method)\n",
    "\n",
    "Init should be parameterised to take all\n",
    "neccessary details and initialize the object\n",
    "\n",
    "Create three employees with different details \n",
    "Give them skills\n",
    "\n",
    "Print identity of all of them (one by one)\n",
    "using instance method\n",
    "\n",
    "Print project ids of all of them (one by one)\n",
    "using instance method\n",
    "\n",
    "Print employee ids and names who have skill \"Python\"\n",
    "\n",
    "Print company details\n"
   ]
  },
  {
   "cell_type": "code",
   "execution_count": 1,
   "id": "4e4bc488",
   "metadata": {},
   "outputs": [],
   "source": [
    "class Employee:\n",
    "    company_name=\"Google\"\n",
    "    def __init__(self):\n",
    "        self.empid=int(input('Enter the empid'))\n",
    "        self.name=input('Enter the name')\n",
    "        self.designation=input('Enter the designation')\n",
    "        self.__salary=int(input('Enter the salary'))\n",
    "        self.project_ids_assigned=set(input('Enter the project_ids_assigned seperated by space').split(' '))\n",
    "        self.skills=input('Enter the skills seperated by space').split(' ')\n",
    "    \n",
    "    \"\"\"def __init__(self,empid,name,designation,salary,project_ids_assigned,skills):\n",
    "        self.empid=empid\n",
    "        self.name=name\n",
    "        self.designation=designation\n",
    "        self.__salary=salary\n",
    "        self.project_ids_assigned=project_ids_assigned\n",
    "        self.skills=skills\"\"\"\n",
    "        \n",
    "    def display_projetids(self):\n",
    "        print(self.project_ids_assigned)\n",
    "        \n",
    "    def display_identity(self):\n",
    "        print(self.empid,self.name)\n",
    "    def check_relevant_skill(self,skill):\n",
    "        if skill in self.skills:\n",
    "            print(skill,'skill is present')\n",
    "        else:\n",
    "            print(skill,' skill is not present')\n",
    "        \n",
    "    @classmethod\n",
    "    def display_company_details(cls):\n",
    "        print(cls.company_name,Employee.company_name)\n",
    "        "
   ]
  },
  {
   "cell_type": "code",
   "execution_count": 2,
   "id": "1cb44de3",
   "metadata": {},
   "outputs": [
    {
     "name": "stdout",
     "output_type": "stream",
     "text": [
      "Enter the empid1\n",
      "Enter the namea\n",
      "Enter the designationa\n",
      "Enter the salary1\n",
      "Enter the project_ids_assigned seperated by space1,2,3\n",
      "Enter the skills seperated by spacePython Linux\n",
      "Enter the empid2\n",
      "Enter the nameb\n",
      "Enter the designationb\n",
      "Enter the salary2\n",
      "Enter the project_ids_assigned seperated by space4 5 6\n",
      "Enter the skills seperated by spaceLinux\n",
      "1 a\n",
      "None\n",
      "2 b\n",
      "None\n"
     ]
    }
   ],
   "source": [
    "employee_list=[]\n",
    "for i in range(2):\n",
    "    employee_list.append(Employee())\n",
    "for i in employee_list:\n",
    "    print(i.display_identity())"
   ]
  },
  {
   "cell_type": "code",
   "execution_count": 10,
   "id": "e5b59d1e",
   "metadata": {},
   "outputs": [
    {
     "name": "stdout",
     "output_type": "stream",
     "text": [
      "{'1'}\n",
      "None\n",
      "{'1'}\n",
      "None\n"
     ]
    }
   ],
   "source": [
    "for i in employee_list:\n",
    "    print(i.display_projetids())\n"
   ]
  },
  {
   "cell_type": "code",
   "execution_count": 14,
   "id": "4ac4f207",
   "metadata": {},
   "outputs": [
    {
     "name": "stdout",
     "output_type": "stream",
     "text": [
      "Enter the empid2\n",
      "Enter the namePraveer\n",
      "Enter the designationCEO\n",
      "Enter the salary100000\n",
      "Enter the salary100 200 300\n",
      "Enter the salaryPython Linux Cloud\n"
     ]
    }
   ],
   "source": [
    "#e1 = Employee(1,'Prajwal','Manager',1000,set({10,20,30}),['Linux','Cloud'])\n",
    "#e1.display_projetids()\n",
    "#e1.display_identity()\n",
    "#e1.check_relevant_skill('Python')\n",
    "#e1.display_company_details()\n",
    "\n",
    "e2 = Employee()\n",
    "e2.display_projetids()\n",
    "e2.display_identity()\n",
    "e2.check_relevant_skill('Python')\n",
    "e1.display_company_details()\n",
    "\n"
   ]
  },
  {
   "cell_type": "code",
   "execution_count": 15,
   "id": "f13f7de4",
   "metadata": {},
   "outputs": [
    {
     "name": "stdout",
     "output_type": "stream",
     "text": [
      "{'300', '100', '200'}\n"
     ]
    }
   ],
   "source": [
    "#e1.display_projetids()\n",
    "e2.display_projetids()"
   ]
  },
  {
   "cell_type": "code",
   "execution_count": 16,
   "id": "52f33c2c",
   "metadata": {},
   "outputs": [
    {
     "name": "stdout",
     "output_type": "stream",
     "text": [
      "2 Praveer\n"
     ]
    }
   ],
   "source": [
    "#e1.display_identity()\n",
    "e2.display_identity()"
   ]
  },
  {
   "cell_type": "code",
   "execution_count": 17,
   "id": "9de69652",
   "metadata": {},
   "outputs": [
    {
     "name": "stdout",
     "output_type": "stream",
     "text": [
      "Python skill is present\n"
     ]
    }
   ],
   "source": [
    "#e1.check_relevant_skill('Python')\n",
    "e2.check_relevant_skill('Python')"
   ]
  },
  {
   "cell_type": "code",
   "execution_count": 18,
   "id": "fefc0a8b",
   "metadata": {},
   "outputs": [
    {
     "name": "stdout",
     "output_type": "stream",
     "text": [
      "Google Google\n"
     ]
    }
   ],
   "source": [
    "#e1.display_company_details()\n",
    "e1.display_company_details()"
   ]
  },
  {
   "cell_type": "code",
   "execution_count": null,
   "id": "7e02d7d5",
   "metadata": {},
   "outputs": [],
   "source": []
  },
  {
   "cell_type": "code",
   "execution_count": null,
   "id": "ac6df4a9",
   "metadata": {},
   "outputs": [],
   "source": []
  },
  {
   "cell_type": "code",
   "execution_count": null,
   "id": "219e9b87",
   "metadata": {},
   "outputs": [],
   "source": []
  },
  {
   "cell_type": "code",
   "execution_count": null,
   "id": "b74e07ee",
   "metadata": {},
   "outputs": [],
   "source": []
  },
  {
   "cell_type": "code",
   "execution_count": null,
   "id": "813aae75",
   "metadata": {},
   "outputs": [],
   "source": []
  },
  {
   "cell_type": "code",
   "execution_count": null,
   "id": "2233519f",
   "metadata": {},
   "outputs": [],
   "source": []
  },
  {
   "cell_type": "code",
   "execution_count": null,
   "id": "839fb0d6",
   "metadata": {},
   "outputs": [],
   "source": []
  },
  {
   "cell_type": "code",
   "execution_count": null,
   "id": "fc0d5319",
   "metadata": {},
   "outputs": [],
   "source": []
  }
 ],
 "metadata": {
  "kernelspec": {
   "display_name": "Python 3 (ipykernel)",
   "language": "python",
   "name": "python3"
  },
  "language_info": {
   "codemirror_mode": {
    "name": "ipython",
    "version": 3
   },
   "file_extension": ".py",
   "mimetype": "text/x-python",
   "name": "python",
   "nbconvert_exporter": "python",
   "pygments_lexer": "ipython3",
   "version": "3.11.4"
  }
 },
 "nbformat": 4,
 "nbformat_minor": 5
}
