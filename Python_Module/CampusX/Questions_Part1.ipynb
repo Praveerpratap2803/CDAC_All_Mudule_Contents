{
 "cells": [
  {
   "cell_type": "markdown",
   "id": "233eff41",
   "metadata": {},
   "source": [
    "# CampusX Starting from 1st video"
   ]
  },
  {
   "cell_type": "code",
   "execution_count": 1,
   "id": "f3ba1095",
   "metadata": {},
   "outputs": [
    {
     "name": "stdout",
     "output_type": "stream",
     "text": [
      "True\n"
     ]
    }
   ],
   "source": [
    "#membership operator -> in , not in\n",
    "print('D' in 'Delhi')"
   ]
  },
  {
   "cell_type": "code",
   "execution_count": 4,
   "id": "da1e5ef7",
   "metadata": {},
   "outputs": [],
   "source": [
    "#Modules -> math,keywords,constant,random"
   ]
  },
  {
   "cell_type": "code",
   "execution_count": 7,
   "id": "fc2ba72f",
   "metadata": {},
   "outputs": [
    {
     "name": "stdout",
     "output_type": "stream",
     "text": [
      "\n",
      "Please wait a moment while I gather a list of all available modules...\n",
      "\n"
     ]
    },
    {
     "name": "stderr",
     "output_type": "stream",
     "text": [
      "No QCoreApplication instance found. Application patches not applied. You have to call load_stylesheet function after instantiation of QApplication to take effect. \n",
      "Neither PyTorch nor TensorFlow >= 2.0 have been found.Models won't be available and only tokenizers, configurationand file/data utilities can be used.\n",
      "C:\\Users\\91937\\anaconda3\\Lib\\pkgutil.py:107: VisibleDeprecationWarning:\n",
      "\n",
      "zmq.eventloop.minitornado is deprecated in pyzmq 14.0 and will be removed.\n",
      "    Install tornado itself to use zmq with the tornado IOLoop.\n",
      "    \n",
      "\n"
     ]
    },
    {
     "name": "stdout",
     "output_type": "stream",
     "text": [
      "IPython             compileall          mdurl               smart_open\n",
      "OpenSSL             concurrent          menuinst            smtpd\n",
      "PIL                 conda               mimetypes           smtplib\n",
      "PyQt5               conda_build         mistune             snappy\n",
      "TBB                 conda_content_trust mkl                 sndhdr\n",
      "__future__          conda_env           mkl_fft             sniffio\n",
      "__hello__           conda_index         mkl_random          snowballstemmer\n",
      "__phello__          conda_libmamba_solver mmap                socket\n",
      "_abc                conda_pack          mmapfile            socketserver\n",
      "_aix_support        conda_package_handling mmsystem            socks\n",
      "_argon2_cffi_bindings conda_package_streaming modulefinder        sockshandler\n",
      "_ast                conda_token         more_itertools      sortedcontainers\n",
      "_asyncio            conda_verify        mpmath              soupsieve\n",
      "_bisect             configparser        msgpack             sphinx\n",
      "_black_version      constantly          msilib              spyder\n",
      "_blake2             contextlib          msvcrt              spyder_kernels\n",
      "_bootsubprocess     contextvars         multidict           sqlalchemy\n",
      "_bz2                contourpy           multipledispatch    sqlite3\n",
      "_cffi_backend       cookiecutter        multiprocessing     sre_compile\n",
      "_codecs             copy                munkres             sre_constants\n",
      "_codecs_cn          copyreg             mypy_extensions     sre_parse\n",
      "_codecs_hk          cpuinfo             nacl                ssl\n",
      "_codecs_iso2022     crypt               navigator_updater   sspi\n",
      "_codecs_jp          cryptography        nbclassic           sspicon\n",
      "_codecs_kr          cssselect           nbclient            stack_data\n",
      "_codecs_tw          csv                 nbconvert           stat\n",
      "_collections        ctypes              nbformat            statistics\n",
      "_collections_abc    curl                nest_asyncio        statsmodels\n",
      "_compat_pickle      curses              netbios             string\n",
      "_compression        cwp                 netrc               stringprep\n",
      "_contextvars        cycler              networkx            struct\n",
      "_csv                cytoolz             nltk                subprocess\n",
      "_ctypes             daal4py             nntplib             sunau\n",
      "_ctypes_test        dask                notebook            sympy\n",
      "_datetime           dataclasses         notebook_shim       symtable\n",
      "_decimal            datashader          nt                  sys\n",
      "_distutils_hack     datashape           ntpath              sysconfig\n",
      "_elementtree        datetime            ntsecuritycon       tables\n",
      "_functools          dateutil            nturl2path          tabnanny\n",
      "_hashlib            dbi                 numba               tabulate\n",
      "_heapq              dbm                 numbergen           tarfile\n",
      "_imp                dde                 numbers             tbb\n",
      "_io                 debugpy             numexpr             tblib\n",
      "_json               decimal             numpy               telnetlib\n",
      "_locale             decorator           numpydoc            tempfile\n",
      "_lsprof             defusedxml          odbc                tenacity\n",
      "_lzma               diff_match_patch    onedal              terminado\n",
      "_markupbase         difflib             opcode              test\n",
      "_md5                dill                openpyxl            test_pycosat\n",
      "_msi                dis                 operator            text_unidecode\n",
      "_multibytecodec     distributed         optparse            textdistance\n",
      "_multiprocessing    distutils           os                  textwrap\n",
      "_nsis               docstring_to_markdown packaging           this\n",
      "_opcode             doctest             pandas              threading\n",
      "_operator           docutils            pandocfilters       threadpoolctl\n",
      "_osx_support        email               panel               three_merge\n",
      "_overlapped         encodings           param               tifffile\n",
      "_pickle             ensurepip           paramiko            time\n",
      "_plotly_future_     entrypoints         parsel              timeit\n",
      "_plotly_utils       enum                parso               timer\n",
      "_py_abc             erfa                partd               tinycss2\n",
      "_pydecimal          errno               past                tkinter\n",
      "_pyio               et_xmlfile          pathlib             tldextract\n",
      "_pyrsistent_version executing           pathspec            tlz\n",
      "_pytest             fastjsonschema      patsy               token\n",
      "_queue              faulthandler        pdb                 tokenize\n",
      "_random             filecmp             pep8                toml\n",
      "_sha1               fileinput           perfmon             tomlkit\n",
      "_sha256             filelock            pexpect             tomllib\n",
      "_sha3               flake8              pickle              toolz\n",
      "_sha512             flask               pickleshare         tornado\n",
      "_signal             fnmatch             pickletools         tqdm\n",
      "_sitebuiltins       fontTools           pip                 trace\n",
      "_socket             fractions           pipes               traceback\n",
      "_sqlite3            frozenlist          pkg_resources       tracemalloc\n",
      "_sre                fsspec              pkginfo             traitlets\n",
      "_ssl                ftplib              pkgutil             transformers\n",
      "_stat               functools           platform            tty\n",
      "_statistics         future              platformdirs        turtle\n",
      "_string             gc                  plistlib            turtledemo\n",
      "_strptime           genericpath         plotly              twisted\n",
      "_struct             gensim              pluggy              types\n",
      "_symtable           getopt              ply                 typing\n",
      "_system_path        getpass             pooch               typing_extensions\n",
      "_testbuffer         gettext             poplib              uc_micro\n",
      "_testcapi           glob                posixpath           ujson\n",
      "_testconsole        glob2               poyo                unicodedata\n",
      "_testimportmultiple graphlib            pprint              unidecode\n",
      "_testinternalcapi   greenlet            profile             unittest\n",
      "_testmultiphase     gzip                prometheus_client   urllib\n",
      "_thread             h5py                prompt_toolkit      urllib3\n",
      "_threading_local    hashlib             protego             uu\n",
      "_tkinter            heapdict            pstats              uuid\n",
      "_tokenize           heapq               psutil              venv\n",
      "_tracemalloc        hmac                pty                 w3lib\n",
      "_typing             holoviews           ptyprocess          warnings\n",
      "_uuid               html                pure_eval           watchdog\n",
      "_warnings           http                pvectorc            wave\n",
      "_weakref            hvplot              py                  wcwidth\n",
      "_weakrefset         hyperlink           py_compile          weakref\n",
      "_win32sysloader     idlelib             pyarrow             webbrowser\n",
      "_winapi             idna                pyasn1              webencodings\n",
      "_winxptheme         imagecodecs         pyasn1_modules      websocket\n",
      "_xxsubinterpreters  imageio             pyclbr              werkzeug\n",
      "_yaml               imagesize           pycodestyle         whatthepatch\n",
      "_zoneinfo           imaplib             pycosat             wheel\n",
      "abc                 imblearn            pycparser           widgetsnbextension\n",
      "adodbapi            imghdr              pyct                win2kras\n",
      "afxres              imp                 pycurl              win32api\n",
      "aifc                importlib           pydispatch          win32clipboard\n",
      "aiobotocore         importlib_metadata  pydoc               win32com\n",
      "aiofiles            incremental         pydoc_data          win32con\n",
      "aiohttp             inflection          pydocstyle          win32console\n",
      "aioitertools        iniconfig           pyexpat             win32cred\n",
      "aiosignal           inspect             pyflakes            win32crypt\n",
      "aiosqlite           intake              pygments            win32cryptcon\n",
      "alabaster           intervaltree        pylab               win32ctypes\n",
      "anaconda_catalogs   io                  pylint              win32event\n",
      "anaconda_navigator  ipaddress           pylint_venv         win32evtlog\n",
      "anaconda_project    ipykernel           pyls_spyder         win32evtlogutil\n",
      "antigravity         ipykernel_launcher  pylsp               win32file\n",
      "anyio               ipython_genutils    pylsp_black         win32gui\n",
      "appdirs             ipywidgets          pylsp_jsonrpc       win32gui_struct\n",
      "argon2              isapi               pyodbc              win32help\n",
      "argparse            isort               pyparsing           win32inet\n",
      "array               isympy              pyrsistent          win32inetcon\n",
      "arrow               itemadapter         pytest              win32job\n",
      "ast                 itemloaders         pythoncom           win32lz\n",
      "astroid             itertools           pythonjsonlogger    win32net\n",
      "astropy             itsdangerous        pytoolconfig        win32netcon\n",
      "asttokens           jedi                pytz                win32pdh\n",
      "async_timeout       jellyfish           pyviz_comms         win32pdhquery\n",
      "asynchat            jinja2              pywin               win32pdhutil\n",
      "asyncio             jinja2_time         pywin32_bootstrap   win32pipe\n",
      "asyncore            jmespath            pywin32_testutil    win32print\n",
      "atexit              joblib              pywintypes          win32process\n",
      "atomicwrites        json                pywt                win32profile\n",
      "attr                json5               qdarkstyle          win32ras\n",
      "attrs               jsonpatch           qstylizer           win32rcparser\n",
      "audioop             jsonpointer         qtawesome           win32security\n",
      "automat             jsonschema          qtconsole           win32service\n",
      "autopep8            jupyter             qtpy                win32serviceutil\n",
      "babel               jupyter_client      queue               win32timezone\n",
      "backcall            jupyter_console     queuelib            win32trace\n",
      "backports           jupyter_core        quopri              win32traceutil\n",
      "base64              jupyter_events      random              win32transaction\n",
      "bcrypt              jupyter_server      rasutil             win32ts\n",
      "bdb                 jupyter_server_fileid re                  win32ui\n",
      "binaryornot         jupyter_server_ydoc regcheck            win32uiole\n",
      "binascii            jupyter_ydoc        regex               win32verstamp\n",
      "binstar_client      jupyterlab          regutil             win32wnet\n",
      "bisect              jupyterlab_plotly   repo_cli            win_inet_pton\n",
      "black               jupyterlab_pygments reprlib             winerror\n",
      "blackd              jupyterlab_server   requests            winioctlcon\n",
      "bleach              jupyterlab_widgets  requests_file       winnt\n",
      "blib2to3            jwt                 requests_toolbelt   winperf\n",
      "bokeh               keyring             rfc3339_validator   winpty\n",
      "boltons             keyword             rfc3986_validator   winreg\n",
      "boto3               kiwisolver          rlcompleter         winsound\n",
      "botocore            lazy_loader         rope                winxpgui\n",
      "bottleneck          lazy_object_proxy   rtree               winxptheme\n",
      "brotli              lib2to3             ruamel_yaml         wrapt\n",
      "bs4                 libarchive          runpy               wsgiref\n",
      "builtins            libfuturize         s3fs                xarray\n",
      "bz2                 libmambapy          s3transfer          xdrlib\n",
      "cProfile            libpasteurize       sacremoses          xlwings\n",
      "calendar            lief                sched               xml\n",
      "certifi             linecache           scipy               xmlrpc\n",
      "cffi                linkify_it          scrapy              xxlimited\n",
      "cgi                 llvmlite            seaborn             xxlimited_35\n",
      "cgitb               lmdb                secrets             xxsubtype\n",
      "chardet             locale              select              xyzservices\n",
      "charset_normalizer  locket              selectors           y_py\n",
      "chunk               logging             send2trash          yaml\n",
      "click               lxml                service_identity    yapf\n",
      "cloudpickle         lz4                 servicemanager      yapftests\n",
      "clyent              lzma                setuptools          yarl\n",
      "cmath               mailbox             shelve              ypy_websocket\n",
      "cmd                 mailcap             shlex               zict\n",
      "code                markdown            shutil              zipapp\n",
      "codecs              markdown_it         signal              zipfile\n",
      "codeop              markupsafe          sipbuild            zipimport\n",
      "collections         marshal             site                zipp\n",
      "colorama            math                six                 zlib\n",
      "colorcet            matplotlib          skimage             zmq\n",
      "colorsys            matplotlib_inline   sklearn             zoneinfo\n",
      "comm                mccabe              sklearnex           zope\n",
      "commctrl            mdit_py_plugins     slugify             zstandard\n",
      "\n",
      "Enter any module name to get more help.  Or, type \"modules spam\" to search\n",
      "for modules whose name or summary contain the string \"spam\".\n",
      "\n"
     ]
    }
   ],
   "source": [
    "help('modules')"
   ]
  },
  {
   "cell_type": "code",
   "execution_count": 1,
   "id": "064b6789",
   "metadata": {},
   "outputs": [
    {
     "ename": "NameError",
     "evalue": "name 'i' is not defined",
     "output_type": "error",
     "traceback": [
      "\u001b[1;31m---------------------------------------------------------------------------\u001b[0m",
      "\u001b[1;31mNameError\u001b[0m                                 Traceback (most recent call last)",
      "Cell \u001b[1;32mIn[1], line 1\u001b[0m\n\u001b[1;32m----> 1\u001b[0m \u001b[38;5;28mid\u001b[39m(i)\n",
      "\u001b[1;31mNameError\u001b[0m: name 'i' is not defined"
     ]
    }
   ],
   "source": [
    "id(i)"
   ]
  },
  {
   "cell_type": "code",
   "execution_count": 15,
   "id": "2613a2ac",
   "metadata": {},
   "outputs": [
    {
     "data": {
      "text/plain": [
       "32"
      ]
     },
     "execution_count": 15,
     "metadata": {},
     "output_type": "execute_result"
    }
   ],
   "source": [
    "i=11\n",
    "j=10\n",
    "id(i)-id(j)"
   ]
  },
  {
   "cell_type": "code",
   "execution_count": 16,
   "id": "65778b38",
   "metadata": {},
   "outputs": [
    {
     "data": {
      "text/plain": [
       "False"
      ]
     },
     "execution_count": 16,
     "metadata": {},
     "output_type": "execute_result"
    }
   ],
   "source": [
    "i in [1,2,1,4,[10]]"
   ]
  },
  {
   "cell_type": "code",
   "execution_count": 20,
   "id": "cc31efea",
   "metadata": {},
   "outputs": [
    {
     "ename": "SyntaxError",
     "evalue": "invalid syntax (2462551351.py, line 1)",
     "output_type": "error",
     "traceback": [
      "\u001b[1;36m  Cell \u001b[1;32mIn[20], line 1\u001b[1;36m\u001b[0m\n\u001b[1;33m    i && j\u001b[0m\n\u001b[1;37m       ^\u001b[0m\n\u001b[1;31mSyntaxError\u001b[0m\u001b[1;31m:\u001b[0m invalid syntax\n"
     ]
    }
   ],
   "source": [
    "i && j"
   ]
  },
  {
   "cell_type": "code",
   "execution_count": 23,
   "id": "89ee2cb8",
   "metadata": {},
   "outputs": [
    {
     "data": {
      "text/plain": [
       "110"
      ]
     },
     "execution_count": 23,
     "metadata": {},
     "output_type": "execute_result"
    }
   ],
   "source": [
    "100+(t:=10)"
   ]
  },
  {
   "cell_type": "code",
   "execution_count": 24,
   "id": "b5ccaf39",
   "metadata": {},
   "outputs": [
    {
     "data": {
      "text/plain": [
       "10"
      ]
     },
     "execution_count": 24,
     "metadata": {},
     "output_type": "execute_result"
    }
   ],
   "source": [
    "t"
   ]
  },
  {
   "cell_type": "code",
   "execution_count": 25,
   "id": "47093e24",
   "metadata": {},
   "outputs": [
    {
     "data": {
      "text/plain": [
       "11"
      ]
     },
     "execution_count": 25,
     "metadata": {},
     "output_type": "execute_result"
    }
   ],
   "source": [
    "10 or 11"
   ]
  },
  {
   "cell_type": "code",
   "execution_count": 26,
   "id": "e31c3387",
   "metadata": {},
   "outputs": [
    {
     "data": {
      "text/plain": [
       "True"
      ]
     },
     "execution_count": 26,
     "metadata": {},
     "output_type": "execute_result"
    }
   ],
   "source": [
    "x=10\n",
    "10<=x<20"
   ]
  },
  {
   "cell_type": "code",
   "execution_count": 35,
   "id": "65eacd0b",
   "metadata": {},
   "outputs": [
    {
     "name": "stdout",
     "output_type": "stream",
     "text": [
      "True\n"
     ]
    },
    {
     "data": {
      "text/plain": [
       "True"
      ]
     },
     "execution_count": 35,
     "metadata": {},
     "output_type": "execute_result"
    }
   ],
   "source": [
    "x=10\n",
    "if(x<20 and x>=10):\n",
    "    print(True)\n",
    "else:\n",
    "    print(False)\n",
    "x<20 and x>=10"
   ]
  },
  {
   "cell_type": "code",
   "execution_count": 42,
   "id": "8882cc82",
   "metadata": {},
   "outputs": [
    {
     "data": {
      "text/plain": [
       "False"
      ]
     },
     "execution_count": 42,
     "metadata": {},
     "output_type": "execute_result"
    }
   ],
   "source": [
    "bool(None)"
   ]
  },
  {
   "cell_type": "code",
   "execution_count": 44,
   "id": "deefbd50",
   "metadata": {},
   "outputs": [
    {
     "data": {
      "text/plain": [
       "11"
      ]
     },
     "execution_count": 44,
     "metadata": {},
     "output_type": "execute_result"
    }
   ],
   "source": [
    "a=11\n",
    "10 if a!=11 else 11  "
   ]
  },
  {
   "cell_type": "code",
   "execution_count": 45,
   "id": "8abddad7",
   "metadata": {},
   "outputs": [
    {
     "data": {
      "text/plain": [
       "20.2"
      ]
     },
     "execution_count": 45,
     "metadata": {},
     "output_type": "execute_result"
    }
   ],
   "source": [
    "10+10.2"
   ]
  },
  {
   "cell_type": "code",
   "execution_count": 46,
   "id": "3cd36363",
   "metadata": {},
   "outputs": [
    {
     "data": {
      "text/plain": [
       "11"
      ]
     },
     "execution_count": 46,
     "metadata": {},
     "output_type": "execute_result"
    }
   ],
   "source": [
    "10+True"
   ]
  },
  {
   "cell_type": "code",
   "execution_count": 49,
   "id": "c32884ea",
   "metadata": {},
   "outputs": [
    {
     "data": {
      "text/plain": [
       "140707285406792"
      ]
     },
     "execution_count": 49,
     "metadata": {},
     "output_type": "execute_result"
    }
   ],
   "source": [
    "a=10\n",
    "id(a)"
   ]
  },
  {
   "cell_type": "code",
   "execution_count": 50,
   "id": "c8ff7d86",
   "metadata": {},
   "outputs": [
    {
     "data": {
      "text/plain": [
       "140707285406824"
      ]
     },
     "execution_count": 50,
     "metadata": {},
     "output_type": "execute_result"
    }
   ],
   "source": [
    "a=11\n",
    "id(a)"
   ]
  },
  {
   "cell_type": "code",
   "execution_count": null,
   "id": "e2a63104",
   "metadata": {},
   "outputs": [],
   "source": [
    "getsizeof()"
   ]
  },
  {
   "cell_type": "code",
   "execution_count": 51,
   "id": "f7b56838",
   "metadata": {},
   "outputs": [
    {
     "data": {
      "text/plain": [
       "(3+4j)"
      ]
     },
     "execution_count": 51,
     "metadata": {},
     "output_type": "execute_result"
    }
   ],
   "source": [
    "complex(3,4)"
   ]
  },
  {
   "cell_type": "code",
   "execution_count": 53,
   "id": "a7882518",
   "metadata": {},
   "outputs": [
    {
     "name": "stdout",
     "output_type": "stream",
     "text": [
      "Half matched\n"
     ]
    }
   ],
   "source": [
    "a='veer'\n",
    "match a:\n",
    "    case 'praveer':\n",
    "        print(\"Matched\")\n",
    "    case 'veer':\n",
    "        print(\"Half matched\")\n",
    "    case 'er':\n",
    "        print(\"1/4 matched\");\n",
    "    case _:\n",
    "        print(\"Nothing matched\");\n",
    "        "
   ]
  },
  {
   "cell_type": "markdown",
   "id": "59f3d478",
   "metadata": {},
   "source": [
    "# Guessing game(While  eg)\n",
    "### We will select jackpot number between 1 to 100, Ask user to guess jackpot number (take number from user), If jackpot number is > user number then print \"Enter greater number\" else if jackpot number is < user number then print \"Enter lesser number \" else (equal ) then stop the game and tell user how much attempt you had taken."
   ]
  },
  {
   "cell_type": "code",
   "execution_count": 56,
   "id": "3d7329da",
   "metadata": {},
   "outputs": [
    {
     "name": "stdout",
     "output_type": "stream",
     "text": [
      "Enter the number between 1 to 10012\n",
      "Enter greater number\n",
      "Enter the number again 12\n",
      "Enter greater number\n",
      "Enter the number again 13\n",
      "Enter greater number\n",
      "Enter the number again 2\n",
      "Enter greater number\n",
      "Enter the number again 34\n",
      "Enter lesser number\n",
      "Enter the number again 28.0\n"
     ]
    },
    {
     "ename": "ValueError",
     "evalue": "invalid literal for int() with base 10: '28.0'",
     "output_type": "error",
     "traceback": [
      "\u001b[1;31m---------------------------------------------------------------------------\u001b[0m",
      "\u001b[1;31mValueError\u001b[0m                                Traceback (most recent call last)",
      "Cell \u001b[1;32mIn[56], line 10\u001b[0m\n\u001b[0;32m      8\u001b[0m     \u001b[38;5;28;01melse\u001b[39;00m:\n\u001b[0;32m      9\u001b[0m         \u001b[38;5;28mprint\u001b[39m(\u001b[38;5;124m\"\u001b[39m\u001b[38;5;124mEnter lesser number\u001b[39m\u001b[38;5;124m\"\u001b[39m)\n\u001b[1;32m---> 10\u001b[0m     user_number \u001b[38;5;241m=\u001b[39m \u001b[38;5;28mint\u001b[39m(\u001b[38;5;28minput\u001b[39m(\u001b[38;5;124m\"\u001b[39m\u001b[38;5;124mEnter the number again \u001b[39m\u001b[38;5;124m\"\u001b[39m))\n\u001b[0;32m     13\u001b[0m \u001b[38;5;28;01melse\u001b[39;00m:\n\u001b[0;32m     14\u001b[0m     \u001b[38;5;28mprint\u001b[39m(\u001b[38;5;124m\"\u001b[39m\u001b[38;5;124mTotal chance to guess the number\u001b[39m\u001b[38;5;124m\"\u001b[39m,count)\n",
      "\u001b[1;31mValueError\u001b[0m: invalid literal for int() with base 10: '28.0'"
     ]
    }
   ],
   "source": [
    "jackpot_number = 28\n",
    "user_number = int(input(\"Enter the number between 1 to 100\"))\n",
    "count=0\n",
    "while user_number!=jackpot_number:\n",
    "    count+=1\n",
    "    if jackpot_number>user_number:\n",
    "        print(\"Enter greater number\")\n",
    "    else:\n",
    "        print(\"Enter lesser number\")\n",
    "    user_number = int(input(\"Enter the number again \"))\n",
    "\n",
    "        \n",
    "else:\n",
    "    print(\"Total chance to guess the number\",count)\n",
    "    \n"
   ]
  },
  {
   "cell_type": "code",
   "execution_count": 57,
   "id": "e1c5cae9",
   "metadata": {},
   "outputs": [
    {
     "name": "stdout",
     "output_type": "stream",
     "text": [
      "1\n",
      "2\n",
      "3\n",
      "4\n",
      "5\n",
      "6\n",
      "7\n",
      "8\n",
      "9\n"
     ]
    }
   ],
   "source": [
    "for i in range(1,10):\n",
    "    print(i)"
   ]
  },
  {
   "cell_type": "code",
   "execution_count": 58,
   "id": "49550a3c",
   "metadata": {},
   "outputs": [
    {
     "name": "stdout",
     "output_type": "stream",
     "text": [
      "1\n",
      "2\n",
      "3\n",
      "4\n",
      "5\n",
      "6\n",
      "7\n",
      "8\n",
      "9\n",
      "10\n"
     ]
    }
   ],
   "source": [
    "for i in [1,2,3,4,5,6,7,8,9,10]:\n",
    "    print(i)"
   ]
  },
  {
   "cell_type": "code",
   "execution_count": 59,
   "id": "5e5f4f24",
   "metadata": {},
   "outputs": [
    {
     "name": "stdout",
     "output_type": "stream",
     "text": [
      "1\n",
      "2\n",
      "3\n",
      "4\n",
      "5\n",
      "6\n",
      "7\n",
      "8\n",
      "9\n",
      "10\n"
     ]
    }
   ],
   "source": [
    "for i in (1,2,3,4,5,6,7,8,9,10):\n",
    "    print(i)"
   ]
  },
  {
   "cell_type": "code",
   "execution_count": 60,
   "id": "58f7ebfe",
   "metadata": {},
   "outputs": [
    {
     "name": "stdout",
     "output_type": "stream",
     "text": [
      "P\n",
      "u\n",
      "n\n",
      "e\n"
     ]
    }
   ],
   "source": [
    "for i in \"Pune\":\n",
    "    print(i)"
   ]
  },
  {
   "cell_type": "code",
   "execution_count": 61,
   "id": "756edd0e",
   "metadata": {},
   "outputs": [
    {
     "name": "stdout",
     "output_type": "stream",
     "text": [
      "1\n",
      "2\n",
      "3\n",
      "4\n"
     ]
    }
   ],
   "source": [
    "for i in {1,2,3,4}:\n",
    "    print(i)"
   ]
  },
  {
   "cell_type": "code",
   "execution_count": 62,
   "id": "072da533",
   "metadata": {},
   "outputs": [
    {
     "name": "stdout",
     "output_type": "stream",
     "text": [
      "1\n",
      "2\n",
      "3\n"
     ]
    }
   ],
   "source": [
    "for i in {1:'a',2:'b',3:'c'}:\n",
    "    print(i)"
   ]
  },
  {
   "cell_type": "code",
   "execution_count": 75,
   "id": "a3737cab",
   "metadata": {},
   "outputs": [
    {
     "name": "stdout",
     "output_type": "stream",
     "text": [
      "1.6458333333333333\n"
     ]
    }
   ],
   "source": [
    "n=4\n",
    "result = 0\n",
    "fact=1\n",
    "for i in range(1,n+1):\n",
    "    fact = fact*i\n",
    "    result += i/fact\n",
    "    fact +=fact\n",
    "    \n",
    "print(result)"
   ]
  },
  {
   "cell_type": "code",
   "execution_count": 77,
   "id": "3a9e0772",
   "metadata": {},
   "outputs": [],
   "source": [
    "a=10\n",
    "if a==10:\n",
    "    pass\n",
    "else:\n",
    "    print(\"not equal\")"
   ]
  },
  {
   "cell_type": "markdown",
   "id": "d484bc24",
   "metadata": {},
   "source": [
    "# String"
   ]
  },
  {
   "cell_type": "code",
   "execution_count": 82,
   "id": "4af03f86",
   "metadata": {},
   "outputs": [
    {
     "data": {
      "text/plain": [
       "(1878112100848, 1878112100848, 1878112100848)"
      ]
     },
     "execution_count": 82,
     "metadata": {},
     "output_type": "execute_result"
    }
   ],
   "source": [
    "#All are same\n",
    "s1 = 'hello'\n",
    "s2 = \"hello\"\n",
    "s3 = \"\"\"hello\"\"\"\n",
    "id(s1),id(s2),id(s3)"
   ]
  },
  {
   "cell_type": "code",
   "execution_count": 83,
   "id": "a34a61cf",
   "metadata": {},
   "outputs": [
    {
     "data": {
      "text/plain": [
       "'my name \\nis praveer'"
      ]
     },
     "execution_count": 83,
     "metadata": {},
     "output_type": "execute_result"
    }
   ],
   "source": [
    "s4 = \"\"\"my name \n",
    "is praveer\"\"\"# multi line \n",
    "s4"
   ]
  },
  {
   "cell_type": "code",
   "execution_count": 101,
   "id": "423b1424",
   "metadata": {},
   "outputs": [
    {
     "name": "stdout",
     "output_type": "stream",
     "text": [
      "patarpreevarp\n",
      "paerrt\n",
      "trre\n",
      "aape\n",
      "\n"
     ]
    }
   ],
   "source": [
    "s5 = 'praveerpratap'\n",
    "print(s5[::-1])\n",
    "print(s5[0:12:2])\n",
    "print(s5[10:2:-2])\n",
    "print(s5[-2:3:-2])# doubt\n",
    "print(s5[-2:-10:2])"
   ]
  },
  {
   "cell_type": "code",
   "execution_count": 102,
   "id": "4aaf77a6",
   "metadata": {},
   "outputs": [
    {
     "ename": "NameError",
     "evalue": "name 's6' is not defined",
     "output_type": "error",
     "traceback": [
      "\u001b[1;31m---------------------------------------------------------------------------\u001b[0m",
      "\u001b[1;31mNameError\u001b[0m                                 Traceback (most recent call last)",
      "Cell \u001b[1;32mIn[102], line 3\u001b[0m\n\u001b[0;32m      1\u001b[0m s6 \u001b[38;5;241m=\u001b[39m \u001b[38;5;124m\"\u001b[39m\u001b[38;5;124mpraveer\u001b[39m\u001b[38;5;124m\"\u001b[39m\n\u001b[0;32m      2\u001b[0m \u001b[38;5;28;01mdel\u001b[39;00m s6\n\u001b[1;32m----> 3\u001b[0m \u001b[38;5;28mprint\u001b[39m(s6)\n",
      "\u001b[1;31mNameError\u001b[0m: name 's6' is not defined"
     ]
    }
   ],
   "source": [
    "s6 = \"praveer\"\n",
    "del s6\n",
    "print(s6)"
   ]
  },
  {
   "cell_type": "code",
   "execution_count": 104,
   "id": "7dbbbf80",
   "metadata": {},
   "outputs": [
    {
     "ename": "TypeError",
     "evalue": "'str' object does not support item deletion",
     "output_type": "error",
     "traceback": [
      "\u001b[1;31m---------------------------------------------------------------------------\u001b[0m",
      "\u001b[1;31mTypeError\u001b[0m                                 Traceback (most recent call last)",
      "Cell \u001b[1;32mIn[104], line 2\u001b[0m\n\u001b[0;32m      1\u001b[0m s6 \u001b[38;5;241m=\u001b[39m \u001b[38;5;124m\"\u001b[39m\u001b[38;5;124mpraveer\u001b[39m\u001b[38;5;124m\"\u001b[39m\n\u001b[1;32m----> 2\u001b[0m \u001b[38;5;28;01mdel\u001b[39;00m s6[\u001b[38;5;241m1\u001b[39m:\u001b[38;5;241m2\u001b[39m]\n",
      "\u001b[1;31mTypeError\u001b[0m: 'str' object does not support item deletion"
     ]
    }
   ],
   "source": [
    "s6 = \"praveer\"\n",
    "del s6[1:2]#string is immutable\n"
   ]
  },
  {
   "cell_type": "code",
   "execution_count": 105,
   "id": "fe6153fa",
   "metadata": {},
   "outputs": [
    {
     "data": {
      "text/plain": [
       "'praveerpratap'"
      ]
     },
     "execution_count": 105,
     "metadata": {},
     "output_type": "execute_result"
    }
   ],
   "source": [
    "\"praveer\"+\"pratap\""
   ]
  },
  {
   "cell_type": "code",
   "execution_count": 106,
   "id": "1a935bde",
   "metadata": {},
   "outputs": [
    {
     "data": {
      "text/plain": [
       "'**************************************************'"
      ]
     },
     "execution_count": 106,
     "metadata": {},
     "output_type": "execute_result"
    }
   ],
   "source": [
    "\"*\"*50"
   ]
  },
  {
   "cell_type": "code",
   "execution_count": 107,
   "id": "02f3f935",
   "metadata": {},
   "outputs": [
    {
     "data": {
      "text/plain": [
       "'hello'"
      ]
     },
     "execution_count": 107,
     "metadata": {},
     "output_type": "execute_result"
    }
   ],
   "source": [
    "'hello' or 'world' # checks 1st value if true then print 1st value no need to check the next value"
   ]
  },
  {
   "cell_type": "code",
   "execution_count": 108,
   "id": "e508e617",
   "metadata": {},
   "outputs": [
    {
     "data": {
      "text/plain": [
       "'world'"
      ]
     },
     "execution_count": 108,
     "metadata": {},
     "output_type": "execute_result"
    }
   ],
   "source": [
    "'hello' and 'world' # in and it check 1st then 2nd if 2nd is true then print that 2nd one"
   ]
  },
  {
   "cell_type": "code",
   "execution_count": 109,
   "id": "e3c5c1a6",
   "metadata": {},
   "outputs": [
    {
     "data": {
      "text/plain": [
       "'hello'"
      ]
     },
     "execution_count": 109,
     "metadata": {},
     "output_type": "execute_result"
    }
   ],
   "source": [
    "'' or 'hello'"
   ]
  },
  {
   "cell_type": "code",
   "execution_count": 110,
   "id": "4244c404",
   "metadata": {},
   "outputs": [
    {
     "data": {
      "text/plain": [
       "'hello'"
      ]
     },
     "execution_count": 110,
     "metadata": {},
     "output_type": "execute_result"
    }
   ],
   "source": [
    "'' or 'hello'"
   ]
  },
  {
   "cell_type": "code",
   "execution_count": 111,
   "id": "a63b5f83",
   "metadata": {},
   "outputs": [
    {
     "name": "stdout",
     "output_type": "stream",
     "text": [
      "p\n",
      "r\n",
      "a\n",
      "v\n",
      "e\n",
      "e\n",
      "r\n"
     ]
    }
   ],
   "source": [
    "for i in 'praveer':\n",
    "    print(i)"
   ]
  },
  {
   "cell_type": "code",
   "execution_count": 115,
   "id": "95e2d028",
   "metadata": {},
   "outputs": [
    {
     "name": "stdout",
     "output_type": "stream",
     "text": [
      "7 v a ['a', 'e', 'e', 'p', 'r', 'r', 'v']\n"
     ]
    }
   ],
   "source": [
    "s7=\"praveer\"\n",
    "print(len(s7),max(s7),min(s7),sorted(s7,reverse=True))"
   ]
  },
  {
   "cell_type": "code",
   "execution_count": 116,
   "id": "5db27c23",
   "metadata": {},
   "outputs": [
    {
     "data": {
      "text/plain": [
       "'PRAVEER'"
      ]
     },
     "execution_count": 116,
     "metadata": {},
     "output_type": "execute_result"
    }
   ],
   "source": [
    "s7.upper()"
   ]
  },
  {
   "cell_type": "code",
   "execution_count": 118,
   "id": "57c85c92",
   "metadata": {},
   "outputs": [
    {
     "data": {
      "text/plain": [
       "'praveer'"
      ]
     },
     "execution_count": 118,
     "metadata": {},
     "output_type": "execute_result"
    }
   ],
   "source": [
    "s7.lower()"
   ]
  },
  {
   "cell_type": "code",
   "execution_count": 121,
   "id": "5c1e7d75",
   "metadata": {},
   "outputs": [
    {
     "data": {
      "text/plain": [
       "['pr', 'veerpr', 't', 'ppr', 'veer']"
      ]
     },
     "execution_count": 121,
     "metadata": {},
     "output_type": "execute_result"
    }
   ],
   "source": [
    "l1=\"praveerpratappraveer\".split('a')\n",
    "l1"
   ]
  },
  {
   "cell_type": "code",
   "execution_count": 123,
   "id": "8063216a",
   "metadata": {},
   "outputs": [
    {
     "data": {
      "text/plain": [
       "'pr veerpr t ppr veer'"
      ]
     },
     "execution_count": 123,
     "metadata": {},
     "output_type": "execute_result"
    }
   ],
   "source": [
    "\" \".join(l1)"
   ]
  },
  {
   "cell_type": "code",
   "execution_count": 125,
   "id": "ccbffff4",
   "metadata": {},
   "outputs": [
    {
     "data": {
      "text/plain": [
       "'pra     '"
      ]
     },
     "execution_count": 125,
     "metadata": {},
     "output_type": "execute_result"
    }
   ],
   "source": [
    "'pra     '.strip()"
   ]
  },
  {
   "cell_type": "code",
   "execution_count": 129,
   "id": "207d6fcd",
   "metadata": {},
   "outputs": [
    {
     "name": "stdout",
     "output_type": "stream",
     "text": [
      "length is  7\n"
     ]
    }
   ],
   "source": [
    "s8=\"praveer\"\n",
    "count=0\n",
    "for i in s8:\n",
    "    count +=1\n",
    "else:\n",
    "    print(\"length is \", count)"
   ]
  },
  {
   "cell_type": "code",
   "execution_count": 131,
   "id": "dad69fcd",
   "metadata": {},
   "outputs": [
    {
     "data": {
      "text/plain": [
       "1"
      ]
     },
     "execution_count": 131,
     "metadata": {},
     "output_type": "execute_result"
    }
   ],
   "source": [
    "\"praveer\".count('a')"
   ]
  },
  {
   "cell_type": "code",
   "execution_count": 142,
   "id": "f572245f",
   "metadata": {},
   "outputs": [
    {
     "name": "stdout",
     "output_type": "stream",
     "text": [
      "palindrome\n"
     ]
    }
   ],
   "source": [
    "#palindrome\n",
    "s9='maam'\n",
    "\"\"\"if s9==s9[::-1]:\n",
    "    print(\"palindrome\")\n",
    "else:\n",
    "    print(\"not palindrome\")\"\"\"\n",
    "flag=True\n",
    "for i in range(len(s9)//2-1):\n",
    "    if s9[i]!=s9[len(s9)-1-i]:\n",
    "        flag=False\n",
    "else:\n",
    "    if(flag==True):\n",
    "        print(\"palindrome\")\n",
    "    else:\n",
    "        print(\"not palindrome\")\n",
    "        "
   ]
  },
  {
   "cell_type": "code",
   "execution_count": 155,
   "id": "7be5340a",
   "metadata": {},
   "outputs": [
    {
     "name": "stdout",
     "output_type": "stream",
     "text": [
      "['My', 'name', 'is', 'praveer']\n"
     ]
    }
   ],
   "source": [
    "#number of words\n",
    "s10 = \"  My name is     praveer     \"\n",
    "l1=[]\n",
    "str1=''\n",
    "for i in s10:\n",
    "    if i!=' ':\n",
    "        str1 +=i\n",
    "    else:\n",
    "        if str1!='':\n",
    "            l1.append(str1)\n",
    "            str1=''\n",
    "print(l1)"
   ]
  },
  {
   "cell_type": "code",
   "execution_count": 157,
   "id": "bd3c89b9",
   "metadata": {},
   "outputs": [
    {
     "name": "stdout",
     "output_type": "stream",
     "text": [
      "123\n"
     ]
    }
   ],
   "source": [
    "n1 = 123\n",
    "str11=str(n1)\n",
    "print(str11)"
   ]
  },
  {
   "cell_type": "code",
   "execution_count": null,
   "id": "c7e74f50",
   "metadata": {},
   "outputs": [],
   "source": []
  },
  {
   "cell_type": "code",
   "execution_count": null,
   "id": "4aa7500e",
   "metadata": {},
   "outputs": [],
   "source": []
  },
  {
   "cell_type": "markdown",
   "id": "88df9d4d",
   "metadata": {},
   "source": [
    "# List"
   ]
  },
  {
   "cell_type": "code",
   "execution_count": 31,
   "id": "f17dec2d",
   "metadata": {},
   "outputs": [
    {
     "name": "stdout",
     "output_type": "stream",
     "text": [
      "140720460567368\n",
      "140720460567368\n"
     ]
    }
   ],
   "source": [
    "l1=[0,1,2,3,4]\n",
    "print(id(2))\n",
    "print(id(l1[2]))"
   ]
  },
  {
   "cell_type": "markdown",
   "id": "8b3a4f7b",
   "metadata": {},
   "source": [
    "## adding the element in the list"
   ]
  },
  {
   "cell_type": "code",
   "execution_count": 32,
   "id": "e552c464",
   "metadata": {},
   "outputs": [
    {
     "name": "stdout",
     "output_type": "stream",
     "text": [
      "[0, 1, 2, 3, 4, 5]\n"
     ]
    }
   ],
   "source": [
    "l1.append(5)\n",
    "print(l1)"
   ]
  },
  {
   "cell_type": "code",
   "execution_count": 33,
   "id": "4a0a5528",
   "metadata": {},
   "outputs": [
    {
     "name": "stdout",
     "output_type": "stream",
     "text": [
      "[0, 1, 2, 3, 4, 5, 10, 20]\n"
     ]
    }
   ],
   "source": [
    "l1.extend([10,20])\n",
    "print(l1)"
   ]
  },
  {
   "cell_type": "code",
   "execution_count": 3,
   "id": "b394b845",
   "metadata": {},
   "outputs": [
    {
     "name": "stdout",
     "output_type": "stream",
     "text": [
      "[1, 2, 3, 4, 5, 6, 7, 8, 9]\n"
     ]
    }
   ],
   "source": [
    "l2=[[1,2,3],[4,5,6],[7,8,9]]\n",
    "l3=[]\n",
    "for i in l2:\n",
    "    l3.extend(i)\n",
    "print(l3)"
   ]
  },
  {
   "cell_type": "code",
   "execution_count": 39,
   "id": "d00230e5",
   "metadata": {},
   "outputs": [
    {
     "name": "stdout",
     "output_type": "stream",
     "text": [
      "[0, 100, 1, 2, 3, 4, 5, 10, 20]\n"
     ]
    }
   ],
   "source": [
    "l1.insert(1,100)\n",
    "print(l1)"
   ]
  },
  {
   "cell_type": "code",
   "execution_count": 40,
   "id": "7b89ce63",
   "metadata": {},
   "outputs": [],
   "source": [
    "del l1[0]\n"
   ]
  },
  {
   "cell_type": "code",
   "execution_count": 41,
   "id": "76c38888",
   "metadata": {},
   "outputs": [
    {
     "name": "stdout",
     "output_type": "stream",
     "text": [
      "[100, 1, 2, 3, 4, 5, 10, 20]\n"
     ]
    }
   ],
   "source": [
    "print(l1)"
   ]
  },
  {
   "cell_type": "code",
   "execution_count": 42,
   "id": "13c567dc",
   "metadata": {},
   "outputs": [
    {
     "name": "stdout",
     "output_type": "stream",
     "text": [
      "8 100 1 [1, 2, 3, 4, 5, 10, 20, 100]\n"
     ]
    }
   ],
   "source": [
    "#comman function\n",
    "print(len(l1),max(l1),min(l1),sorted(l1))"
   ]
  },
  {
   "cell_type": "code",
   "execution_count": 44,
   "id": "fda30457",
   "metadata": {},
   "outputs": [
    {
     "data": {
      "text/plain": [
       "[100, 1, 2, 3, 4, 5, 10, 20, 100, 1, 2, 3, 4, 5, 10, 20]"
      ]
     },
     "execution_count": 44,
     "metadata": {},
     "output_type": "execute_result"
    }
   ],
   "source": [
    "l1+l1"
   ]
  },
  {
   "cell_type": "markdown",
   "id": "cfefc676",
   "metadata": {},
   "source": [
    "## List Comprehnsion"
   ]
  },
  {
   "cell_type": "code",
   "execution_count": 45,
   "id": "965cef93",
   "metadata": {},
   "outputs": [
    {
     "name": "stdout",
     "output_type": "stream",
     "text": [
      "['abc', 'adef', 'aef']\n"
     ]
    }
   ],
   "source": [
    "# getting only the string which starts from a\n",
    "l1=['abc','adef','def','frg','aef']\n",
    "l2=[i for i in l1 if i[0]=='a']\n",
    "print(l2)"
   ]
  },
  {
   "cell_type": "code",
   "execution_count": 53,
   "id": "563ecc73",
   "metadata": {},
   "outputs": [
    {
     "name": "stdout",
     "output_type": "stream",
     "text": [
      "['apple']\n"
     ]
    }
   ],
   "source": [
    "basket = ['apple','guava','cherry','banana']\n",
    "fruits = ['apple','kiwi','avocado','banana']\n",
    "new_list = [fruit for fruit in fruits if fruit in basket if fruit[0]=='a' ]\n",
    "print(new_list)"
   ]
  },
  {
   "cell_type": "code",
   "execution_count": 14,
   "id": "df1e16c4",
   "metadata": {},
   "outputs": [
    {
     "name": "stdout",
     "output_type": "stream",
     "text": [
      "[(1, 91), (2, 82), (3, 73), (4, 64)]\n",
      "92\n",
      "84\n",
      "76\n",
      "68\n"
     ]
    },
    {
     "data": {
      "text/plain": [
       "[91, 164, 219, 256]"
      ]
     },
     "execution_count": 14,
     "metadata": {},
     "output_type": "execute_result"
    }
   ],
   "source": [
    "l1=[1,2,3,4]\n",
    "l2=[91,82,73,64,1]\n",
    "print(list(zip(l1,l2)))\n",
    "for i,j in zip(l1,l2):\n",
    "    print(i+j)\n",
    "[i*j for i,j in zip(l1,l2)]"
   ]
  },
  {
   "cell_type": "code",
   "execution_count": null,
   "id": "afe9b7f7",
   "metadata": {},
   "outputs": [],
   "source": []
  },
  {
   "cell_type": "markdown",
   "id": "6c9e5301",
   "metadata": {},
   "source": [
    "# Tuple"
   ]
  },
  {
   "cell_type": "code",
   "execution_count": 1,
   "id": "68299b99",
   "metadata": {},
   "outputs": [
    {
     "name": "stdout",
     "output_type": "stream",
     "text": [
      "<class 'tuple'> <class 'str'> <class 'tuple'>\n"
     ]
    }
   ],
   "source": [
    "t1=()\n",
    "t2=(\"Praveer\")#not a tuple it is string\n",
    "t3=(\"Praveer\",)\n",
    "print(type(t1),type(t2),type(t3))"
   ]
  },
  {
   "cell_type": "code",
   "execution_count": 2,
   "id": "2ffd3410",
   "metadata": {},
   "outputs": [
    {
     "name": "stdout",
     "output_type": "stream",
     "text": [
      "('P', 'r', 'a', 'v', 'e', 'e', 'r') (1, 2, 3, 4)\n"
     ]
    }
   ],
   "source": [
    "t4=tuple(\"Praveer\")\n",
    "t5=tuple([1,2,3,4])\n",
    "print(t4,t5)"
   ]
  },
  {
   "cell_type": "code",
   "execution_count": 6,
   "id": "c570b5af",
   "metadata": {},
   "outputs": [
    {
     "name": "stdout",
     "output_type": "stream",
     "text": [
      "2\n",
      "3\n"
     ]
    }
   ],
   "source": [
    "for i in t5[1:3]:\n",
    "    print(i)"
   ]
  },
  {
   "cell_type": "code",
   "execution_count": 7,
   "id": "7582d95f",
   "metadata": {},
   "outputs": [
    {
     "data": {
      "text/plain": [
       "(1, 2, 3, 4, 2, 3, 4)"
      ]
     },
     "execution_count": 7,
     "metadata": {},
     "output_type": "execute_result"
    }
   ],
   "source": [
    "(1,2,3,4)+(2,3,4)"
   ]
  },
  {
   "cell_type": "code",
   "execution_count": 9,
   "id": "1b21b6ea",
   "metadata": {},
   "outputs": [
    {
     "data": {
      "text/plain": [
       "True"
      ]
     },
     "execution_count": 9,
     "metadata": {},
     "output_type": "execute_result"
    }
   ],
   "source": [
    "1 in (1,2,3,4)"
   ]
  },
  {
   "cell_type": "code",
   "execution_count": 13,
   "id": "d4dafa0d",
   "metadata": {},
   "outputs": [
    {
     "name": "stdout",
     "output_type": "stream",
     "text": [
      "1 2 3\n"
     ]
    }
   ],
   "source": [
    "a,b,c=(1,2,3)\n",
    "print(a,b,c)"
   ]
  },
  {
   "cell_type": "code",
   "execution_count": 12,
   "id": "0df872e5",
   "metadata": {},
   "outputs": [
    {
     "name": "stdout",
     "output_type": "stream",
     "text": [
      "1 2 [3, 4, 5]\n"
     ]
    }
   ],
   "source": [
    "a,b,*c=(1,2,3,4,5)\n",
    "print(a,b,c)"
   ]
  },
  {
   "cell_type": "code",
   "execution_count": 15,
   "id": "d075e777",
   "metadata": {},
   "outputs": [
    {
     "data": {
      "text/plain": [
       "7"
      ]
     },
     "execution_count": 15,
     "metadata": {},
     "output_type": "execute_result"
    }
   ],
   "source": [
    "len(t2)"
   ]
  },
  {
   "cell_type": "markdown",
   "id": "da3be2e6",
   "metadata": {},
   "source": [
    "# Sets"
   ]
  },
  {
   "cell_type": "code",
   "execution_count": 18,
   "id": "5b884025",
   "metadata": {},
   "outputs": [
    {
     "name": "stdout",
     "output_type": "stream",
     "text": [
      "{1, 2, 3, 4}\n"
     ]
    }
   ],
   "source": [
    "a={1,2,3,4,4}\n",
    "print(a)"
   ]
  },
  {
   "cell_type": "code",
   "execution_count": 20,
   "id": "a427b7d5",
   "metadata": {},
   "outputs": [],
   "source": [
    "#b={1,2,{1,2},[3,4]} error as set and list is mutable so can't be the element of the set"
   ]
  },
  {
   "cell_type": "code",
   "execution_count": 24,
   "id": "835fad3d",
   "metadata": {},
   "outputs": [
    {
     "name": "stdout",
     "output_type": "stream",
     "text": [
      "<class 'set'> <class 'dict'>\n"
     ]
    }
   ],
   "source": [
    "b=set()\n",
    "c={}# not a set\n",
    "print(type(b),type(c))"
   ]
  },
  {
   "cell_type": "code",
   "execution_count": 26,
   "id": "18ee25ec",
   "metadata": {},
   "outputs": [
    {
     "data": {
      "text/plain": [
       "{(3, 4), 1, 2, 'Hello'}"
      ]
     },
     "execution_count": 26,
     "metadata": {},
     "output_type": "execute_result"
    }
   ],
   "source": [
    "s1={1,2,\"Hello\",(3,4),True}# as 1 and True are same as set removes the dubllicates\n",
    "s1"
   ]
  },
  {
   "cell_type": "code",
   "execution_count": 36,
   "id": "24cc6c1e",
   "metadata": {},
   "outputs": [
    {
     "data": {
      "text/plain": [
       "{1, 2, 3, 4, 5, 6, 7, 8, 30, 31, 98}"
      ]
     },
     "execution_count": 36,
     "metadata": {},
     "output_type": "execute_result"
    }
   ],
   "source": [
    "s2={8,31,7,1,30,4,5,6,98,1,2,3,4}\n",
    "s2"
   ]
  },
  {
   "cell_type": "code",
   "execution_count": 37,
   "id": "ed38d335",
   "metadata": {},
   "outputs": [
    {
     "data": {
      "text/plain": [
       "True"
      ]
     },
     "execution_count": 37,
     "metadata": {},
     "output_type": "execute_result"
    }
   ],
   "source": [
    "s1={1,2,3}\n",
    "s2={3,2,1}\n",
    "s1==s2 "
   ]
  },
  {
   "cell_type": "code",
   "execution_count": 51,
   "id": "85f83131",
   "metadata": {},
   "outputs": [
    {
     "name": "stdout",
     "output_type": "stream",
     "text": [
      "add {1, 2, 3, 4}\n",
      "update adding multiple values {1, 2, 3, 4, 5, 6, 7}\n",
      "discard 5 {1, 2, 3, 4, 6, 7}\n",
      "remove {1, 2, 3, 4, 7}\n",
      "pop out randomly {2, 3, 4, 7}\n"
     ]
    }
   ],
   "source": [
    "s1={1,2,3}\n",
    "#Adding the element\n",
    "s1.add(4)\n",
    "print(\"add\",s1)\n",
    "s1.update([5,6,7])\n",
    "print(\"update adding multiple values\",s1)\n",
    "#del s1 # deleted the s1 but can't delete the perticular value\n",
    "s1.discard(5)\n",
    "print(\"discard 5\",s1)\n",
    "s1.remove(6)\n",
    "print(\"remove\",s1)\n",
    "s1.pop()\n",
    "print(\"pop out randomly\",s1)"
   ]
  },
  {
   "cell_type": "markdown",
   "id": "a9694b27",
   "metadata": {},
   "source": [
    "# Set Operations"
   ]
  },
  {
   "cell_type": "code",
   "execution_count": 62,
   "id": "a0f555e6",
   "metadata": {},
   "outputs": [
    {
     "name": "stdout",
     "output_type": "stream",
     "text": [
      "{1, 2, 3, 4, 5, 6} {1, 2, 3, 4, 5, 6}\n",
      "{1, 2, 3}\n",
      "{3} {3}\n",
      "{1, 2} {1, 2}\n",
      "{1, 2, 4, 5, 6} {1, 2, 4, 5, 6}\n",
      "True\n",
      "1\n",
      "2\n",
      "3\n"
     ]
    }
   ],
   "source": [
    "s1={1,2,3}\n",
    "s2={3,4,5,6}\n",
    "print(s1 | s2,s1.union(s2))\n",
    "print(s1)\n",
    "print(s1 & s2,s1.intersection(s2))\n",
    "print(s1-s2,s1.difference(s2))\n",
    "print(s1^s2,s1.symmetric_difference(s2))\n",
    "print(1 in s1)\n",
    "for i in s1:\n",
    "    print(i)"
   ]
  },
  {
   "cell_type": "code",
   "execution_count": 70,
   "id": "a0990015",
   "metadata": {},
   "outputs": [
    {
     "name": "stdout",
     "output_type": "stream",
     "text": [
      "{1, 2, 3, 4, 5, 6}\n",
      "{3, 4, 5, 6}\n"
     ]
    }
   ],
   "source": [
    "s1={1,2,3}\n",
    "s2={3,4,5,6}\n",
    "s1.update(s2)\n",
    "print(s1)\n",
    "s1.intersection_update(s2)\n",
    "print(s1)#will update the s1\n"
   ]
  },
  {
   "cell_type": "code",
   "execution_count": 73,
   "id": "6ade598a",
   "metadata": {},
   "outputs": [
    {
     "data": {
      "text/plain": [
       "{1, 4, 9}"
      ]
     },
     "execution_count": 73,
     "metadata": {},
     "output_type": "execute_result"
    }
   ],
   "source": [
    "s1={1,2,3}\n",
    "{i**2 for i in s1}"
   ]
  },
  {
   "cell_type": "code",
   "execution_count": 64,
   "id": "aed801e3",
   "metadata": {},
   "outputs": [
    {
     "name": "stdout",
     "output_type": "stream",
     "text": [
      "frozenset({1, 2, 3})\n"
     ]
    }
   ],
   "source": [
    "fs=frozenset([1,2,3])\n",
    "print(fs)"
   ]
  },
  {
   "cell_type": "code",
   "execution_count": null,
   "id": "c9c9c740",
   "metadata": {},
   "outputs": [],
   "source": []
  },
  {
   "cell_type": "markdown",
   "id": "eede2d23",
   "metadata": {},
   "source": [
    "# Dictionary"
   ]
  },
  {
   "cell_type": "code",
   "execution_count": 86,
   "id": "657cf415",
   "metadata": {},
   "outputs": [
    {
     "name": "stdout",
     "output_type": "stream",
     "text": [
      "{'name': 'Praveer', 'college': 'pict', 'sem': 4, 'subject': {'maths': 100, 'dsa': 99, 'english': 95}}\n"
     ]
    }
   ],
   "source": [
    "dict1={'name':'Praveer','college':'pict','sem':4,\"subject\":{'maths':100,'dsa':99,'english':95}}\n",
    "print(dict1)"
   ]
  },
  {
   "cell_type": "code",
   "execution_count": 87,
   "id": "06bd5355",
   "metadata": {},
   "outputs": [
    {
     "name": "stdout",
     "output_type": "stream",
     "text": [
      "Praveer\n"
     ]
    }
   ],
   "source": [
    "print(dict1[\"name\"])"
   ]
  },
  {
   "cell_type": "code",
   "execution_count": 88,
   "id": "fc0a0e1a",
   "metadata": {},
   "outputs": [
    {
     "name": "stdout",
     "output_type": "stream",
     "text": [
      "{'name': 'Praveer', 'college': 'pict', 'sem': 4, 'subject': {'maths': 100, 'dsa': 99, 'english': 95}, 'year': '2022'}\n"
     ]
    }
   ],
   "source": [
    "dict1[\"year\"]=\"2022\"# adding new key value pair\n",
    "print(dict1)"
   ]
  },
  {
   "cell_type": "code",
   "execution_count": 89,
   "id": "fb4ad700",
   "metadata": {},
   "outputs": [
    {
     "name": "stdout",
     "output_type": "stream",
     "text": [
      "{'college': 'pict', 'sem': 4, 'subject': {'maths': 100, 'dsa': 99, 'english': 95}, 'year': '2022'}\n"
     ]
    }
   ],
   "source": [
    "dict1.pop('name')\n",
    "print(dict1)"
   ]
  },
  {
   "cell_type": "code",
   "execution_count": 90,
   "id": "301f4481",
   "metadata": {},
   "outputs": [
    {
     "name": "stdout",
     "output_type": "stream",
     "text": [
      "{'college': 'pict1', 'sem': 4, 'subject': {'maths': 100, 'dsa': 99, 'english': 95}, 'year': '2022'}\n"
     ]
    }
   ],
   "source": [
    "dict1['college']='pict1'\n",
    "print(dict1)"
   ]
  },
  {
   "cell_type": "code",
   "execution_count": 92,
   "id": "6b695a28",
   "metadata": {},
   "outputs": [
    {
     "name": "stdout",
     "output_type": "stream",
     "text": [
      "name Praveer\n",
      "college pict\n",
      "sem 4\n",
      "subject {'maths': 100, 'dsa': 99, 'english': 95}\n"
     ]
    }
   ],
   "source": [
    "for i in dict:\n",
    "    print(i,dict[i])"
   ]
  },
  {
   "cell_type": "code",
   "execution_count": 94,
   "id": "9fed16c3",
   "metadata": {},
   "outputs": [
    {
     "name": "stdout",
     "output_type": "stream",
     "text": [
      "['college', 'name', 'sem', 'subject'] 4\n"
     ]
    }
   ],
   "source": [
    "print(sorted(dict),len(dict))"
   ]
  },
  {
   "cell_type": "code",
   "execution_count": 95,
   "id": "0042d498",
   "metadata": {},
   "outputs": [
    {
     "data": {
      "text/plain": [
       "dict_keys(['college', 'sem', 'subject', 'year'])"
      ]
     },
     "execution_count": 95,
     "metadata": {},
     "output_type": "execute_result"
    }
   ],
   "source": [
    "dict1.keys()#gives only key"
   ]
  },
  {
   "cell_type": "code",
   "execution_count": 96,
   "id": "6fd049b8",
   "metadata": {},
   "outputs": [
    {
     "data": {
      "text/plain": [
       "dict_values(['pict1', 4, {'maths': 100, 'dsa': 99, 'english': 95}, '2022'])"
      ]
     },
     "execution_count": 96,
     "metadata": {},
     "output_type": "execute_result"
    }
   ],
   "source": [
    "dict1.values()#gives only the value"
   ]
  },
  {
   "cell_type": "code",
   "execution_count": 97,
   "id": "01541226",
   "metadata": {},
   "outputs": [
    {
     "data": {
      "text/plain": [
       "dict_items([('college', 'pict1'), ('sem', 4), ('subject', {'maths': 100, 'dsa': 99, 'english': 95}), ('year', '2022')])"
      ]
     },
     "execution_count": 97,
     "metadata": {},
     "output_type": "execute_result"
    }
   ],
   "source": [
    "dict1.items()"
   ]
  },
  {
   "cell_type": "code",
   "execution_count": 98,
   "id": "7efc053f",
   "metadata": {},
   "outputs": [
    {
     "data": {
      "text/plain": [
       "{0: 0, 1: 1, 2: 4, 3: 9, 4: 16, 5: 25, 6: 36, 7: 49, 8: 64, 9: 81, 10: 100}"
      ]
     },
     "execution_count": 98,
     "metadata": {},
     "output_type": "execute_result"
    }
   ],
   "source": [
    "{i:i**2 for i in range(11)}"
   ]
  },
  {
   "cell_type": "code",
   "execution_count": 101,
   "id": "0dfdfd96",
   "metadata": {},
   "outputs": [
    {
     "data": {
      "text/plain": [
       "{'phone': 10, 'charger': 32}"
      ]
     },
     "execution_count": 101,
     "metadata": {},
     "output_type": "execute_result"
    }
   ],
   "source": [
    "products = {'phone':10,'laptop':0,'charger':32,\"tablet\":0}\n",
    "{i:j for i,j in products.items() if products[i]>0}"
   ]
  },
  {
   "cell_type": "code",
   "execution_count": 107,
   "id": "cb5ad28b",
   "metadata": {},
   "outputs": [
    {
     "data": {
      "text/plain": [
       "{2: {0: 0, 1: 2, 2: 4, 3: 6, 4: 8, 5: 10, 6: 12, 7: 14, 8: 16, 9: 18, 10: 20},\n",
       " 3: {0: 0, 1: 3, 2: 6, 3: 9, 4: 12, 5: 15, 6: 18, 7: 21, 8: 24, 9: 27, 10: 30},\n",
       " 4: {0: 0,\n",
       "  1: 4,\n",
       "  2: 8,\n",
       "  3: 12,\n",
       "  4: 16,\n",
       "  5: 20,\n",
       "  6: 24,\n",
       "  7: 28,\n",
       "  8: 32,\n",
       "  9: 36,\n",
       "  10: 40}}"
      ]
     },
     "execution_count": 107,
     "metadata": {},
     "output_type": "execute_result"
    }
   ],
   "source": [
    "{i:{j:i*j for j in range(11)} for i in range(2,5)}"
   ]
  },
  {
   "cell_type": "code",
   "execution_count": null,
   "id": "3277bec1",
   "metadata": {},
   "outputs": [],
   "source": []
  },
  {
   "cell_type": "markdown",
   "id": "2b9b174e",
   "metadata": {},
   "source": [
    "# Function"
   ]
  },
  {
   "cell_type": "code",
   "execution_count": 5,
   "id": "8f1e92b6",
   "metadata": {},
   "outputs": [
    {
     "data": {
      "text/plain": [
       "'Please enter integer data'"
      ]
     },
     "execution_count": 5,
     "metadata": {},
     "output_type": "execute_result"
    }
   ],
   "source": [
    "def is_even(i):\n",
    "    \"\"\"\n",
    "    this function return number is even or odd\n",
    "    \"\"\"\n",
    "    if type(i)!=int:\n",
    "        return \"Please enter integer data\"\n",
    "    if i%2==0:\n",
    "        return \"even\"\n",
    "    else:\n",
    "        return \"odd\"\n",
    "is_even([1,2])"
   ]
  },
  {
   "cell_type": "code",
   "execution_count": 16,
   "id": "cd2f760c",
   "metadata": {},
   "outputs": [
    {
     "data": {
      "text/plain": [
       "'\\n    this function return number is even or odd\\n    '"
      ]
     },
     "execution_count": 16,
     "metadata": {},
     "output_type": "execute_result"
    }
   ],
   "source": [
    "is_even.__doc__"
   ]
  },
  {
   "cell_type": "code",
   "execution_count": null,
   "id": "b14be4db",
   "metadata": {},
   "outputs": [],
   "source": [
    "# Types of argument"
   ]
  },
  {
   "cell_type": "code",
   "execution_count": 8,
   "id": "770639ee",
   "metadata": {},
   "outputs": [
    {
     "name": "stdout",
     "output_type": "stream",
     "text": [
      "3\n"
     ]
    }
   ],
   "source": [
    "# 1)Default argument\n",
    "def power(a=1,b=1):\n",
    "    print(a**b)\n",
    "power(3)"
   ]
  },
  {
   "cell_type": "code",
   "execution_count": 9,
   "id": "d4ad2843",
   "metadata": {},
   "outputs": [
    {
     "name": "stdout",
     "output_type": "stream",
     "text": [
      "9\n"
     ]
    }
   ],
   "source": [
    "# 2) position argument\n",
    "def power(a,b):\n",
    "    print(a**b)\n",
    "power(3,2)"
   ]
  },
  {
   "cell_type": "code",
   "execution_count": 10,
   "id": "5f61b890",
   "metadata": {},
   "outputs": [
    {
     "name": "stdout",
     "output_type": "stream",
     "text": [
      "9\n"
     ]
    }
   ],
   "source": [
    "# 3) keyword argument\n",
    "def power(a,b):\n",
    "    print(a**b)\n",
    "power(b=2,a=3)"
   ]
  },
  {
   "cell_type": "code",
   "execution_count": 18,
   "id": "ace1ad92",
   "metadata": {},
   "outputs": [
    {
     "name": "stdout",
     "output_type": "stream",
     "text": [
      "(1, 2, 3, 4, 5, 6)\n",
      "720\n"
     ]
    }
   ],
   "source": [
    "# *args -> we can pass any no. of non-keyword arguments\n",
    "def multiply(*args):\n",
    "    print(args)\n",
    "    res=1\n",
    "    for i in args:\n",
    "        res=res*i\n",
    "    print(res)\n",
    "multiply(1,2,3,4,5,6)"
   ]
  },
  {
   "cell_type": "code",
   "execution_count": 19,
   "id": "5a18cfa9",
   "metadata": {},
   "outputs": [
    {
     "name": "stdout",
     "output_type": "stream",
     "text": [
      "1 2 4 3 4 4 5 4\n"
     ]
    }
   ],
   "source": [
    "print(1,2,4,3,4,4,5,4)"
   ]
  },
  {
   "cell_type": "code",
   "execution_count": 22,
   "id": "81de9a7f",
   "metadata": {},
   "outputs": [
    {
     "name": "stdout",
     "output_type": "stream",
     "text": [
      "{'a': 1, 'b': 2, 'c': 3}\n",
      "a -> 1\n",
      "b -> 2\n",
      "c -> 3\n"
     ]
    }
   ],
   "source": [
    "# **kwargs -> we can pass any no. of keyword arguments\n",
    "def display(**kwargs):\n",
    "    print(kwargs)\n",
    "    for key,value in kwargs.items():\n",
    "        print(key,\"->\",value)\n",
    "display(a=1,b=2,c=3)\n",
    "\n"
   ]
  },
  {
   "cell_type": "code",
   "execution_count": null,
   "id": "f399bc0e",
   "metadata": {},
   "outputs": [],
   "source": []
  },
  {
   "cell_type": "code",
   "execution_count": 24,
   "id": "99c385dd",
   "metadata": {},
   "outputs": [],
   "source": [
    "#add(1,2) #error\n",
    "def add(a,b):\n",
    "    return a+b\n"
   ]
  },
  {
   "cell_type": "code",
   "execution_count": 1,
   "id": "22f32033",
   "metadata": {},
   "outputs": [
    {
     "name": "stdout",
     "output_type": "stream",
     "text": [
      "None\n"
     ]
    }
   ],
   "source": [
    "l1=[1,2,3,4]\n",
    "print(l1.append(5))"
   ]
  },
  {
   "cell_type": "code",
   "execution_count": 6,
   "id": "e9f4ba5f",
   "metadata": {},
   "outputs": [
    {
     "name": "stdout",
     "output_type": "stream",
     "text": [
      "inside g\n",
      "inside f\n"
     ]
    }
   ],
   "source": [
    "#nested function\n",
    "def f():\n",
    "    def g():\n",
    "        print(\"inside g\")\n",
    "    g()\n",
    "    print(\"inside f\")\n",
    "#g()error\n",
    "f()\n"
   ]
  },
  {
   "cell_type": "code",
   "execution_count": 7,
   "id": "8bbf8675",
   "metadata": {},
   "outputs": [
    {
     "name": "stdout",
     "output_type": "stream",
     "text": [
      "inside g\n",
      "inside g\n",
      "inside g\n",
      "inside g\n",
      "inside g\n",
      "inside g\n",
      "inside g\n",
      "inside g\n",
      "inside g\n",
      "inside g\n",
      "inside g\n",
      "inside g\n",
      "inside g\n",
      "inside g\n",
      "inside g\n",
      "inside g\n",
      "inside g\n",
      "inside g\n",
      "inside g\n",
      "inside g\n",
      "inside g\n",
      "inside g\n",
      "inside g\n",
      "inside g\n",
      "inside g\n",
      "inside g\n",
      "inside g\n",
      "inside g\n",
      "inside g\n",
      "inside g\n",
      "inside g\n",
      "inside g\n",
      "inside g\n",
      "inside g\n",
      "inside g\n",
      "inside g\n",
      "inside g\n",
      "inside g\n",
      "inside g\n",
      "inside g\n",
      "inside g\n",
      "inside g\n",
      "inside g\n",
      "inside g\n",
      "inside g\n",
      "inside g\n",
      "inside g\n",
      "inside g\n",
      "inside g\n",
      "inside g\n",
      "inside g\n",
      "inside g\n",
      "inside g\n",
      "inside g\n",
      "inside g\n",
      "inside g\n",
      "inside g\n",
      "inside g\n",
      "inside g\n",
      "inside g\n",
      "inside g\n",
      "inside g\n",
      "inside g\n",
      "inside g\n",
      "inside g\n",
      "inside g\n",
      "inside g\n",
      "inside g\n",
      "inside g\n",
      "inside g\n",
      "inside g\n",
      "inside g\n",
      "inside g\n",
      "inside g\n",
      "inside g\n",
      "inside g\n",
      "inside g\n",
      "inside g\n",
      "inside g\n",
      "inside g\n",
      "inside g\n",
      "inside g\n",
      "inside g\n",
      "inside g\n",
      "inside g\n",
      "inside g\n",
      "inside g\n",
      "inside g\n",
      "inside g\n",
      "inside g\n",
      "inside g\n",
      "inside g\n",
      "inside g\n",
      "inside g\n",
      "inside g\n",
      "inside g\n",
      "inside g\n",
      "inside g\n",
      "inside g\n",
      "inside g\n",
      "inside g\n",
      "inside g\n",
      "inside g\n",
      "inside g\n",
      "inside g\n",
      "inside g\n",
      "inside g\n",
      "inside g\n",
      "inside g\n",
      "inside g\n",
      "inside g\n",
      "inside g\n",
      "inside g\n",
      "inside g\n",
      "inside g\n",
      "inside g\n",
      "inside g\n",
      "inside g\n",
      "inside g\n",
      "inside g\n",
      "inside g\n",
      "inside g\n",
      "inside g\n",
      "inside g\n",
      "inside g\n",
      "inside g\n",
      "inside g\n",
      "inside g\n",
      "inside g\n",
      "inside g\n",
      "inside g\n",
      "inside g\n",
      "inside g\n",
      "inside g\n",
      "inside g\n",
      "inside g\n",
      "inside g\n",
      "inside g\n",
      "inside g\n",
      "inside g\n",
      "inside g\n",
      "inside g\n",
      "inside g\n",
      "inside g\n",
      "inside g\n",
      "inside g\n",
      "inside g\n",
      "inside g\n",
      "inside g\n",
      "inside g\n",
      "inside g\n",
      "inside g\n",
      "inside g\n",
      "inside g\n",
      "inside g\n",
      "inside g\n",
      "inside g\n",
      "inside g\n",
      "inside g\n",
      "inside g\n",
      "inside g\n",
      "inside g\n",
      "inside g\n",
      "inside g\n",
      "inside g\n",
      "inside g\n",
      "inside g\n",
      "inside g\n",
      "inside g\n",
      "inside g\n",
      "inside g\n",
      "inside g\n",
      "inside g\n",
      "inside g\n",
      "inside g\n",
      "inside g\n",
      "inside g\n",
      "inside g\n",
      "inside g\n",
      "inside g\n",
      "inside g\n",
      "inside g\n",
      "inside g\n",
      "inside g\n",
      "inside g\n",
      "inside g\n",
      "inside g\n",
      "inside g\n",
      "inside g\n",
      "inside g\n",
      "inside g\n",
      "inside g\n",
      "inside g\n",
      "inside g\n",
      "inside g\n",
      "inside g\n",
      "inside g\n",
      "inside g\n",
      "inside g\n",
      "inside g\n",
      "inside g\n",
      "inside g\n",
      "inside g\n",
      "inside g\n",
      "inside g\n",
      "inside g\n",
      "inside g\n",
      "inside g\n",
      "inside g\n",
      "inside g\n",
      "inside g\n",
      "inside g\n",
      "inside g\n",
      "inside g\n",
      "inside g\n",
      "inside g\n",
      "inside g\n",
      "inside g\n",
      "inside g\n",
      "inside g\n",
      "inside g\n",
      "inside g\n",
      "inside g\n",
      "inside g\n",
      "inside g\n",
      "inside g\n",
      "inside g\n",
      "inside g\n",
      "inside g\n",
      "inside g\n",
      "inside g\n",
      "inside g\n",
      "inside g\n",
      "inside g\n",
      "inside g\n",
      "inside g\n",
      "inside g\n",
      "inside g\n",
      "inside g\n",
      "inside g\n",
      "inside g\n",
      "inside g\n",
      "inside g\n",
      "inside g\n",
      "inside g\n",
      "inside g\n",
      "inside g\n",
      "inside g\n",
      "inside g\n",
      "inside g\n",
      "inside g\n",
      "inside g\n",
      "inside g\n",
      "inside g\n",
      "inside g\n",
      "inside g\n",
      "inside g\n",
      "inside g\n",
      "inside g\n",
      "inside g\n",
      "inside g\n",
      "inside g\n",
      "inside g\n",
      "inside g\n",
      "inside g\n",
      "inside g\n",
      "inside g\n",
      "inside g\n",
      "inside g\n",
      "inside g\n",
      "inside g\n",
      "inside g\n",
      "inside g\n",
      "inside g\n",
      "inside g\n",
      "inside g\n",
      "inside g\n",
      "inside g\n",
      "inside g\n",
      "inside g\n",
      "inside g\n",
      "inside g\n",
      "inside g\n",
      "inside g\n",
      "inside g\n",
      "inside g\n",
      "inside g\n",
      "inside g\n",
      "inside g\n",
      "inside g\n",
      "inside g\n",
      "inside g\n",
      "inside g\n",
      "inside g\n",
      "inside g\n",
      "inside g\n",
      "inside g\n",
      "inside g\n",
      "inside g\n",
      "inside g\n",
      "inside g\n",
      "inside g\n",
      "inside g\n",
      "inside g\n",
      "inside g\n",
      "inside g\n",
      "inside g\n",
      "inside g\n",
      "inside g\n",
      "inside g\n",
      "inside g\n",
      "inside g\n",
      "inside g\n",
      "inside g\n",
      "inside g\n",
      "inside g\n",
      "inside g\n",
      "inside g\n",
      "inside g\n",
      "inside g\n",
      "inside g\n",
      "inside g\n",
      "inside g\n",
      "inside g\n",
      "inside g\n",
      "inside g\n",
      "inside g\n",
      "inside g\n",
      "inside g\n",
      "inside g\n",
      "inside g\n",
      "inside g\n",
      "inside g\n",
      "inside g\n",
      "inside g\n",
      "inside g\n",
      "inside g\n",
      "inside g\n",
      "inside g\n",
      "inside g\n",
      "inside g\n",
      "inside g\n",
      "inside g\n",
      "inside g\n",
      "inside g\n",
      "inside g\n",
      "inside g\n",
      "inside g\n",
      "inside g\n",
      "inside g\n",
      "inside g\n",
      "inside g\n",
      "inside g\n",
      "inside g\n",
      "inside g\n",
      "inside g\n",
      "inside g\n",
      "inside g\n",
      "inside g\n",
      "inside g\n",
      "inside g\n",
      "inside g\n",
      "inside g\n",
      "inside g\n",
      "inside g\n",
      "inside g\n",
      "inside g\n",
      "inside g\n",
      "inside g\n",
      "inside g\n",
      "inside g\n",
      "inside g\n",
      "inside g\n",
      "inside g\n",
      "inside g\n",
      "inside g\n",
      "inside g\n",
      "inside g\n",
      "inside g\n",
      "inside g\n",
      "inside g\n",
      "inside g\n",
      "inside g\n",
      "inside g\n",
      "inside g\n",
      "inside g\n",
      "inside g\n",
      "inside g\n",
      "inside g\n",
      "inside g\n",
      "inside g\n",
      "inside g\n",
      "inside g\n",
      "inside g\n",
      "inside g\n",
      "inside g\n",
      "inside g\n",
      "inside g\n",
      "inside g\n",
      "inside g\n",
      "inside g\n",
      "inside g\n",
      "inside g\n",
      "inside g\n",
      "inside g\n",
      "inside g\n",
      "inside g\n",
      "inside g\n",
      "inside g\n",
      "inside g\n",
      "inside g\n",
      "inside g\n",
      "inside g\n",
      "inside g\n",
      "inside g\n",
      "inside g\n",
      "inside g\n",
      "inside g\n",
      "inside g\n",
      "inside g\n",
      "inside g\n",
      "inside g\n",
      "inside g\n",
      "inside g\n",
      "inside g\n",
      "inside g\n",
      "inside g\n",
      "inside g\n",
      "inside g\n",
      "inside g\n",
      "inside g\n",
      "inside g\n",
      "inside g\n",
      "inside g\n",
      "inside g\n",
      "inside g\n",
      "inside g\n",
      "inside g\n",
      "inside g\n",
      "inside g\n",
      "inside g\n",
      "inside g\n",
      "inside g\n",
      "inside g\n",
      "inside g\n",
      "inside g\n",
      "inside g\n",
      "inside g\n",
      "inside g\n",
      "inside g\n",
      "inside g\n",
      "inside g\n",
      "inside g\n",
      "inside g\n",
      "inside g\n",
      "inside g\n",
      "inside g\n",
      "inside g\n",
      "inside g\n",
      "inside g\n",
      "inside g\n",
      "inside g\n",
      "inside g\n",
      "inside g\n",
      "inside g\n",
      "inside g\n",
      "inside g\n",
      "inside g\n",
      "inside g\n",
      "inside g\n",
      "inside g\n",
      "inside g\n",
      "inside g\n",
      "inside g\n",
      "inside g\n",
      "inside g\n",
      "inside g\n",
      "inside g\n",
      "inside g\n",
      "inside g\n",
      "inside g\n",
      "inside g\n",
      "inside g\n",
      "inside g\n",
      "inside g\n",
      "inside g\n",
      "inside g\n",
      "inside g\n",
      "inside g\n",
      "inside g\n",
      "inside g\n",
      "inside g\n",
      "inside g\n",
      "inside g\n",
      "inside g\n",
      "inside g\n",
      "inside g\n",
      "inside g\n",
      "inside g\n",
      "inside g\n",
      "inside g\n",
      "inside g\n",
      "inside g\n",
      "inside g\n",
      "inside g\n",
      "inside g\n",
      "inside g\n",
      "inside g\n",
      "inside g\n",
      "inside g\n",
      "inside g\n",
      "inside g\n",
      "inside g\n",
      "inside g\n",
      "inside g\n",
      "inside g\n",
      "inside g\n",
      "inside g\n",
      "inside g\n",
      "inside g\n",
      "inside g\n",
      "inside g\n",
      "inside g\n",
      "inside g\n",
      "inside g\n",
      "inside g\n",
      "inside g\n",
      "inside g\n",
      "inside g\n",
      "inside g\n",
      "inside g\n",
      "inside g\n",
      "inside g\n",
      "inside g\n",
      "inside g\n",
      "inside g\n",
      "inside g\n",
      "inside g\n",
      "inside g\n",
      "inside g\n",
      "inside g\n",
      "inside g\n",
      "inside g\n",
      "inside g\n",
      "inside g\n",
      "inside g\n",
      "inside g\n",
      "inside g\n",
      "inside g\n",
      "inside g\n",
      "inside g\n",
      "inside g\n",
      "inside g\n",
      "inside g\n",
      "inside g\n",
      "inside g\n",
      "inside g\n",
      "inside g\n",
      "inside g\n",
      "inside g\n",
      "inside g\n",
      "inside g\n",
      "inside g\n",
      "inside g\n",
      "inside g\n",
      "inside g\n",
      "inside g\n",
      "inside g\n",
      "inside g\n",
      "inside g\n",
      "inside g\n",
      "inside g\n",
      "inside g\n",
      "inside g\n",
      "inside g\n",
      "inside g\n",
      "inside g\n",
      "inside g\n",
      "inside g\n",
      "inside g\n",
      "inside g\n",
      "inside g\n",
      "inside g\n",
      "inside g\n",
      "inside g\n",
      "inside g\n",
      "inside g\n",
      "inside g\n",
      "inside g\n",
      "inside g\n",
      "inside g\n",
      "inside g\n",
      "inside g\n",
      "inside g\n",
      "inside g\n",
      "inside g\n",
      "inside g\n",
      "inside g\n",
      "inside g\n",
      "inside g\n",
      "inside g\n",
      "inside g\n",
      "inside g\n",
      "inside g\n",
      "inside g\n",
      "inside g\n",
      "inside g\n",
      "inside g\n",
      "inside g\n",
      "inside g\n",
      "inside g\n",
      "inside g\n",
      "inside g\n",
      "inside g\n",
      "inside g\n",
      "inside g\n",
      "inside g\n",
      "inside g\n",
      "inside g\n",
      "inside g\n",
      "inside g\n",
      "inside g\n",
      "inside g\n",
      "inside g\n",
      "inside g\n",
      "inside g\n",
      "inside g\n",
      "inside g\n",
      "inside g\n",
      "inside g\n",
      "inside g\n",
      "inside g\n",
      "inside g\n",
      "inside g\n",
      "inside g\n",
      "inside g\n",
      "inside g\n",
      "inside g\n",
      "inside g\n",
      "inside g\n",
      "inside g\n",
      "inside g\n",
      "inside g\n",
      "inside g\n",
      "inside g\n",
      "inside g\n",
      "inside g\n",
      "inside g\n",
      "inside g\n",
      "inside g\n",
      "inside g\n",
      "inside g\n",
      "inside g\n",
      "inside g\n",
      "inside g\n",
      "inside g\n",
      "inside g\n",
      "inside g\n",
      "inside g\n",
      "inside g\n",
      "inside g\n",
      "inside g\n",
      "inside g\n",
      "inside g\n",
      "inside g\n",
      "inside g\n",
      "inside g\n",
      "inside g\n",
      "inside g\n",
      "inside g\n",
      "inside g\n",
      "inside g\n",
      "inside g\n",
      "inside g\n",
      "inside g\n",
      "inside g\n",
      "inside g\n",
      "inside g\n",
      "inside g\n",
      "inside g\n",
      "inside g\n",
      "inside g\n",
      "inside g\n",
      "inside g\n",
      "inside g\n",
      "inside g\n",
      "inside g\n",
      "inside g\n",
      "inside g\n",
      "inside g\n",
      "inside g\n",
      "inside g\n",
      "inside g\n",
      "inside g\n",
      "inside g\n",
      "inside g\n",
      "inside g\n",
      "inside g\n",
      "inside g\n",
      "inside g\n",
      "inside g\n",
      "inside g\n",
      "inside g\n",
      "inside g\n",
      "inside g\n",
      "inside g\n",
      "inside g\n",
      "inside g\n",
      "inside g\n",
      "inside g\n",
      "inside g\n",
      "inside g\n",
      "inside g\n",
      "inside g\n",
      "inside g\n",
      "inside g\n",
      "inside g\n",
      "inside g\n",
      "inside g\n",
      "inside g\n",
      "inside g\n",
      "inside g\n",
      "inside g\n",
      "inside g\n",
      "inside g\n",
      "inside g\n",
      "inside g\n",
      "inside g\n",
      "inside g\n",
      "inside g\n",
      "inside g\n",
      "inside g\n",
      "inside g\n",
      "inside g\n",
      "inside g\n",
      "inside g\n",
      "inside g\n",
      "inside g\n",
      "inside g\n",
      "inside g\n",
      "inside g\n",
      "inside g\n",
      "inside g\n",
      "inside g\n",
      "inside g\n",
      "inside g\n",
      "inside g\n",
      "inside g\n",
      "inside g\n",
      "inside g\n",
      "inside g\n",
      "inside g\n",
      "inside g\n",
      "inside g\n",
      "inside g\n",
      "inside g\n",
      "inside g\n",
      "inside g\n",
      "inside g\n",
      "inside g\n",
      "inside g\n",
      "inside g\n",
      "inside g\n",
      "inside g\n",
      "inside g\n",
      "inside g\n",
      "inside g\n",
      "inside g\n",
      "inside g\n",
      "inside g\n",
      "inside g\n",
      "inside g\n",
      "inside g\n",
      "inside g\n",
      "inside g\n",
      "inside g\n",
      "inside g\n",
      "inside g\n",
      "inside g\n",
      "inside g\n",
      "inside g\n",
      "inside g\n",
      "inside g\n",
      "inside g\n",
      "inside g\n",
      "inside g\n",
      "inside g\n",
      "inside g\n",
      "inside g\n",
      "inside g\n",
      "inside g\n",
      "inside g\n",
      "inside g\n",
      "inside g\n",
      "inside g\n",
      "inside g\n",
      "inside g\n",
      "inside g\n",
      "inside g\n",
      "inside g\n",
      "inside g\n",
      "inside g\n",
      "inside g\n",
      "inside g\n",
      "inside g\n",
      "inside g\n",
      "inside g\n",
      "inside g\n",
      "inside g\n",
      "inside g\n",
      "inside g\n",
      "inside g\n",
      "inside g\n",
      "inside g\n",
      "inside g\n",
      "inside g\n",
      "inside g\n",
      "inside g\n",
      "inside g\n",
      "inside g\n",
      "inside g\n",
      "inside g\n",
      "inside g\n",
      "inside g\n",
      "inside g\n",
      "inside g\n",
      "inside g\n",
      "inside g\n",
      "inside g\n",
      "inside g\n",
      "inside g\n",
      "inside g\n",
      "inside g\n",
      "inside g\n",
      "inside g\n",
      "inside g\n",
      "inside g\n",
      "inside g\n",
      "inside g\n",
      "inside g\n",
      "inside g\n",
      "inside g\n",
      "inside g\n",
      "inside g\n",
      "inside g\n",
      "inside g\n",
      "inside g\n",
      "inside g\n",
      "inside g\n",
      "inside g\n",
      "inside g\n",
      "inside g\n",
      "inside g\n",
      "inside g\n",
      "inside g\n",
      "inside g\n",
      "inside g\n",
      "inside g\n",
      "inside g\n",
      "inside g\n",
      "inside g\n",
      "inside g\n",
      "inside g\n",
      "inside g\n",
      "inside g\n",
      "inside g\n",
      "inside g\n",
      "inside g\n",
      "inside g\n",
      "inside g\n",
      "inside g\n",
      "inside g\n",
      "inside g\n",
      "inside g\n",
      "inside g\n",
      "inside g\n",
      "inside g\n",
      "inside g\n",
      "inside g\n",
      "inside g\n",
      "inside g\n",
      "inside g\n",
      "inside g\n",
      "inside g\n",
      "inside g\n",
      "inside g\n",
      "inside g\n",
      "inside g\n",
      "inside g\n",
      "inside g\n",
      "inside g\n",
      "inside g\n",
      "inside g\n",
      "inside g\n",
      "inside g\n",
      "inside g\n",
      "inside g\n",
      "inside g\n",
      "inside g\n",
      "inside g\n",
      "inside g\n",
      "inside g\n",
      "inside g\n",
      "inside g\n",
      "inside g\n",
      "inside g\n",
      "inside g\n",
      "inside g\n",
      "inside g\n",
      "inside g\n",
      "inside g\n",
      "inside g\n",
      "inside g\n",
      "inside g\n",
      "inside g\n",
      "inside g\n",
      "inside g\n",
      "inside g\n",
      "inside g\n",
      "inside g\n",
      "inside g\n",
      "inside g\n",
      "inside g\n",
      "inside g\n",
      "inside g\n",
      "inside g\n",
      "inside g\n",
      "inside g\n",
      "inside g\n",
      "inside g\n",
      "inside g\n",
      "inside g\n",
      "inside g\n",
      "inside g\n",
      "inside g\n",
      "inside g\n",
      "inside g\n",
      "inside g\n",
      "inside g\n",
      "inside g\n",
      "inside g\n",
      "inside g\n",
      "inside g\n",
      "inside g\n",
      "inside g\n",
      "inside g\n",
      "inside g\n",
      "inside g\n",
      "inside g\n",
      "inside g\n",
      "inside g\n",
      "inside g\n",
      "inside g\n",
      "inside g\n",
      "inside g\n",
      "inside g\n",
      "inside g\n",
      "inside g\n",
      "inside g\n",
      "inside g\n",
      "inside g\n",
      "inside g\n",
      "inside g\n",
      "inside g\n",
      "inside g\n",
      "inside g\n",
      "inside g\n",
      "inside g\n",
      "inside g\n",
      "inside g\n",
      "inside g\n",
      "inside g\n",
      "inside g\n",
      "inside g\n",
      "inside g\n",
      "inside g\n",
      "inside g\n",
      "inside g\n",
      "inside g\n",
      "inside g\n",
      "inside g\n",
      "inside g\n",
      "inside g\n",
      "inside g\n",
      "inside g\n",
      "inside g\n",
      "inside g\n",
      "inside g\n",
      "inside g\n",
      "inside g\n",
      "inside g\n",
      "inside g\n",
      "inside g\n",
      "inside g\n",
      "inside g\n",
      "inside g\n",
      "inside g\n",
      "inside g\n",
      "inside g\n",
      "inside g\n",
      "inside g\n",
      "inside g\n",
      "inside g\n",
      "inside g\n",
      "inside g\n",
      "inside g\n",
      "inside g\n",
      "inside g\n",
      "inside g\n",
      "inside g\n",
      "inside g\n",
      "inside g\n",
      "inside g\n",
      "inside g\n",
      "inside g\n",
      "inside g\n",
      "inside g\n",
      "inside g\n",
      "inside g\n",
      "inside g\n",
      "inside g\n",
      "inside g\n",
      "inside g\n",
      "inside g\n",
      "inside g\n",
      "inside g\n",
      "inside g\n",
      "inside g\n",
      "inside g\n",
      "inside g\n",
      "inside g\n",
      "inside g\n",
      "inside g\n",
      "inside g\n",
      "inside g\n",
      "inside g\n",
      "inside g\n",
      "inside g\n",
      "inside g\n",
      "inside g\n",
      "inside g\n",
      "inside g\n",
      "inside g\n",
      "inside g\n",
      "inside g\n",
      "inside g\n",
      "inside g\n",
      "inside g\n",
      "inside g\n",
      "inside g\n",
      "inside g\n",
      "inside g\n",
      "inside g\n",
      "inside g\n",
      "inside g\n",
      "inside g\n",
      "inside g\n",
      "inside g\n",
      "inside g\n",
      "inside g\n",
      "inside g\n",
      "inside g\n",
      "inside g\n",
      "inside g\n",
      "inside g\n",
      "inside g\n",
      "inside g\n",
      "inside g\n",
      "inside g\n",
      "inside g\n",
      "inside g\n",
      "inside g\n",
      "inside g\n",
      "inside g\n",
      "inside g\n",
      "inside g\n",
      "inside g\n",
      "inside g\n",
      "inside g\n",
      "inside g\n",
      "inside g\n",
      "inside g\n",
      "inside g\n",
      "inside g\n",
      "inside g\n",
      "inside g\n",
      "inside g\n",
      "inside g\n",
      "inside g\n",
      "inside g\n",
      "inside g\n",
      "inside g\n",
      "inside g\n",
      "inside g\n",
      "inside g\n",
      "inside g\n",
      "inside g\n",
      "inside g\n",
      "inside g\n",
      "inside g\n",
      "inside g\n",
      "inside g\n",
      "inside g\n",
      "inside g\n",
      "inside g\n",
      "inside g\n",
      "inside g\n",
      "inside g\n",
      "inside g\n",
      "inside g\n",
      "inside g\n",
      "inside g\n",
      "inside g\n",
      "inside g\n",
      "inside g\n",
      "inside g\n",
      "inside g\n",
      "inside g\n",
      "inside g\n",
      "inside g\n",
      "inside g\n",
      "inside g\n",
      "inside g\n",
      "inside g\n",
      "inside g\n",
      "inside g\n",
      "inside g\n",
      "inside g\n",
      "inside g\n",
      "inside g\n",
      "inside g\n",
      "inside g\n",
      "inside g\n",
      "inside g\n",
      "inside g\n",
      "inside g\n",
      "inside g\n",
      "inside g\n",
      "inside g\n",
      "inside g\n",
      "inside g\n",
      "inside g\n",
      "inside g\n",
      "inside g\n",
      "inside g\n",
      "inside g\n",
      "inside g\n",
      "inside g\n",
      "inside g\n",
      "inside g\n",
      "inside g\n",
      "inside g\n",
      "inside g\n",
      "inside g\n",
      "inside g\n",
      "inside g\n",
      "inside g\n",
      "inside g\n",
      "inside g\n",
      "inside g\n",
      "inside g\n",
      "inside g\n",
      "inside g\n",
      "inside g\n",
      "inside g\n",
      "inside g\n",
      "inside g\n",
      "inside g\n",
      "inside g\n",
      "inside g\n",
      "inside g\n",
      "inside g\n",
      "inside g\n",
      "inside g\n",
      "inside g\n",
      "inside g\n",
      "inside g\n",
      "inside g\n",
      "inside g\n",
      "inside g\n",
      "inside g\n",
      "inside g\n",
      "inside g\n",
      "inside g\n",
      "inside g\n",
      "inside g\n",
      "inside g\n",
      "inside g\n",
      "inside g\n",
      "inside g\n",
      "inside g\n",
      "inside g\n",
      "inside g\n",
      "inside g\n",
      "inside g\n",
      "inside g\n",
      "inside g\n",
      "inside g\n",
      "inside g\n",
      "inside g\n",
      "inside g\n",
      "inside g\n",
      "inside g\n",
      "inside g\n",
      "inside g\n",
      "inside g\n",
      "inside g\n",
      "inside g\n",
      "inside g\n",
      "inside g\n",
      "inside g\n",
      "inside g\n",
      "inside g\n",
      "inside g\n",
      "inside g\n",
      "inside g\n",
      "inside g\n",
      "inside g\n",
      "inside g\n",
      "inside g\n",
      "inside g\n",
      "inside g\n",
      "inside g\n",
      "inside g\n",
      "inside g\n",
      "inside g\n",
      "inside g\n",
      "inside g\n",
      "inside g\n",
      "inside g\n",
      "inside g\n",
      "inside g\n",
      "inside g\n",
      "inside g\n",
      "inside g\n",
      "inside g\n",
      "inside g\n",
      "inside g\n",
      "inside g\n",
      "inside g\n",
      "inside g\n",
      "inside g\n",
      "inside g\n",
      "inside g\n",
      "inside g\n",
      "inside g\n",
      "inside g\n",
      "inside g\n",
      "inside g\n",
      "inside g\n",
      "inside g\n",
      "inside g\n",
      "inside g\n",
      "inside g\n",
      "inside g\n",
      "inside g\n",
      "inside g\n",
      "inside g\n",
      "inside g\n",
      "inside g\n",
      "inside g\n",
      "inside g\n",
      "inside g\n",
      "inside g\n",
      "inside g\n",
      "inside g\n",
      "inside g\n",
      "inside g\n",
      "inside g\n",
      "inside g\n",
      "inside g\n",
      "inside g\n",
      "inside g\n",
      "inside g\n",
      "inside g\n",
      "inside g\n",
      "inside g\n",
      "inside g\n",
      "inside g\n",
      "inside g\n",
      "inside g\n",
      "inside g\n",
      "inside g\n",
      "inside g\n",
      "inside g\n",
      "inside g\n",
      "inside g\n",
      "inside g\n",
      "inside g\n",
      "inside g\n",
      "inside g\n",
      "inside g\n",
      "inside g\n",
      "inside g\n",
      "inside g\n",
      "inside g\n",
      "inside g\n",
      "inside g\n",
      "inside g\n",
      "inside g\n",
      "inside g\n",
      "inside g\n",
      "inside g\n",
      "inside g\n",
      "inside g\n",
      "inside g\n",
      "inside g\n",
      "inside g\n",
      "inside g\n",
      "inside g\n",
      "inside g\n",
      "inside g\n",
      "inside g\n",
      "inside g\n",
      "inside g\n",
      "inside g\n",
      "inside g\n",
      "inside g\n",
      "inside g\n",
      "inside g\n",
      "inside g\n",
      "inside g\n",
      "inside g\n",
      "inside g\n",
      "inside g\n",
      "inside g\n",
      "inside g\n",
      "inside g\n",
      "inside g\n",
      "inside g\n",
      "inside g\n",
      "inside g\n",
      "inside g\n",
      "inside g\n",
      "inside g\n",
      "inside g\n",
      "inside g\n",
      "inside g\n",
      "inside g\n",
      "inside g\n",
      "inside g\n",
      "inside g\n",
      "inside g\n",
      "inside g\n",
      "inside g\n",
      "inside g\n",
      "inside g\n",
      "inside g\n",
      "inside g\n",
      "inside g\n",
      "inside g\n",
      "inside g\n",
      "inside g\n",
      "inside g\n",
      "inside g\n",
      "inside g\n",
      "inside g\n",
      "inside g\n",
      "inside g\n",
      "inside g\n",
      "inside g\n",
      "inside g\n",
      "inside g\n",
      "inside g\n",
      "inside g\n",
      "inside g\n",
      "inside g\n",
      "inside g\n",
      "inside g\n",
      "inside g\n",
      "inside g\n",
      "inside g\n",
      "inside g\n",
      "inside g\n",
      "inside g\n",
      "inside g\n",
      "inside g\n",
      "inside g\n",
      "inside g\n",
      "inside g\n",
      "inside g\n",
      "inside g\n",
      "inside g\n",
      "inside g\n",
      "inside g\n",
      "inside g\n",
      "inside g\n",
      "inside g\n",
      "inside g\n",
      "inside g\n",
      "inside g\n",
      "inside g\n",
      "inside g\n",
      "inside g\n",
      "inside g\n",
      "inside g\n",
      "inside g\n",
      "inside g\n",
      "inside g\n",
      "inside g\n",
      "inside g\n",
      "inside g\n",
      "inside g\n",
      "inside g\n",
      "inside g\n",
      "inside g\n",
      "inside g\n",
      "inside g\n",
      "inside g\n",
      "inside g\n",
      "inside g\n",
      "inside g\n",
      "inside g\n",
      "inside g\n",
      "inside g\n",
      "inside g\n",
      "inside g\n",
      "inside g\n",
      "inside g\n",
      "inside g\n",
      "inside g\n",
      "inside g\n",
      "inside g\n",
      "inside g\n",
      "inside g\n",
      "inside g\n",
      "inside g\n",
      "inside g\n",
      "inside g\n",
      "inside g\n",
      "inside g\n",
      "inside g\n",
      "inside g\n",
      "inside g\n",
      "inside g\n",
      "inside g\n",
      "inside g\n",
      "inside g\n",
      "inside g\n",
      "inside g\n",
      "inside g\n",
      "inside g\n",
      "inside g\n",
      "inside g\n",
      "inside g\n",
      "inside g\n",
      "inside g\n",
      "inside g\n",
      "inside g\n",
      "inside g\n",
      "inside g\n",
      "inside g\n",
      "inside g\n",
      "inside g\n",
      "inside g\n",
      "inside g\n",
      "inside g\n",
      "inside g\n",
      "inside g\n",
      "inside g\n",
      "inside g\n",
      "inside g\n",
      "inside g\n",
      "inside g\n",
      "inside g\n",
      "inside g\n",
      "inside g\n",
      "inside g\n",
      "inside g\n",
      "inside g\n",
      "inside g\n",
      "inside g\n",
      "inside g\n",
      "inside g\n",
      "inside g\n",
      "inside g\n",
      "inside g\n",
      "inside g\n",
      "inside g\n",
      "inside g\n",
      "inside g\n",
      "inside g\n",
      "inside g\n",
      "inside g\n",
      "inside g\n"
     ]
    },
    {
     "name": "stderr",
     "output_type": "stream",
     "text": [
      "\n",
      "KeyboardInterrupt\n",
      "\n"
     ]
    }
   ],
   "source": [
    "def f():\n",
    "    def g():\n",
    "        print(\"inside g\")\n",
    "        f()\n",
    "    g()\n",
    "    print(\"inside f\")\n",
    "f()"
   ]
  },
  {
   "cell_type": "code",
   "execution_count": 9,
   "id": "ae50d90d",
   "metadata": {},
   "outputs": [
    {
     "name": "stdout",
     "output_type": "stream",
     "text": [
      "<function f.<locals>.g at 0x0000028DEA789580>\n",
      "3\n"
     ]
    }
   ],
   "source": [
    "#returing a function\n",
    "def f():\n",
    "    def g(x,y):\n",
    "        return x+y\n",
    "    return g\n",
    "val = f()\n",
    "print(val)\n",
    "val1=val(1,2)\n",
    "print(val1)"
   ]
  },
  {
   "cell_type": "code",
   "execution_count": 10,
   "id": "5348ce9b",
   "metadata": {},
   "outputs": [
    {
     "data": {
      "text/plain": [
       "3"
      ]
     },
     "execution_count": 10,
     "metadata": {},
     "output_type": "execute_result"
    }
   ],
   "source": [
    "#Lambda Function -> small anonymous function\n",
    "c=lambda a,b:a+b\n",
    "c(1,2)"
   ]
  },
  {
   "cell_type": "code",
   "execution_count": 11,
   "id": "8b205bf2",
   "metadata": {},
   "outputs": [
    {
     "data": {
      "text/plain": [
       "True"
      ]
     },
     "execution_count": 11,
     "metadata": {},
     "output_type": "execute_result"
    }
   ],
   "source": [
    "check_a=lambda word:'a' in word\n",
    "check_a(\"abcd\")\n"
   ]
  },
  {
   "cell_type": "code",
   "execution_count": 12,
   "id": "1f44da9b",
   "metadata": {},
   "outputs": [
    {
     "data": {
      "text/plain": [
       "'even'"
      ]
     },
     "execution_count": 12,
     "metadata": {},
     "output_type": "execute_result"
    }
   ],
   "source": [
    "check_even_odd=lambda num:\"even\" if num%2==0 else \"odd\"\n",
    "check_even_odd(10)"
   ]
  },
  {
   "cell_type": "code",
   "execution_count": 13,
   "id": "72e3894d",
   "metadata": {},
   "outputs": [
    {
     "data": {
      "text/plain": [
       "[1, 8, 27, 64]"
      ]
     },
     "execution_count": 13,
     "metadata": {},
     "output_type": "execute_result"
    }
   ],
   "source": [
    "#HOF (higher order function) -> function which takes function as argument or return a function\n",
    "def transform(f,l):\n",
    "    output_list=[]\n",
    "    for i in l:\n",
    "        output_list.append(f(i))\n",
    "    return output_list\n",
    "L=[1,2,3,4]\n",
    "def cube(x):\n",
    "    return x**3\n",
    "transform(cube,L)"
   ]
  },
  {
   "cell_type": "code",
   "execution_count": 20,
   "id": "503d5853",
   "metadata": {},
   "outputs": [
    {
     "name": "stdout",
     "output_type": "stream",
     "text": [
      "1\n",
      "8\n",
      "27\n",
      "64\n"
     ]
    },
    {
     "data": {
      "text/plain": [
       "[1, 8, 27, 64]"
      ]
     },
     "execution_count": 20,
     "metadata": {},
     "output_type": "execute_result"
    }
   ],
   "source": [
    "#Map -> takes function and iterable data\n",
    "for i in map(lambda x:x**3,[1,2,3,4]):\n",
    "    print(i)\n",
    "list(map(lambda x:x**3,[1,2,3,4]))"
   ]
  },
  {
   "cell_type": "code",
   "execution_count": 1,
   "id": "f2eafe41",
   "metadata": {},
   "outputs": [
    {
     "data": {
      "text/plain": [
       "[6, 7, 8]"
      ]
     },
     "execution_count": 1,
     "metadata": {},
     "output_type": "execute_result"
    }
   ],
   "source": [
    "#Filter\n",
    "L=[1,2,3,4,5,6,7,8]\n",
    "list(filter(lambda x:x>5,L))"
   ]
  },
  {
   "cell_type": "code",
   "execution_count": 3,
   "id": "bfb61722",
   "metadata": {},
   "outputs": [
    {
     "data": {
      "text/plain": [
       "21"
      ]
     },
     "execution_count": 3,
     "metadata": {},
     "output_type": "execute_result"
    }
   ],
   "source": [
    "#Reduce\n",
    "import functools\n",
    "functools.reduce(lambda x,y:x+y,[1,2,3,4,5,6])"
   ]
  },
  {
   "cell_type": "markdown",
   "id": "75b8060a",
   "metadata": {},
   "source": [
    "# Array interview question\n"
   ]
  },
  {
   "cell_type": "code",
   "execution_count": 13,
   "id": "7c4f74dc",
   "metadata": {},
   "outputs": [
    {
     "name": "stdout",
     "output_type": "stream",
     "text": [
      "[1, 3, 4, 12, 22, 23, 34, 56]\n",
      "4 23\n"
     ]
    }
   ],
   "source": [
    "# 1. Find the kth largest/smallest item from a list\n",
    "L = [12,23,1,4,56,34,22,3]\n",
    "k=3\n",
    "\n",
    "L.sort()\n",
    "print(L)\n",
    "print(L[k-1],L[-k])"
   ]
  },
  {
   "cell_type": "code",
   "execution_count": 10,
   "id": "bb1f1acc",
   "metadata": {},
   "outputs": [
    {
     "name": "stdout",
     "output_type": "stream",
     "text": [
      "[1, 3, 4, 12, 22, 23, 34, 56]\n",
      "4\n",
      "23\n"
     ]
    }
   ],
   "source": [
    "L = [12,23,1,4,56,34,22,3]\n",
    "k=3\n",
    "for i in range(len(L)-1):\n",
    "    for j in range(len(L)-i-1):\n",
    "        if(L[j]>L[j+1]):\n",
    "            temp=L[j]\n",
    "            L[j]=L[j+1]\n",
    "            L[j+1]=temp\n",
    "print(L)    \n",
    "print(L[k-1])\n",
    "print(L[len(L)-k])"
   ]
  },
  {
   "cell_type": "code",
   "execution_count": 17,
   "id": "10542fb0",
   "metadata": {},
   "outputs": [
    {
     "name": "stdout",
     "output_type": "stream",
     "text": [
      "sorted\n"
     ]
    }
   ],
   "source": [
    "# 2. Check if an array is sorted\n",
    "# L = [12,23,1,4,56,34,22,3]\n",
    "L=[1, 3, 4, 12, 22, 23, 34, 56]\n",
    "for i in range(len(L)-1):\n",
    "    if(L[i]>L[i+1]):\n",
    "        print(\"not sorted\")\n",
    "        break\n",
    "else:\n",
    "    print(\"sorted\")"
   ]
  },
  {
   "cell_type": "code",
   "execution_count": 20,
   "id": "095b6679",
   "metadata": {},
   "outputs": [
    {
     "name": "stdout",
     "output_type": "stream",
     "text": [
      "not sorted\n"
     ]
    }
   ],
   "source": [
    "if L.sort()==L:\n",
    "    print(\"sorted\")    \n",
    "else:\n",
    "    print(\"not sorted\") \n"
   ]
  },
  {
   "cell_type": "code",
   "execution_count": 29,
   "id": "06bf74f1",
   "metadata": {},
   "outputs": [
    {
     "name": "stdout",
     "output_type": "stream",
     "text": [
      "56\n",
      "1\n"
     ]
    }
   ],
   "source": [
    "# 3. Find Min/Max in a given array\n",
    "L = [12,23,1,4,56,34,22,3]\n",
    "maxV=L[0]\n",
    "for i in range(len(L)-1):\n",
    "    if(maxV<L[i]):\n",
    "        maxV=L[i]\n",
    "print(maxV)\n",
    "minV=L[0]\n",
    "for i in range(len(L)-1):\n",
    "    if(minV>L[i]):\n",
    "        minV=L[i]\n",
    "print(minV)"
   ]
  },
  {
   "cell_type": "code",
   "execution_count": null,
   "id": "80a9d87a",
   "metadata": {},
   "outputs": [],
   "source": [
    "# 4. Find the first element to occur k times in an array\n"
   ]
  },
  {
   "cell_type": "code",
   "execution_count": null,
   "id": "714805dd",
   "metadata": {},
   "outputs": [],
   "source": [
    "# 5. Find duplicates in an array\n"
   ]
  },
  {
   "cell_type": "code",
   "execution_count": null,
   "id": "b7487136",
   "metadata": {},
   "outputs": [],
   "source": [
    "# 6. Rotate array to left d items\n"
   ]
  },
  {
   "cell_type": "code",
   "execution_count": null,
   "id": "1cb3cd26",
   "metadata": {},
   "outputs": [],
   "source": [
    "# 7. Find intersection of 2 sorted arrays\n"
   ]
  },
  {
   "cell_type": "code",
   "execution_count": null,
   "id": "771d9943",
   "metadata": {},
   "outputs": [],
   "source": [
    "# 8. Find continous subarray with a given sum(given non-negative numbers)\n",
    "# return the starting and ending index of the subarray\n",
    "# return 1st subarray in case of multiple"
   ]
  },
  {
   "cell_type": "code",
   "execution_count": null,
   "id": "38ed935c",
   "metadata": {},
   "outputs": [],
   "source": [
    "# 9. Find element with left side smaller/right side greater in an array\n"
   ]
  },
  {
   "cell_type": "code",
   "execution_count": 14,
   "id": "90cfc19a",
   "metadata": {},
   "outputs": [],
   "source": [
    "# 10. Maximum sum subarray\n"
   ]
  },
  {
   "cell_type": "code",
   "execution_count": null,
   "id": "ee1db34a",
   "metadata": {},
   "outputs": [],
   "source": [
    "# 11. Sort arrays with items 1 and 0"
   ]
  },
  {
   "cell_type": "code",
   "execution_count": 15,
   "id": "bf1d0474",
   "metadata": {},
   "outputs": [],
   "source": [
    "# 12. Move all -ve numbers to the end"
   ]
  },
  {
   "cell_type": "code",
   "execution_count": null,
   "id": "260f2c30",
   "metadata": {},
   "outputs": [],
   "source": [
    "# 13. Maximum Product Subarray"
   ]
  },
  {
   "cell_type": "code",
   "execution_count": null,
   "id": "7864611a",
   "metadata": {},
   "outputs": [],
   "source": [
    "# 14. Find union of 2 arrays"
   ]
  },
  {
   "cell_type": "code",
   "execution_count": null,
   "id": "0654b689",
   "metadata": {},
   "outputs": [],
   "source": [
    "# 15. Find Pythagorean triplets in an array"
   ]
  },
  {
   "cell_type": "code",
   "execution_count": null,
   "id": "46c041c2",
   "metadata": {},
   "outputs": [],
   "source": []
  }
 ],
 "metadata": {
  "kernelspec": {
   "display_name": "Python 3 (ipykernel)",
   "language": "python",
   "name": "python3"
  },
  "language_info": {
   "codemirror_mode": {
    "name": "ipython",
    "version": 3
   },
   "file_extension": ".py",
   "mimetype": "text/x-python",
   "name": "python",
   "nbconvert_exporter": "python",
   "pygments_lexer": "ipython3",
   "version": "3.11.4"
  }
 },
 "nbformat": 4,
 "nbformat_minor": 5
}
