{
 "cells": [
  {
   "cell_type": "code",
   "execution_count": 3,
   "id": "52331f69",
   "metadata": {},
   "outputs": [
    {
     "name": "stdout",
     "output_type": "stream",
     "text": [
      "True\n"
     ]
    }
   ],
   "source": [
    "#membership operator -> in , not in\n",
    "print('D' in 'Delhi')"
   ]
  },
  {
   "cell_type": "code",
   "execution_count": 4,
   "id": "da1e5ef7",
   "metadata": {},
   "outputs": [],
   "source": [
    "#Modules -> math,keywords,constant,random"
   ]
  },
  {
   "cell_type": "code",
   "execution_count": 7,
   "id": "fc2ba72f",
   "metadata": {},
   "outputs": [
    {
     "name": "stdout",
     "output_type": "stream",
     "text": [
      "\n",
      "Please wait a moment while I gather a list of all available modules...\n",
      "\n"
     ]
    },
    {
     "name": "stderr",
     "output_type": "stream",
     "text": [
      "No QCoreApplication instance found. Application patches not applied. You have to call load_stylesheet function after instantiation of QApplication to take effect. \n",
      "Neither PyTorch nor TensorFlow >= 2.0 have been found.Models won't be available and only tokenizers, configurationand file/data utilities can be used.\n",
      "C:\\Users\\91937\\anaconda3\\Lib\\pkgutil.py:107: VisibleDeprecationWarning:\n",
      "\n",
      "zmq.eventloop.minitornado is deprecated in pyzmq 14.0 and will be removed.\n",
      "    Install tornado itself to use zmq with the tornado IOLoop.\n",
      "    \n",
      "\n"
     ]
    },
    {
     "name": "stdout",
     "output_type": "stream",
     "text": [
      "IPython             compileall          mdurl               smart_open\n",
      "OpenSSL             concurrent          menuinst            smtpd\n",
      "PIL                 conda               mimetypes           smtplib\n",
      "PyQt5               conda_build         mistune             snappy\n",
      "TBB                 conda_content_trust mkl                 sndhdr\n",
      "__future__          conda_env           mkl_fft             sniffio\n",
      "__hello__           conda_index         mkl_random          snowballstemmer\n",
      "__phello__          conda_libmamba_solver mmap                socket\n",
      "_abc                conda_pack          mmapfile            socketserver\n",
      "_aix_support        conda_package_handling mmsystem            socks\n",
      "_argon2_cffi_bindings conda_package_streaming modulefinder        sockshandler\n",
      "_ast                conda_token         more_itertools      sortedcontainers\n",
      "_asyncio            conda_verify        mpmath              soupsieve\n",
      "_bisect             configparser        msgpack             sphinx\n",
      "_black_version      constantly          msilib              spyder\n",
      "_blake2             contextlib          msvcrt              spyder_kernels\n",
      "_bootsubprocess     contextvars         multidict           sqlalchemy\n",
      "_bz2                contourpy           multipledispatch    sqlite3\n",
      "_cffi_backend       cookiecutter        multiprocessing     sre_compile\n",
      "_codecs             copy                munkres             sre_constants\n",
      "_codecs_cn          copyreg             mypy_extensions     sre_parse\n",
      "_codecs_hk          cpuinfo             nacl                ssl\n",
      "_codecs_iso2022     crypt               navigator_updater   sspi\n",
      "_codecs_jp          cryptography        nbclassic           sspicon\n",
      "_codecs_kr          cssselect           nbclient            stack_data\n",
      "_codecs_tw          csv                 nbconvert           stat\n",
      "_collections        ctypes              nbformat            statistics\n",
      "_collections_abc    curl                nest_asyncio        statsmodels\n",
      "_compat_pickle      curses              netbios             string\n",
      "_compression        cwp                 netrc               stringprep\n",
      "_contextvars        cycler              networkx            struct\n",
      "_csv                cytoolz             nltk                subprocess\n",
      "_ctypes             daal4py             nntplib             sunau\n",
      "_ctypes_test        dask                notebook            sympy\n",
      "_datetime           dataclasses         notebook_shim       symtable\n",
      "_decimal            datashader          nt                  sys\n",
      "_distutils_hack     datashape           ntpath              sysconfig\n",
      "_elementtree        datetime            ntsecuritycon       tables\n",
      "_functools          dateutil            nturl2path          tabnanny\n",
      "_hashlib            dbi                 numba               tabulate\n",
      "_heapq              dbm                 numbergen           tarfile\n",
      "_imp                dde                 numbers             tbb\n",
      "_io                 debugpy             numexpr             tblib\n",
      "_json               decimal             numpy               telnetlib\n",
      "_locale             decorator           numpydoc            tempfile\n",
      "_lsprof             defusedxml          odbc                tenacity\n",
      "_lzma               diff_match_patch    onedal              terminado\n",
      "_markupbase         difflib             opcode              test\n",
      "_md5                dill                openpyxl            test_pycosat\n",
      "_msi                dis                 operator            text_unidecode\n",
      "_multibytecodec     distributed         optparse            textdistance\n",
      "_multiprocessing    distutils           os                  textwrap\n",
      "_nsis               docstring_to_markdown packaging           this\n",
      "_opcode             doctest             pandas              threading\n",
      "_operator           docutils            pandocfilters       threadpoolctl\n",
      "_osx_support        email               panel               three_merge\n",
      "_overlapped         encodings           param               tifffile\n",
      "_pickle             ensurepip           paramiko            time\n",
      "_plotly_future_     entrypoints         parsel              timeit\n",
      "_plotly_utils       enum                parso               timer\n",
      "_py_abc             erfa                partd               tinycss2\n",
      "_pydecimal          errno               past                tkinter\n",
      "_pyio               et_xmlfile          pathlib             tldextract\n",
      "_pyrsistent_version executing           pathspec            tlz\n",
      "_pytest             fastjsonschema      patsy               token\n",
      "_queue              faulthandler        pdb                 tokenize\n",
      "_random             filecmp             pep8                toml\n",
      "_sha1               fileinput           perfmon             tomlkit\n",
      "_sha256             filelock            pexpect             tomllib\n",
      "_sha3               flake8              pickle              toolz\n",
      "_sha512             flask               pickleshare         tornado\n",
      "_signal             fnmatch             pickletools         tqdm\n",
      "_sitebuiltins       fontTools           pip                 trace\n",
      "_socket             fractions           pipes               traceback\n",
      "_sqlite3            frozenlist          pkg_resources       tracemalloc\n",
      "_sre                fsspec              pkginfo             traitlets\n",
      "_ssl                ftplib              pkgutil             transformers\n",
      "_stat               functools           platform            tty\n",
      "_statistics         future              platformdirs        turtle\n",
      "_string             gc                  plistlib            turtledemo\n",
      "_strptime           genericpath         plotly              twisted\n",
      "_struct             gensim              pluggy              types\n",
      "_symtable           getopt              ply                 typing\n",
      "_system_path        getpass             pooch               typing_extensions\n",
      "_testbuffer         gettext             poplib              uc_micro\n",
      "_testcapi           glob                posixpath           ujson\n",
      "_testconsole        glob2               poyo                unicodedata\n",
      "_testimportmultiple graphlib            pprint              unidecode\n",
      "_testinternalcapi   greenlet            profile             unittest\n",
      "_testmultiphase     gzip                prometheus_client   urllib\n",
      "_thread             h5py                prompt_toolkit      urllib3\n",
      "_threading_local    hashlib             protego             uu\n",
      "_tkinter            heapdict            pstats              uuid\n",
      "_tokenize           heapq               psutil              venv\n",
      "_tracemalloc        hmac                pty                 w3lib\n",
      "_typing             holoviews           ptyprocess          warnings\n",
      "_uuid               html                pure_eval           watchdog\n",
      "_warnings           http                pvectorc            wave\n",
      "_weakref            hvplot              py                  wcwidth\n",
      "_weakrefset         hyperlink           py_compile          weakref\n",
      "_win32sysloader     idlelib             pyarrow             webbrowser\n",
      "_winapi             idna                pyasn1              webencodings\n",
      "_winxptheme         imagecodecs         pyasn1_modules      websocket\n",
      "_xxsubinterpreters  imageio             pyclbr              werkzeug\n",
      "_yaml               imagesize           pycodestyle         whatthepatch\n",
      "_zoneinfo           imaplib             pycosat             wheel\n",
      "abc                 imblearn            pycparser           widgetsnbextension\n",
      "adodbapi            imghdr              pyct                win2kras\n",
      "afxres              imp                 pycurl              win32api\n",
      "aifc                importlib           pydispatch          win32clipboard\n",
      "aiobotocore         importlib_metadata  pydoc               win32com\n",
      "aiofiles            incremental         pydoc_data          win32con\n",
      "aiohttp             inflection          pydocstyle          win32console\n",
      "aioitertools        iniconfig           pyexpat             win32cred\n",
      "aiosignal           inspect             pyflakes            win32crypt\n",
      "aiosqlite           intake              pygments            win32cryptcon\n",
      "alabaster           intervaltree        pylab               win32ctypes\n",
      "anaconda_catalogs   io                  pylint              win32event\n",
      "anaconda_navigator  ipaddress           pylint_venv         win32evtlog\n",
      "anaconda_project    ipykernel           pyls_spyder         win32evtlogutil\n",
      "antigravity         ipykernel_launcher  pylsp               win32file\n",
      "anyio               ipython_genutils    pylsp_black         win32gui\n",
      "appdirs             ipywidgets          pylsp_jsonrpc       win32gui_struct\n",
      "argon2              isapi               pyodbc              win32help\n",
      "argparse            isort               pyparsing           win32inet\n",
      "array               isympy              pyrsistent          win32inetcon\n",
      "arrow               itemadapter         pytest              win32job\n",
      "ast                 itemloaders         pythoncom           win32lz\n",
      "astroid             itertools           pythonjsonlogger    win32net\n",
      "astropy             itsdangerous        pytoolconfig        win32netcon\n",
      "asttokens           jedi                pytz                win32pdh\n",
      "async_timeout       jellyfish           pyviz_comms         win32pdhquery\n",
      "asynchat            jinja2              pywin               win32pdhutil\n",
      "asyncio             jinja2_time         pywin32_bootstrap   win32pipe\n",
      "asyncore            jmespath            pywin32_testutil    win32print\n",
      "atexit              joblib              pywintypes          win32process\n",
      "atomicwrites        json                pywt                win32profile\n",
      "attr                json5               qdarkstyle          win32ras\n",
      "attrs               jsonpatch           qstylizer           win32rcparser\n",
      "audioop             jsonpointer         qtawesome           win32security\n",
      "automat             jsonschema          qtconsole           win32service\n",
      "autopep8            jupyter             qtpy                win32serviceutil\n",
      "babel               jupyter_client      queue               win32timezone\n",
      "backcall            jupyter_console     queuelib            win32trace\n",
      "backports           jupyter_core        quopri              win32traceutil\n",
      "base64              jupyter_events      random              win32transaction\n",
      "bcrypt              jupyter_server      rasutil             win32ts\n",
      "bdb                 jupyter_server_fileid re                  win32ui\n",
      "binaryornot         jupyter_server_ydoc regcheck            win32uiole\n",
      "binascii            jupyter_ydoc        regex               win32verstamp\n",
      "binstar_client      jupyterlab          regutil             win32wnet\n",
      "bisect              jupyterlab_plotly   repo_cli            win_inet_pton\n",
      "black               jupyterlab_pygments reprlib             winerror\n",
      "blackd              jupyterlab_server   requests            winioctlcon\n",
      "bleach              jupyterlab_widgets  requests_file       winnt\n",
      "blib2to3            jwt                 requests_toolbelt   winperf\n",
      "bokeh               keyring             rfc3339_validator   winpty\n",
      "boltons             keyword             rfc3986_validator   winreg\n",
      "boto3               kiwisolver          rlcompleter         winsound\n",
      "botocore            lazy_loader         rope                winxpgui\n",
      "bottleneck          lazy_object_proxy   rtree               winxptheme\n",
      "brotli              lib2to3             ruamel_yaml         wrapt\n",
      "bs4                 libarchive          runpy               wsgiref\n",
      "builtins            libfuturize         s3fs                xarray\n",
      "bz2                 libmambapy          s3transfer          xdrlib\n",
      "cProfile            libpasteurize       sacremoses          xlwings\n",
      "calendar            lief                sched               xml\n",
      "certifi             linecache           scipy               xmlrpc\n",
      "cffi                linkify_it          scrapy              xxlimited\n",
      "cgi                 llvmlite            seaborn             xxlimited_35\n",
      "cgitb               lmdb                secrets             xxsubtype\n",
      "chardet             locale              select              xyzservices\n",
      "charset_normalizer  locket              selectors           y_py\n",
      "chunk               logging             send2trash          yaml\n",
      "click               lxml                service_identity    yapf\n",
      "cloudpickle         lz4                 servicemanager      yapftests\n",
      "clyent              lzma                setuptools          yarl\n",
      "cmath               mailbox             shelve              ypy_websocket\n",
      "cmd                 mailcap             shlex               zict\n",
      "code                markdown            shutil              zipapp\n",
      "codecs              markdown_it         signal              zipfile\n",
      "codeop              markupsafe          sipbuild            zipimport\n",
      "collections         marshal             site                zipp\n",
      "colorama            math                six                 zlib\n",
      "colorcet            matplotlib          skimage             zmq\n",
      "colorsys            matplotlib_inline   sklearn             zoneinfo\n",
      "comm                mccabe              sklearnex           zope\n",
      "commctrl            mdit_py_plugins     slugify             zstandard\n",
      "\n",
      "Enter any module name to get more help.  Or, type \"modules spam\" to search\n",
      "for modules whose name or summary contain the string \"spam\".\n",
      "\n"
     ]
    }
   ],
   "source": [
    "help('modules')"
   ]
  },
  {
   "cell_type": "code",
   "execution_count": 1,
   "id": "064b6789",
   "metadata": {},
   "outputs": [
    {
     "ename": "NameError",
     "evalue": "name 'i' is not defined",
     "output_type": "error",
     "traceback": [
      "\u001b[1;31m---------------------------------------------------------------------------\u001b[0m",
      "\u001b[1;31mNameError\u001b[0m                                 Traceback (most recent call last)",
      "Cell \u001b[1;32mIn[1], line 1\u001b[0m\n\u001b[1;32m----> 1\u001b[0m \u001b[38;5;28mid\u001b[39m(i)\n",
      "\u001b[1;31mNameError\u001b[0m: name 'i' is not defined"
     ]
    }
   ],
   "source": [
    "id(i)"
   ]
  },
  {
   "cell_type": "code",
   "execution_count": 15,
   "id": "2613a2ac",
   "metadata": {},
   "outputs": [
    {
     "data": {
      "text/plain": [
       "32"
      ]
     },
     "execution_count": 15,
     "metadata": {},
     "output_type": "execute_result"
    }
   ],
   "source": [
    "i=11\n",
    "j=10\n",
    "id(i)-id(j)"
   ]
  },
  {
   "cell_type": "code",
   "execution_count": 16,
   "id": "65778b38",
   "metadata": {},
   "outputs": [
    {
     "data": {
      "text/plain": [
       "False"
      ]
     },
     "execution_count": 16,
     "metadata": {},
     "output_type": "execute_result"
    }
   ],
   "source": [
    "i in [1,2,1,4,[10]]"
   ]
  },
  {
   "cell_type": "code",
   "execution_count": 20,
   "id": "cc31efea",
   "metadata": {},
   "outputs": [
    {
     "ename": "SyntaxError",
     "evalue": "invalid syntax (2462551351.py, line 1)",
     "output_type": "error",
     "traceback": [
      "\u001b[1;36m  Cell \u001b[1;32mIn[20], line 1\u001b[1;36m\u001b[0m\n\u001b[1;33m    i && j\u001b[0m\n\u001b[1;37m       ^\u001b[0m\n\u001b[1;31mSyntaxError\u001b[0m\u001b[1;31m:\u001b[0m invalid syntax\n"
     ]
    }
   ],
   "source": [
    "i && j"
   ]
  },
  {
   "cell_type": "code",
   "execution_count": 23,
   "id": "89ee2cb8",
   "metadata": {},
   "outputs": [
    {
     "data": {
      "text/plain": [
       "110"
      ]
     },
     "execution_count": 23,
     "metadata": {},
     "output_type": "execute_result"
    }
   ],
   "source": [
    "100+(t:=10)"
   ]
  },
  {
   "cell_type": "code",
   "execution_count": 24,
   "id": "b5ccaf39",
   "metadata": {},
   "outputs": [
    {
     "data": {
      "text/plain": [
       "10"
      ]
     },
     "execution_count": 24,
     "metadata": {},
     "output_type": "execute_result"
    }
   ],
   "source": [
    "t"
   ]
  },
  {
   "cell_type": "code",
   "execution_count": 25,
   "id": "47093e24",
   "metadata": {},
   "outputs": [
    {
     "data": {
      "text/plain": [
       "11"
      ]
     },
     "execution_count": 25,
     "metadata": {},
     "output_type": "execute_result"
    }
   ],
   "source": [
    "10 or 11"
   ]
  },
  {
   "cell_type": "code",
   "execution_count": 26,
   "id": "e31c3387",
   "metadata": {},
   "outputs": [
    {
     "data": {
      "text/plain": [
       "True"
      ]
     },
     "execution_count": 26,
     "metadata": {},
     "output_type": "execute_result"
    }
   ],
   "source": [
    "x=10\n",
    "10<=x<20"
   ]
  },
  {
   "cell_type": "code",
   "execution_count": 35,
   "id": "65eacd0b",
   "metadata": {},
   "outputs": [
    {
     "name": "stdout",
     "output_type": "stream",
     "text": [
      "True\n"
     ]
    },
    {
     "data": {
      "text/plain": [
       "True"
      ]
     },
     "execution_count": 35,
     "metadata": {},
     "output_type": "execute_result"
    }
   ],
   "source": [
    "x=10\n",
    "if(x<20 and x>=10):\n",
    "    print(True)\n",
    "else:\n",
    "    print(False)\n",
    "x<20 and x>=10"
   ]
  },
  {
   "cell_type": "code",
   "execution_count": 42,
   "id": "8882cc82",
   "metadata": {},
   "outputs": [
    {
     "data": {
      "text/plain": [
       "False"
      ]
     },
     "execution_count": 42,
     "metadata": {},
     "output_type": "execute_result"
    }
   ],
   "source": [
    "bool(None)"
   ]
  },
  {
   "cell_type": "code",
   "execution_count": 44,
   "id": "deefbd50",
   "metadata": {},
   "outputs": [
    {
     "data": {
      "text/plain": [
       "11"
      ]
     },
     "execution_count": 44,
     "metadata": {},
     "output_type": "execute_result"
    }
   ],
   "source": [
    "a=11\n",
    "10 if a!=11 else 11  "
   ]
  },
  {
   "cell_type": "code",
   "execution_count": 45,
   "id": "8abddad7",
   "metadata": {},
   "outputs": [
    {
     "data": {
      "text/plain": [
       "20.2"
      ]
     },
     "execution_count": 45,
     "metadata": {},
     "output_type": "execute_result"
    }
   ],
   "source": [
    "10+10.2"
   ]
  },
  {
   "cell_type": "code",
   "execution_count": 46,
   "id": "3cd36363",
   "metadata": {},
   "outputs": [
    {
     "data": {
      "text/plain": [
       "11"
      ]
     },
     "execution_count": 46,
     "metadata": {},
     "output_type": "execute_result"
    }
   ],
   "source": [
    "10+True"
   ]
  },
  {
   "cell_type": "code",
   "execution_count": 49,
   "id": "c32884ea",
   "metadata": {},
   "outputs": [
    {
     "data": {
      "text/plain": [
       "140707285406792"
      ]
     },
     "execution_count": 49,
     "metadata": {},
     "output_type": "execute_result"
    }
   ],
   "source": [
    "a=10\n",
    "id(a)"
   ]
  },
  {
   "cell_type": "code",
   "execution_count": 50,
   "id": "c8ff7d86",
   "metadata": {},
   "outputs": [
    {
     "data": {
      "text/plain": [
       "140707285406824"
      ]
     },
     "execution_count": 50,
     "metadata": {},
     "output_type": "execute_result"
    }
   ],
   "source": [
    "a=11\n",
    "id(a)"
   ]
  },
  {
   "cell_type": "code",
   "execution_count": null,
   "id": "e2a63104",
   "metadata": {},
   "outputs": [],
   "source": [
    "getsizeof()"
   ]
  },
  {
   "cell_type": "code",
   "execution_count": 51,
   "id": "f7b56838",
   "metadata": {},
   "outputs": [
    {
     "data": {
      "text/plain": [
       "(3+4j)"
      ]
     },
     "execution_count": 51,
     "metadata": {},
     "output_type": "execute_result"
    }
   ],
   "source": [
    "complex(3,4)"
   ]
  },
  {
   "cell_type": "code",
   "execution_count": 53,
   "id": "a7882518",
   "metadata": {},
   "outputs": [
    {
     "name": "stdout",
     "output_type": "stream",
     "text": [
      "Half matched\n"
     ]
    }
   ],
   "source": [
    "a='veer'\n",
    "match a:\n",
    "    case 'praveer':\n",
    "        print(\"Matched\")\n",
    "    case 'veer':\n",
    "        print(\"Half matched\")\n",
    "    case 'er':\n",
    "        print(\"1/4 matched\");\n",
    "    case _:\n",
    "        print(\"Nothing matched\");\n",
    "        "
   ]
  },
  {
   "cell_type": "markdown",
   "id": "59f3d478",
   "metadata": {},
   "source": [
    "# Guessing game(While  eg)\n",
    "### We will select jackpot number between 1 to 100, Ask user to guess jackpot number (take number from user), If jackpot number is > user number then print \"Enter greater number\" else if jackpot number is < user number then print \"Enter lesser number \" else (equal ) then stop the game and tell user how much attempt you had taken."
   ]
  },
  {
   "cell_type": "code",
   "execution_count": 56,
   "id": "3d7329da",
   "metadata": {},
   "outputs": [
    {
     "name": "stdout",
     "output_type": "stream",
     "text": [
      "Enter the number between 1 to 10012\n",
      "Enter greater number\n",
      "Enter the number again 12\n",
      "Enter greater number\n",
      "Enter the number again 13\n",
      "Enter greater number\n",
      "Enter the number again 2\n",
      "Enter greater number\n",
      "Enter the number again 34\n",
      "Enter lesser number\n",
      "Enter the number again 28.0\n"
     ]
    },
    {
     "ename": "ValueError",
     "evalue": "invalid literal for int() with base 10: '28.0'",
     "output_type": "error",
     "traceback": [
      "\u001b[1;31m---------------------------------------------------------------------------\u001b[0m",
      "\u001b[1;31mValueError\u001b[0m                                Traceback (most recent call last)",
      "Cell \u001b[1;32mIn[56], line 10\u001b[0m\n\u001b[0;32m      8\u001b[0m     \u001b[38;5;28;01melse\u001b[39;00m:\n\u001b[0;32m      9\u001b[0m         \u001b[38;5;28mprint\u001b[39m(\u001b[38;5;124m\"\u001b[39m\u001b[38;5;124mEnter lesser number\u001b[39m\u001b[38;5;124m\"\u001b[39m)\n\u001b[1;32m---> 10\u001b[0m     user_number \u001b[38;5;241m=\u001b[39m \u001b[38;5;28mint\u001b[39m(\u001b[38;5;28minput\u001b[39m(\u001b[38;5;124m\"\u001b[39m\u001b[38;5;124mEnter the number again \u001b[39m\u001b[38;5;124m\"\u001b[39m))\n\u001b[0;32m     13\u001b[0m \u001b[38;5;28;01melse\u001b[39;00m:\n\u001b[0;32m     14\u001b[0m     \u001b[38;5;28mprint\u001b[39m(\u001b[38;5;124m\"\u001b[39m\u001b[38;5;124mTotal chance to guess the number\u001b[39m\u001b[38;5;124m\"\u001b[39m,count)\n",
      "\u001b[1;31mValueError\u001b[0m: invalid literal for int() with base 10: '28.0'"
     ]
    }
   ],
   "source": [
    "jackpot_number = 28\n",
    "user_number = int(input(\"Enter the number between 1 to 100\"))\n",
    "count=0\n",
    "while user_number!=jackpot_number:\n",
    "    count+=1\n",
    "    if jackpot_number>user_number:\n",
    "        print(\"Enter greater number\")\n",
    "    else:\n",
    "        print(\"Enter lesser number\")\n",
    "    user_number = int(input(\"Enter the number again \"))\n",
    "\n",
    "        \n",
    "else:\n",
    "    print(\"Total chance to guess the number\",count)\n",
    "    \n"
   ]
  },
  {
   "cell_type": "code",
   "execution_count": 57,
   "id": "e1c5cae9",
   "metadata": {},
   "outputs": [
    {
     "name": "stdout",
     "output_type": "stream",
     "text": [
      "1\n",
      "2\n",
      "3\n",
      "4\n",
      "5\n",
      "6\n",
      "7\n",
      "8\n",
      "9\n"
     ]
    }
   ],
   "source": [
    "for i in range(1,10):\n",
    "    print(i)"
   ]
  },
  {
   "cell_type": "code",
   "execution_count": 58,
   "id": "49550a3c",
   "metadata": {},
   "outputs": [
    {
     "name": "stdout",
     "output_type": "stream",
     "text": [
      "1\n",
      "2\n",
      "3\n",
      "4\n",
      "5\n",
      "6\n",
      "7\n",
      "8\n",
      "9\n",
      "10\n"
     ]
    }
   ],
   "source": [
    "for i in [1,2,3,4,5,6,7,8,9,10]:\n",
    "    print(i)"
   ]
  },
  {
   "cell_type": "code",
   "execution_count": 59,
   "id": "5e5f4f24",
   "metadata": {},
   "outputs": [
    {
     "name": "stdout",
     "output_type": "stream",
     "text": [
      "1\n",
      "2\n",
      "3\n",
      "4\n",
      "5\n",
      "6\n",
      "7\n",
      "8\n",
      "9\n",
      "10\n"
     ]
    }
   ],
   "source": [
    "for i in (1,2,3,4,5,6,7,8,9,10):\n",
    "    print(i)"
   ]
  },
  {
   "cell_type": "code",
   "execution_count": 60,
   "id": "58f7ebfe",
   "metadata": {},
   "outputs": [
    {
     "name": "stdout",
     "output_type": "stream",
     "text": [
      "P\n",
      "u\n",
      "n\n",
      "e\n"
     ]
    }
   ],
   "source": [
    "for i in \"Pune\":\n",
    "    print(i)"
   ]
  },
  {
   "cell_type": "code",
   "execution_count": 61,
   "id": "756edd0e",
   "metadata": {},
   "outputs": [
    {
     "name": "stdout",
     "output_type": "stream",
     "text": [
      "1\n",
      "2\n",
      "3\n",
      "4\n"
     ]
    }
   ],
   "source": [
    "for i in {1,2,3,4}:\n",
    "    print(i)"
   ]
  },
  {
   "cell_type": "code",
   "execution_count": 62,
   "id": "072da533",
   "metadata": {},
   "outputs": [
    {
     "name": "stdout",
     "output_type": "stream",
     "text": [
      "1\n",
      "2\n",
      "3\n"
     ]
    }
   ],
   "source": [
    "for i in {1:'a',2:'b',3:'c'}:\n",
    "    print(i)"
   ]
  },
  {
   "cell_type": "code",
   "execution_count": 75,
   "id": "a3737cab",
   "metadata": {},
   "outputs": [
    {
     "name": "stdout",
     "output_type": "stream",
     "text": [
      "1.6458333333333333\n"
     ]
    }
   ],
   "source": [
    "n=4\n",
    "result = 0\n",
    "fact=1\n",
    "for i in range(1,n+1):\n",
    "    fact = fact*i\n",
    "    result += i/fact\n",
    "    fact +=fact\n",
    "    \n",
    "print(result)"
   ]
  },
  {
   "cell_type": "code",
   "execution_count": 77,
   "id": "3a9e0772",
   "metadata": {},
   "outputs": [],
   "source": [
    "a=10\n",
    "if a==10:\n",
    "    pass\n",
    "else:\n",
    "    print(\"not equal\")"
   ]
  },
  {
   "cell_type": "markdown",
   "id": "d484bc24",
   "metadata": {},
   "source": [
    "# String"
   ]
  },
  {
   "cell_type": "code",
   "execution_count": 82,
   "id": "4af03f86",
   "metadata": {},
   "outputs": [
    {
     "data": {
      "text/plain": [
       "(1878112100848, 1878112100848, 1878112100848)"
      ]
     },
     "execution_count": 82,
     "metadata": {},
     "output_type": "execute_result"
    }
   ],
   "source": [
    "#All are same\n",
    "s1 = 'hello'\n",
    "s2 = \"hello\"\n",
    "s3 = \"\"\"hello\"\"\"\n",
    "id(s1),id(s2),id(s3)"
   ]
  },
  {
   "cell_type": "code",
   "execution_count": 83,
   "id": "a34a61cf",
   "metadata": {},
   "outputs": [
    {
     "data": {
      "text/plain": [
       "'my name \\nis praveer'"
      ]
     },
     "execution_count": 83,
     "metadata": {},
     "output_type": "execute_result"
    }
   ],
   "source": [
    "s4 = \"\"\"my name \n",
    "is praveer\"\"\"# multi line \n",
    "s4"
   ]
  },
  {
   "cell_type": "code",
   "execution_count": 101,
   "id": "423b1424",
   "metadata": {},
   "outputs": [
    {
     "name": "stdout",
     "output_type": "stream",
     "text": [
      "patarpreevarp\n",
      "paerrt\n",
      "trre\n",
      "aape\n",
      "\n"
     ]
    }
   ],
   "source": [
    "s5 = 'praveerpratap'\n",
    "print(s5[::-1])\n",
    "print(s5[0:12:2])\n",
    "print(s5[10:2:-2])\n",
    "print(s5[-2:3:-2])# doubt\n",
    "print(s5[-2:-10:2])"
   ]
  },
  {
   "cell_type": "code",
   "execution_count": 102,
   "id": "4aaf77a6",
   "metadata": {},
   "outputs": [
    {
     "ename": "NameError",
     "evalue": "name 's6' is not defined",
     "output_type": "error",
     "traceback": [
      "\u001b[1;31m---------------------------------------------------------------------------\u001b[0m",
      "\u001b[1;31mNameError\u001b[0m                                 Traceback (most recent call last)",
      "Cell \u001b[1;32mIn[102], line 3\u001b[0m\n\u001b[0;32m      1\u001b[0m s6 \u001b[38;5;241m=\u001b[39m \u001b[38;5;124m\"\u001b[39m\u001b[38;5;124mpraveer\u001b[39m\u001b[38;5;124m\"\u001b[39m\n\u001b[0;32m      2\u001b[0m \u001b[38;5;28;01mdel\u001b[39;00m s6\n\u001b[1;32m----> 3\u001b[0m \u001b[38;5;28mprint\u001b[39m(s6)\n",
      "\u001b[1;31mNameError\u001b[0m: name 's6' is not defined"
     ]
    }
   ],
   "source": [
    "s6 = \"praveer\"\n",
    "del s6\n",
    "print(s6)"
   ]
  },
  {
   "cell_type": "code",
   "execution_count": 104,
   "id": "7dbbbf80",
   "metadata": {},
   "outputs": [
    {
     "ename": "TypeError",
     "evalue": "'str' object does not support item deletion",
     "output_type": "error",
     "traceback": [
      "\u001b[1;31m---------------------------------------------------------------------------\u001b[0m",
      "\u001b[1;31mTypeError\u001b[0m                                 Traceback (most recent call last)",
      "Cell \u001b[1;32mIn[104], line 2\u001b[0m\n\u001b[0;32m      1\u001b[0m s6 \u001b[38;5;241m=\u001b[39m \u001b[38;5;124m\"\u001b[39m\u001b[38;5;124mpraveer\u001b[39m\u001b[38;5;124m\"\u001b[39m\n\u001b[1;32m----> 2\u001b[0m \u001b[38;5;28;01mdel\u001b[39;00m s6[\u001b[38;5;241m1\u001b[39m:\u001b[38;5;241m2\u001b[39m]\n",
      "\u001b[1;31mTypeError\u001b[0m: 'str' object does not support item deletion"
     ]
    }
   ],
   "source": [
    "s6 = \"praveer\"\n",
    "del s6[1:2]#string is immutable\n"
   ]
  },
  {
   "cell_type": "code",
   "execution_count": 105,
   "id": "fe6153fa",
   "metadata": {},
   "outputs": [
    {
     "data": {
      "text/plain": [
       "'praveerpratap'"
      ]
     },
     "execution_count": 105,
     "metadata": {},
     "output_type": "execute_result"
    }
   ],
   "source": [
    "\"praveer\"+\"pratap\""
   ]
  },
  {
   "cell_type": "code",
   "execution_count": 106,
   "id": "1a935bde",
   "metadata": {},
   "outputs": [
    {
     "data": {
      "text/plain": [
       "'**************************************************'"
      ]
     },
     "execution_count": 106,
     "metadata": {},
     "output_type": "execute_result"
    }
   ],
   "source": [
    "\"*\"*50"
   ]
  },
  {
   "cell_type": "code",
   "execution_count": 107,
   "id": "02f3f935",
   "metadata": {},
   "outputs": [
    {
     "data": {
      "text/plain": [
       "'hello'"
      ]
     },
     "execution_count": 107,
     "metadata": {},
     "output_type": "execute_result"
    }
   ],
   "source": [
    "'hello' or 'world' # checks 1st value if true then print 1st value no need to check the next value"
   ]
  },
  {
   "cell_type": "code",
   "execution_count": 108,
   "id": "e508e617",
   "metadata": {},
   "outputs": [
    {
     "data": {
      "text/plain": [
       "'world'"
      ]
     },
     "execution_count": 108,
     "metadata": {},
     "output_type": "execute_result"
    }
   ],
   "source": [
    "'hello' and 'world' # in and it check 1st then 2nd if 2nd is true then print that 2nd one"
   ]
  },
  {
   "cell_type": "code",
   "execution_count": 109,
   "id": "e3c5c1a6",
   "metadata": {},
   "outputs": [
    {
     "data": {
      "text/plain": [
       "'hello'"
      ]
     },
     "execution_count": 109,
     "metadata": {},
     "output_type": "execute_result"
    }
   ],
   "source": [
    "'' or 'hello'"
   ]
  },
  {
   "cell_type": "code",
   "execution_count": 110,
   "id": "4244c404",
   "metadata": {},
   "outputs": [
    {
     "data": {
      "text/plain": [
       "'hello'"
      ]
     },
     "execution_count": 110,
     "metadata": {},
     "output_type": "execute_result"
    }
   ],
   "source": [
    "'' or 'hello'"
   ]
  },
  {
   "cell_type": "code",
   "execution_count": 111,
   "id": "a63b5f83",
   "metadata": {},
   "outputs": [
    {
     "name": "stdout",
     "output_type": "stream",
     "text": [
      "p\n",
      "r\n",
      "a\n",
      "v\n",
      "e\n",
      "e\n",
      "r\n"
     ]
    }
   ],
   "source": [
    "for i in 'praveer':\n",
    "    print(i)"
   ]
  },
  {
   "cell_type": "code",
   "execution_count": 115,
   "id": "95e2d028",
   "metadata": {},
   "outputs": [
    {
     "name": "stdout",
     "output_type": "stream",
     "text": [
      "7 v a ['a', 'e', 'e', 'p', 'r', 'r', 'v']\n"
     ]
    }
   ],
   "source": [
    "s7=\"praveer\"\n",
    "print(len(s7),max(s7),min(s7),sorted(s7,reverse=True))"
   ]
  },
  {
   "cell_type": "code",
   "execution_count": 116,
   "id": "5db27c23",
   "metadata": {},
   "outputs": [
    {
     "data": {
      "text/plain": [
       "'PRAVEER'"
      ]
     },
     "execution_count": 116,
     "metadata": {},
     "output_type": "execute_result"
    }
   ],
   "source": [
    "s7.upper()"
   ]
  },
  {
   "cell_type": "code",
   "execution_count": 118,
   "id": "57c85c92",
   "metadata": {},
   "outputs": [
    {
     "data": {
      "text/plain": [
       "'praveer'"
      ]
     },
     "execution_count": 118,
     "metadata": {},
     "output_type": "execute_result"
    }
   ],
   "source": [
    "s7.lower()"
   ]
  },
  {
   "cell_type": "code",
   "execution_count": 121,
   "id": "5c1e7d75",
   "metadata": {},
   "outputs": [
    {
     "data": {
      "text/plain": [
       "['pr', 'veerpr', 't', 'ppr', 'veer']"
      ]
     },
     "execution_count": 121,
     "metadata": {},
     "output_type": "execute_result"
    }
   ],
   "source": [
    "l1=\"praveerpratappraveer\".split('a')\n",
    "l1"
   ]
  },
  {
   "cell_type": "code",
   "execution_count": 123,
   "id": "8063216a",
   "metadata": {},
   "outputs": [
    {
     "data": {
      "text/plain": [
       "'pr veerpr t ppr veer'"
      ]
     },
     "execution_count": 123,
     "metadata": {},
     "output_type": "execute_result"
    }
   ],
   "source": [
    "\" \".join(l1)"
   ]
  },
  {
   "cell_type": "code",
   "execution_count": 125,
   "id": "ccbffff4",
   "metadata": {},
   "outputs": [
    {
     "data": {
      "text/plain": [
       "'pra     '"
      ]
     },
     "execution_count": 125,
     "metadata": {},
     "output_type": "execute_result"
    }
   ],
   "source": [
    "'pra     '.strip()"
   ]
  },
  {
   "cell_type": "code",
   "execution_count": 129,
   "id": "207d6fcd",
   "metadata": {},
   "outputs": [
    {
     "name": "stdout",
     "output_type": "stream",
     "text": [
      "length is  7\n"
     ]
    }
   ],
   "source": [
    "s8=\"praveer\"\n",
    "count=0\n",
    "for i in s8:\n",
    "    count +=1\n",
    "else:\n",
    "    print(\"length is \", count)"
   ]
  },
  {
   "cell_type": "code",
   "execution_count": 131,
   "id": "dad69fcd",
   "metadata": {},
   "outputs": [
    {
     "data": {
      "text/plain": [
       "1"
      ]
     },
     "execution_count": 131,
     "metadata": {},
     "output_type": "execute_result"
    }
   ],
   "source": [
    "\"praveer\".count('a')"
   ]
  },
  {
   "cell_type": "code",
   "execution_count": 142,
   "id": "f572245f",
   "metadata": {},
   "outputs": [
    {
     "name": "stdout",
     "output_type": "stream",
     "text": [
      "palindrome\n"
     ]
    }
   ],
   "source": [
    "#palindrome\n",
    "s9='maam'\n",
    "\"\"\"if s9==s9[::-1]:\n",
    "    print(\"palindrome\")\n",
    "else:\n",
    "    print(\"not palindrome\")\"\"\"\n",
    "flag=True\n",
    "for i in range(len(s9)//2-1):\n",
    "    if s9[i]!=s9[len(s9)-1-i]:\n",
    "        flag=False\n",
    "else:\n",
    "    if(flag==True):\n",
    "        print(\"palindrome\")\n",
    "    else:\n",
    "        print(\"not palindrome\")\n",
    "        "
   ]
  },
  {
   "cell_type": "code",
   "execution_count": 155,
   "id": "7be5340a",
   "metadata": {},
   "outputs": [
    {
     "name": "stdout",
     "output_type": "stream",
     "text": [
      "['My', 'name', 'is', 'praveer']\n"
     ]
    }
   ],
   "source": [
    "#number of words\n",
    "s10 = \"  My name is     praveer     \"\n",
    "l1=[]\n",
    "str1=''\n",
    "for i in s10:\n",
    "    if i!=' ':\n",
    "        str1 +=i\n",
    "    else:\n",
    "        if str1!='':\n",
    "            l1.append(str1)\n",
    "            str1=''\n",
    "print(l1)"
   ]
  },
  {
   "cell_type": "code",
   "execution_count": 157,
   "id": "bd3c89b9",
   "metadata": {},
   "outputs": [
    {
     "name": "stdout",
     "output_type": "stream",
     "text": [
      "123\n"
     ]
    }
   ],
   "source": [
    "n1 = 123\n",
    "str11=str(n1)\n",
    "print(str11)"
   ]
  },
  {
   "cell_type": "code",
   "execution_count": null,
   "id": "c7e74f50",
   "metadata": {},
   "outputs": [],
   "source": []
  },
  {
   "cell_type": "code",
   "execution_count": null,
   "id": "4aa7500e",
   "metadata": {},
   "outputs": [],
   "source": []
  },
  {
   "cell_type": "code",
   "execution_count": null,
   "id": "3668b86f",
   "metadata": {},
   "outputs": [],
   "source": []
  }
 ],
 "metadata": {
  "kernelspec": {
   "display_name": "Python 3 (ipykernel)",
   "language": "python",
   "name": "python3"
  },
  "language_info": {
   "codemirror_mode": {
    "name": "ipython",
    "version": 3
   },
   "file_extension": ".py",
   "mimetype": "text/x-python",
   "name": "python",
   "nbconvert_exporter": "python",
   "pygments_lexer": "ipython3",
   "version": "3.11.4"
  }
 },
 "nbformat": 4,
 "nbformat_minor": 5
}
