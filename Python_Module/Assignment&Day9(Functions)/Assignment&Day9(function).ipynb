{
 "cells": [
  {
   "cell_type": "code",
   "execution_count": null,
   "id": "221baee1",
   "metadata": {},
   "outputs": [],
   "source": [
    "Q WA function to take a number ass parameter and  print True if given number is even else print False\n",
    "\n",
    "Q WA function to take list as parameter and print all numbers of given list which are divisible by 11\n",
    "\n",
    "Q WA function to take string as parameter\n",
    "Check if string is palindrome are not\n",
    "If palindrome return 1\n",
    "if not palindrome return 0\n",
    "\n",
    "Q WA function to check if number is prime or not. Return True if number is prime and false if number not prime.\n",
    "\n",
    "Q WA function to take a string as parameter. Print its alternate characters starting from 2nd character\n",
    "\n",
    "Q WA function to take dictionary as parameter. Print all keys of the dictionary\n",
    "\n",
    "Q WA function to take a dictionary as parameter. Print value of key \"name\" if key \"rollno\" is having value 100.\n",
    "\n",
    "Q WA function to list of strings as parameter and print all strings which have character 's' 2 times\n",
    "\n",
    "Q WA function to take list of dictionaries. Print all dictionaries which contain key \"id\"."
   ]
  },
  {
   "cell_type": "markdown",
   "id": "1d3fb808",
   "metadata": {},
   "source": [
    "Q1 WA function to take a number ass parameter and  print True if given number is even else print False\n"
   ]
  },
  {
   "cell_type": "code",
   "execution_count": 4,
   "id": "4626a45c",
   "metadata": {},
   "outputs": [
    {
     "name": "stdout",
     "output_type": "stream",
     "text": [
      "0 is even\n"
     ]
    }
   ],
   "source": [
    "def odd_even(num):\n",
    "    if num%2==0:\n",
    "        print(num,'is even')\n",
    "        return\n",
    "    else:\n",
    "        print(num,'is odd')\n",
    "        return\n",
    "odd_even(0)\n",
    "    "
   ]
  },
  {
   "cell_type": "markdown",
   "id": "83efbaa7",
   "metadata": {},
   "source": [
    "Q2 WA function to take list as parameter and print all numbers of given list which are divisible by 11\n"
   ]
  },
  {
   "cell_type": "code",
   "execution_count": 6,
   "id": "74703dc0",
   "metadata": {},
   "outputs": [
    {
     "name": "stdout",
     "output_type": "stream",
     "text": [
      "[11, 22]\n"
     ]
    }
   ],
   "source": [
    "def div_11(l1):\n",
    "    l2=[]\n",
    "    for e in l1:\n",
    "        if(e%11==0):\n",
    "            l2.append(e)\n",
    "    return l2\n",
    "l1=[11,12,13,22,23]\n",
    "print(div_11(l1))"
   ]
  },
  {
   "cell_type": "markdown",
   "id": "782f6cfa",
   "metadata": {},
   "source": [
    "Q3 WA function to take string as parameter\n",
    "Check if string is palindrome are not\n",
    "If palindrome return 1\n",
    "if not palindrome return 0"
   ]
  },
  {
   "cell_type": "code",
   "execution_count": 22,
   "id": "fb8cdf8b",
   "metadata": {},
   "outputs": [
    {
     "name": "stdout",
     "output_type": "stream",
     "text": [
      "0\n"
     ]
    }
   ],
   "source": [
    "def check_palindrome(s):\n",
    "    check=True\n",
    "    for i in range(len(s)):\n",
    "        if s[i]==s[len(s)-i-1]:\n",
    "            pass\n",
    "        else:\n",
    "            check=False\n",
    "            return 0\n",
    "    if check==True:\n",
    "        return 1\n",
    "print(check_palindrome('abccbaa'))"
   ]
  },
  {
   "cell_type": "code",
   "execution_count": 55,
   "id": "d286bf50",
   "metadata": {},
   "outputs": [
    {
     "name": "stdout",
     "output_type": "stream",
     "text": [
      "1\n"
     ]
    }
   ],
   "source": [
    "def check_palindrome(s):\n",
    "    if s==s[::-1]:\n",
    "        return 1\n",
    "    else:\n",
    "        return 0\n",
    "print(check_palindrome('abccba'))"
   ]
  },
  {
   "cell_type": "markdown",
   "id": "d1d2bbe6",
   "metadata": {},
   "source": [
    "Q4 WA function to check if number is prime or not. Return True if number is prime and false if number not prime.\n"
   ]
  },
  {
   "cell_type": "code",
   "execution_count": 10,
   "id": "91a8b0c1",
   "metadata": {},
   "outputs": [
    {
     "name": "stdout",
     "output_type": "stream",
     "text": [
      "number is not prime\n"
     ]
    }
   ],
   "source": [
    "def check_prime(number):\n",
    "    for i in range(2,int(number**0.5)+1):\n",
    "        if number%i==0:\n",
    "            return 'number is not prime'\n",
    "    return 'number is prime'\n",
    "    \n",
    "print(check_prime(14))"
   ]
  },
  {
   "cell_type": "code",
   "execution_count": null,
   "id": "2425c854",
   "metadata": {},
   "outputs": [],
   "source": [
    "Q5 WA function to take a string as parameter. Print its alternate characters starting from 2nd character\n"
   ]
  },
  {
   "cell_type": "code",
   "execution_count": 13,
   "id": "1ca90be4",
   "metadata": {},
   "outputs": [
    {
     "name": "stdout",
     "output_type": "stream",
     "text": [
      "rve\n"
     ]
    }
   ],
   "source": [
    "def alternate_char(string1):\n",
    "    return string1[1::2]\n",
    "\n",
    "print(alternate_char('Praveer'))\n",
    "    "
   ]
  },
  {
   "cell_type": "markdown",
   "id": "653adf6a",
   "metadata": {},
   "source": [
    "Q6 WA function to take dictionary as parameter. Print all keys of the dictionary\n"
   ]
  },
  {
   "cell_type": "code",
   "execution_count": 30,
   "id": "3c7f7a75",
   "metadata": {},
   "outputs": [
    {
     "name": "stdout",
     "output_type": "stream",
     "text": [
      "1\n",
      "2\n",
      "3\n"
     ]
    }
   ],
   "source": [
    "def display_dict(d2):\n",
    "    for i in d2:\n",
    "        print(i)\n",
    "d1={1:\"a\",2:\"b\",3:\"c\"}\n",
    "display_dict(d1)\n",
    "    "
   ]
  },
  {
   "cell_type": "markdown",
   "id": "30836b4b",
   "metadata": {},
   "source": [
    "Q7 WA function to take a dictionary as parameter. Print value of key \"name\" if key \"rollno\" is having value 100.\n"
   ]
  },
  {
   "cell_type": "code",
   "execution_count": 32,
   "id": "bf748566",
   "metadata": {},
   "outputs": [
    {
     "name": "stdout",
     "output_type": "stream",
     "text": [
      "a\n"
     ]
    }
   ],
   "source": [
    "def dict_d(d2):\n",
    "    if d2['rollno'] == 100:\n",
    "        print(d2['name'])\n",
    "    \n",
    "d1={'name':\"a\",\"rollno\":100}\n",
    "dict_d(d1)\n",
    "    "
   ]
  },
  {
   "cell_type": "markdown",
   "id": "b38dbd8d",
   "metadata": {},
   "source": [
    "Q WA function to take a dictionary as parameter. Print value of key \"price\" if key \"item\" is milk."
   ]
  },
  {
   "cell_type": "code",
   "execution_count": 36,
   "id": "55bf69ed",
   "metadata": {},
   "outputs": [
    {
     "name": "stdout",
     "output_type": "stream",
     "text": [
      "100\n"
     ]
    }
   ],
   "source": [
    "def dict_a(d3):\n",
    "    if d3['item']=='milk':\n",
    "        print(d3['price'])\n",
    "    \n",
    "d1={'price':100,\"item\":'milk'}\n",
    "dict_a(d1)"
   ]
  },
  {
   "cell_type": "markdown",
   "id": "8f53c98b",
   "metadata": {},
   "source": [
    "Q8 WA function to list of strings as parameter and print all strings which have character 's' 2 times\n"
   ]
  },
  {
   "cell_type": "code",
   "execution_count": 42,
   "id": "bf1052b9",
   "metadata": {},
   "outputs": [
    {
     "name": "stdout",
     "output_type": "stream",
     "text": [
      "['ss', 'sas']\n"
     ]
    }
   ],
   "source": [
    "def dict_b(l1):\n",
    "    l2=[]\n",
    "    for i in l1:\n",
    "        if i.count('s')==2:\n",
    "            l2.append(i)\n",
    "    return l2\n",
    "\n",
    "l1=['ss','sas','aas','aaa']\n",
    "l2=dict_b(l1)\n",
    "print(l2)"
   ]
  },
  {
   "cell_type": "code",
   "execution_count": null,
   "id": "c27ec70a",
   "metadata": {},
   "outputs": [],
   "source": []
  },
  {
   "cell_type": "markdown",
   "id": "1b04e251",
   "metadata": {},
   "source": [
    "Q9 WA function to take list of dictionaries. Print all dictionaries which contain key \"id\"."
   ]
  },
  {
   "cell_type": "code",
   "execution_count": 47,
   "id": "a3085765",
   "metadata": {},
   "outputs": [
    {
     "name": "stdout",
     "output_type": "stream",
     "text": [
      "[{'name': 1, 'id': 10}, {'name': 5, 'id': 20}]\n"
     ]
    }
   ],
   "source": [
    "def dict_c(l1):\n",
    "    l2=[]\n",
    "    for i in l1:\n",
    "        for j in i:\n",
    "            if j=='id':\n",
    "                l2.append(i)\n",
    "                break\n",
    "    return l2\n",
    "\n",
    "l1=[{'name':1,'id':10},{'name':2},{'name':3,'id1':20},{'name':4,'id2':20},{'name':5,'id':20}]\n",
    "l2=dict_c(l1)\n",
    "print(l2)"
   ]
  },
  {
   "cell_type": "code",
   "execution_count": 53,
   "id": "f69efa5f",
   "metadata": {},
   "outputs": [
    {
     "name": "stdout",
     "output_type": "stream",
     "text": [
      "[{'name': 1, 'id': 10}, {'name': 5, 'id': 20}]\n"
     ]
    }
   ],
   "source": [
    "def dict_c(l1):\n",
    "    l2=[]\n",
    "    for i in l1:\n",
    "        if 'id' in i.keys():\n",
    "            l2.append(i)\n",
    "    return l2\n",
    "\n",
    "l1=[{'name':1,'id':10},{'name':2},{'name':3,'id1':20},{'name':4,'id2':20},{'name':5,'id':20}]\n",
    "l2=dict_c(l1)\n",
    "print(l2)"
   ]
  },
  {
   "cell_type": "code",
   "execution_count": null,
   "id": "65b9fe05",
   "metadata": {},
   "outputs": [],
   "source": []
  },
  {
   "cell_type": "code",
   "execution_count": null,
   "id": "8b88652b",
   "metadata": {},
   "outputs": [],
   "source": []
  }
 ],
 "metadata": {
  "kernelspec": {
   "display_name": "Python 3 (ipykernel)",
   "language": "python",
   "name": "python3"
  },
  "language_info": {
   "codemirror_mode": {
    "name": "ipython",
    "version": 3
   },
   "file_extension": ".py",
   "mimetype": "text/x-python",
   "name": "python",
   "nbconvert_exporter": "python",
   "pygments_lexer": "ipython3",
   "version": "3.11.4"
  }
 },
 "nbformat": 4,
 "nbformat_minor": 5
}
