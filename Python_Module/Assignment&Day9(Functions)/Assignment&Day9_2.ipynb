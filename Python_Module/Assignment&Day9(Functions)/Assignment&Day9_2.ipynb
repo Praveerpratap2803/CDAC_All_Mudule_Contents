{
 "cells": [
  {
   "cell_type": "code",
   "execution_count": 3,
   "id": "268fd922",
   "metadata": {},
   "outputs": [
    {
     "name": "stdout",
     "output_type": "stream",
     "text": [
      "CSDIA\n"
     ]
    }
   ],
   "source": [
    "s='IACSD'\n",
    "n=2\n",
    "s1=s[2::1]\n",
    "s2=s[0:2]\n",
    "print(s1+s2)"
   ]
  },
  {
   "cell_type": "markdown",
   "id": "4e73ac89",
   "metadata": {},
   "source": [
    "# Assignments on function\n",
    "Following assignments involve multiple tasks\n",
    "It is expected you create seperate functions for each task \n",
    "and then use them to achieve complete solution!\n",
    "\n",
    "1. Write function which takes two parameters account no and name of the user.\n",
    "Check if the account number is valid. Account no is valid only if it is a 4 digit number less than 5000\n",
    "Check if the name is valid. Name is valid if all characters are alphabets and no numbers or special chars in the name\n",
    "If both name and 'acc no' are valid return True \n",
    "If acc no is invalid return a message string saying “Account no is invalid”\n",
    "if name is invalid return None\n",
    "\n",
    "\n",
    "2. WA function to calculate total salary given that\n",
    "1. post      2. basic salary\n",
    "rules:\n",
    "post can be manager or employee\n",
    "total sal = basic + TA + HRA\n",
    "TA = 5000 for 'manager' \n",
    "and TA = 10,000 for 'employee'\n",
    "HRA = 20,000 for 'manager' and HRA = 12,000 for 'employee'\n",
    "\n",
    "return total salary based on two parameters\n",
    "\n",
    "\n",
    "3.  WA function to rotate given string by 2 position to right\n",
    "\n",
    "Ex.\n",
    "s1=”IACSD”\n",
    "Rotate by 2 place to right\n",
    "“SDIAC”\n",
    "\n",
    "4.  Generalize above function to rotate string to right by n\n",
    "\n",
    "5.  Generalize above function to rotate string by n to right or left\n",
    "\n",
    "6. WAP to count number of passengers in every airline. Here we are given dictionary of passanger id and airline id\n",
    "Ex\n",
    "input_dir ={'p1':'a1','p2':'a10','p89':'a1','p5':'a10'}\n",
    "output: {'a1':2, 'a10':2}\n",
    "\n",
    "7. given a list of strings.\n",
    "every string is in format \"Emp_name:Emp_id\"\n",
    "Emp_id is always a number\n",
    "if emp_id is amstrong number then rotate emp_name 1 place to the right --> and print the emp_name\n",
    "if emp_id is a prime no then print vowels from the employee name\n",
    "in other cases print consonents from the emp name\n",
    "Finally there should be print of every employee name as per given condition\n",
    "\n",
    "8. Write a function which takes all details of a person as input in sequence and prints details as follows\n",
    "(Hint: Think which type of parameter to be used for every option)\n",
    "a. Take name and Print it in Camel Case\n",
    "b. Take 10 digit Mobile No and print it appending +91\n",
    "c. Take location as optional value. If not given then print India\n",
    "d. Take Qualifications. Qualifications can be 1 or 2 or many.\n",
    "Print all the passed qualifications one by one. Default qualification is \"Human\"\n",
    "\n",
    "9. Create a function \"cloth_details\" with three arguments, color, shape and size. All three are optional and can be passed in any sequence by the user.\n",
    "\n",
    "10. Create a calculator.py file \n",
    "Create add(), subtract(), multiply(), divide(), power(), log() functions\n",
    "Create a menu driven program to take values and operation as input from user and print result using these functions\n",
    "\n",
    "Take ONLY integer inputs from user. If its not an integer then give Error message -> \"WRONG Input: Please enter ONLY integer value\"\n",
    "Your program should not give \"ValueError\" while using int() function for any input from below, It should display YOUR error message\n",
    "Enter a number : 10\n",
    "Enter a number : 10.9\n",
    "Enter a number : ABC\n",
    "(Hint: Think about methods from string data type to check input as integer)\n",
    "\n",
    "11. Write a function which finds average of given arguments. Minimum it takes two parameters and maximum it can take any number of arguments.\n",
    "Finally it should return average of all arguments passed\n",
    "\n",
    "Ex. avg(10,12)  return value 11\n",
    "avg(3,4,5)  return value 4\n",
    "avg(1,2,3,4,5,6,7,8,9,10) return value 5.5\n",
    "Extra case \n",
    "avg(1,2,avg(4,5,6)) return value 2.667 (roughly 8/3)\n",
    "\n",
    "\n",
    "Advanced Questions\n",
    "Q. what is output of following program? Explain\n",
    "def def_arg(l1=[]):\n",
    "\tl1.append(234)\n",
    "\tprint(l1)\n",
    "\n",
    "def_arg()\n",
    "def_arg([10,20,30])\n",
    "def_arg()\n",
    "\n",
    "Q. Explain how recurssion works in any recurssive function.\n",
    "Eplain why it is not used in industry?\n",
    "\n",
    "Q. In Question 10, allow user to give integer or float values as input. \n",
    "Write your own function to verify that given input is integer or float or something else.\n",
    "If its not an integer or float then give Error message -> \"WRONG Input: Please enter ONLY integer or float value\"\n",
    "Your program should not give \"ValueError\" while using float() or int() function for any input from below, It should display YOUR error message\n",
    "Enter a number : 10\n",
    "Enter a number : 10.9\n",
    "Enter a number : ABC\n",
    "\n",
    "Q. Write a function general_add() \n",
    "It takes only 2 parameters.\n",
    "Data type of passed argument can be int , string , list\n",
    "If both are int or float then return simple addition\n",
    "If both are string then return concated string\n",
    "If both are list then return concated list\n",
    "\n",
    "If one string one int then return concated value of string and int\n",
    "Ex. general_add(10,'ss') return ss10 \n",
    "general_add('ss',10 ) return ss10 \n",
    "\n",
    "If one list and one int then return new list with appended int (don't modify original list)\n",
    "\n",
    "Ex. \n",
    "list1=[10,20,30]\n",
    "general_add(list1,45) return [10,20,30,45]  But print(l1) will give [10,20,30]\n",
    "\n",
    "same output general_add(45,list1)\n",
    "\n",
    "\n",
    "If one is list and one string then return updated list which will have all chracters from string appended at the end\n",
    "Ex. \n",
    "list1=[10,20,30]\n",
    "general_add(list1,'ABC')  return modified list1  print(list1) will give [10,20,30,'A','B','C']\n",
    "\n",
    "same output if general_add('ABC',list1)\n"
   ]
  },
  {
   "cell_type": "code",
   "execution_count": null,
   "id": "c030106a",
   "metadata": {},
   "outputs": [],
   "source": [
    "1. Write function which takes two parameters account no and name of the user.\n",
    "Check if the account number is valid. Account no is valid only if it is a 4 digit number less than 5000\n",
    "Check if the name is valid. Name is valid if all characters are alphabets and no numbers or special chars in the name\n",
    "If both name and 'acc no' are valid return True \n",
    "If acc no is invalid return a message string saying “Account no is invalid”\n",
    "if name is invalid return None"
   ]
  },
  {
   "cell_type": "code",
   "execution_count": null,
   "id": "7c29bfeb",
   "metadata": {},
   "outputs": [],
   "source": []
  },
  {
   "cell_type": "code",
   "execution_count": null,
   "id": "d8834cf8",
   "metadata": {},
   "outputs": [],
   "source": []
  },
  {
   "cell_type": "code",
   "execution_count": null,
   "id": "ad01be50",
   "metadata": {},
   "outputs": [],
   "source": [
    "2. WA function to calculate total salary given that\n",
    "1. post      2. basic salary\n",
    "rules:\n",
    "post can be manager or employee\n",
    "total sal = basic + TA + HRA\n",
    "TA = 5000 for 'manager' \n",
    "and TA = 10,000 for 'employee'\n",
    "HRA = 20,000 for 'manager' and HRA = 12,000 for 'employee'\n",
    "\n",
    "return total salary based on two parameters"
   ]
  },
  {
   "cell_type": "code",
   "execution_count": null,
   "id": "f5613608",
   "metadata": {},
   "outputs": [],
   "source": []
  },
  {
   "cell_type": "code",
   "execution_count": null,
   "id": "b3d7be6f",
   "metadata": {},
   "outputs": [],
   "source": []
  },
  {
   "cell_type": "markdown",
   "id": "245f79fe",
   "metadata": {},
   "source": [
    "3.  WA function to rotate given string by 2 position to right\n",
    "\n",
    "Ex.\n",
    "s1=”IACSD”\n",
    "Rotate by 2 place to right\n",
    "“SDIAC”"
   ]
  },
  {
   "cell_type": "code",
   "execution_count": 5,
   "id": "a14dfb38",
   "metadata": {},
   "outputs": [
    {
     "name": "stdout",
     "output_type": "stream",
     "text": [
      "CSDIA\n"
     ]
    }
   ],
   "source": [
    "s='IACSD'\n",
    "n=2\n",
    "s1=s[2::]\n",
    "s2=s[0:2]\n",
    "print(s1+s2)"
   ]
  },
  {
   "cell_type": "code",
   "execution_count": null,
   "id": "4a51e5d4",
   "metadata": {},
   "outputs": [],
   "source": [
    "4.  Generalize above function to rotate string to right by n\n"
   ]
  },
  {
   "cell_type": "code",
   "execution_count": null,
   "id": "00b32ee3",
   "metadata": {},
   "outputs": [],
   "source": []
  },
  {
   "cell_type": "markdown",
   "id": "c947337c",
   "metadata": {},
   "source": [
    "5.  Generalize above function to rotate string by n to right or left\n"
   ]
  },
  {
   "cell_type": "code",
   "execution_count": null,
   "id": "db2e2be1",
   "metadata": {},
   "outputs": [],
   "source": [
    "def "
   ]
  },
  {
   "cell_type": "markdown",
   "id": "01e96f35",
   "metadata": {},
   "source": [
    "6. WAP to count number of passengers in every airline. Here we are given dictionary of passanger id and airline id\n",
    "Ex\n",
    "input_dir ={'p1':'a1','p2':'a10','p89':'a1','p5':'a10'}\n",
    "output: {'a1':2, 'a10':2}"
   ]
  },
  {
   "cell_type": "code",
   "execution_count": 6,
   "id": "44d19ba7",
   "metadata": {},
   "outputs": [
    {
     "name": "stdout",
     "output_type": "stream",
     "text": [
      "dict_values(['a1', 'a10', 'a1', 'a10'])\n"
     ]
    }
   ],
   "source": [
    "#def count_passengers:\n",
    "    \n",
    "input_dir ={'p1':'a1','p2':'a10','p89':'a1','p5':'a10'}\n",
    "print(input_dir.values())"
   ]
  },
  {
   "cell_type": "code",
   "execution_count": null,
   "id": "f5ab8173",
   "metadata": {},
   "outputs": [],
   "source": [
    "7. given a list of strings.\n",
    "every string is in format \"Emp_name:Emp_id\"\n",
    "Emp_id is always a number\n",
    "if emp_id is amstrong number then rotate emp_name 1 place to the right --> and print the emp_name\n",
    "if emp_id is a prime no then print vowels from the employee name\n",
    "in other cases print consonents from the emp name\n",
    "Finally there should be print of every employee name as per given condition"
   ]
  },
  {
   "cell_type": "code",
   "execution_count": null,
   "id": "2d83676d",
   "metadata": {},
   "outputs": [],
   "source": []
  },
  {
   "cell_type": "code",
   "execution_count": null,
   "id": "9aac122a",
   "metadata": {},
   "outputs": [],
   "source": []
  },
  {
   "cell_type": "code",
   "execution_count": null,
   "id": "759c4773",
   "metadata": {},
   "outputs": [],
   "source": []
  },
  {
   "cell_type": "code",
   "execution_count": null,
   "id": "13468a4b",
   "metadata": {},
   "outputs": [],
   "source": []
  },
  {
   "cell_type": "code",
   "execution_count": null,
   "id": "353a4a12",
   "metadata": {},
   "outputs": [],
   "source": []
  }
 ],
 "metadata": {
  "kernelspec": {
   "display_name": "Python 3 (ipykernel)",
   "language": "python",
   "name": "python3"
  },
  "language_info": {
   "codemirror_mode": {
    "name": "ipython",
    "version": 3
   },
   "file_extension": ".py",
   "mimetype": "text/x-python",
   "name": "python",
   "nbconvert_exporter": "python",
   "pygments_lexer": "ipython3",
   "version": "3.11.4"
  }
 },
 "nbformat": 4,
 "nbformat_minor": 5
}
