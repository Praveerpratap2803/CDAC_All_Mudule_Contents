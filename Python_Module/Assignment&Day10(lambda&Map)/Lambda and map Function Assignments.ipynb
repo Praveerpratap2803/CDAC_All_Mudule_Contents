{
 "cells": [
  {
   "cell_type": "code",
   "execution_count": null,
   "id": "44f5ac83",
   "metadata": {},
   "outputs": [],
   "source": [
    "Lambda and map Function Assignments\n",
    "\n",
    "\n",
    "Q Sort all the numbers in a list in descending order using lambda function\n",
    "\n",
    "Q Sort all the characters of given string using lambda function\n",
    "\n",
    "Q Given list of strings, sort all the strings by last character of that string. . Use lambda function and normal function both.\n",
    "\n",
    "Q Given list of employees. This list may contain repetitions. Find all unique employee names and print them as per order of second character in that name. Use lambda function and normal function both.\n",
    "\n",
    "Q. Take Employee id and Employee name of 5 employees from user. Store it in dictionary. Print all employees in increasing order of employee Id . Also print all employees in alphabetical order by name.\n",
    "\n",
    "Q. Take comma separated numbers as input from the user. Split it in list of strings. Now convert every string in this list to float using map function\n",
    "\n",
    "Q Given list of floating point numbers. Convert every number into string and then join all the numbers such that they are separated by pipe(|)\n",
    "\n",
    "Q Given list of integers. Use map function to calculate square of all and store in list. Then print sum of all square values.\n",
    "\n",
    "\n",
    "\n"
   ]
  },
  {
   "cell_type": "code",
   "execution_count": null,
   "id": "5c092c28",
   "metadata": {},
   "outputs": [],
   "source": [
    "Q1) Sort all the numbers in a list in descending order using lambda function\n"
   ]
  },
  {
   "cell_type": "code",
   "execution_count": 1,
   "id": "21327fd1",
   "metadata": {},
   "outputs": [
    {
     "data": {
      "text/plain": [
       "30"
      ]
     },
     "execution_count": 1,
     "metadata": {},
     "output_type": "execute_result"
    }
   ],
   "source": [
    "(lambda a,b:a+b)(10,20)"
   ]
  },
  {
   "cell_type": "code",
   "execution_count": 7,
   "id": "ee781050",
   "metadata": {},
   "outputs": [
    {
     "name": "stdout",
     "output_type": "stream",
     "text": [
      "[5, 4, 3, 2, 1]\n"
     ]
    }
   ],
   "source": [
    "l1=[1,2,3,4,5]\n",
    "(lambda l:print(l[::-1]))(l1)"
   ]
  },
  {
   "cell_type": "code",
   "execution_count": 9,
   "id": "af8aa013",
   "metadata": {},
   "outputs": [
    {
     "data": {
      "text/plain": [
       "[5, 4, 3, 2, 1]"
      ]
     },
     "execution_count": 9,
     "metadata": {},
     "output_type": "execute_result"
    }
   ],
   "source": [
    "sorted(l1,key=(lambda e:-e))"
   ]
  },
  {
   "cell_type": "code",
   "execution_count": null,
   "id": "1f8c59b5",
   "metadata": {},
   "outputs": [],
   "source": []
  },
  {
   "cell_type": "code",
   "execution_count": null,
   "id": "0f9ef133",
   "metadata": {},
   "outputs": [],
   "source": []
  },
  {
   "cell_type": "code",
   "execution_count": null,
   "id": "2e9501d0",
   "metadata": {},
   "outputs": [],
   "source": []
  },
  {
   "cell_type": "code",
   "execution_count": null,
   "id": "47525944",
   "metadata": {},
   "outputs": [],
   "source": []
  },
  {
   "cell_type": "code",
   "execution_count": null,
   "id": "9508c3cd",
   "metadata": {},
   "outputs": [],
   "source": []
  }
 ],
 "metadata": {
  "kernelspec": {
   "display_name": "Python 3 (ipykernel)",
   "language": "python",
   "name": "python3"
  },
  "language_info": {
   "codemirror_mode": {
    "name": "ipython",
    "version": 3
   },
   "file_extension": ".py",
   "mimetype": "text/x-python",
   "name": "python",
   "nbconvert_exporter": "python",
   "pygments_lexer": "ipython3",
   "version": "3.11.4"
  }
 },
 "nbformat": 4,
 "nbformat_minor": 5
}
