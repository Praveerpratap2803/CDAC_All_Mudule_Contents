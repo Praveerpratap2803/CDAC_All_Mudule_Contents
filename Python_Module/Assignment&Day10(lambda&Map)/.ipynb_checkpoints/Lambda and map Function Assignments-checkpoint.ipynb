{
 "cells": [
  {
   "cell_type": "code",
   "execution_count": null,
   "id": "452a0f2a",
   "metadata": {},
   "outputs": [],
   "source": [
    "Lambda and map Function Assignments\n",
    "\n",
    "\n",
    "Q Sort all the numbers in a list in descending order using lambda function\n",
    "\n",
    "Q Sort all the characters of given string using lambda function\n",
    "\n",
    "Q Given list of strings, sort all the strings by last character of that string. . Use lambda function and normal function both.\n",
    "\n",
    "Q Given list of employees. This list may contain repetitions. Find all unique employee names and print them as per order of second character in that name. Use lambda function and normal function both.\n",
    "\n",
    "Q. Take Employee id and Employee name of 5 employees from user. Store it in dictionary. Print all employees in increasing order of employee Id . Also print all employees in alphabetical order by name.\n",
    "\n",
    "Q. Take comma separated numbers as input from the user. Split it in list of strings. Now convert every string in this list to float using map function\n",
    "\n",
    "Q Given list of floating point numbers. Convert every number into string and then join all the numbers such that they are separated by pipe(|)\n",
    "\n",
    "Q Given list of integers. Use map function to calculate square of all and store in list. Then print sum of all square values.\n",
    "\n",
    "\n",
    "\n"
   ]
  },
  {
   "cell_type": "code",
   "execution_count": null,
   "id": "7aa3d44a",
   "metadata": {},
   "outputs": [],
   "source": [
    "Q1) Sort all the numbers in a list in descending order using lambda function\n"
   ]
  },
  {
   "cell_type": "code",
   "execution_count": 1,
   "id": "08269426",
   "metadata": {},
   "outputs": [
    {
     "data": {
      "text/plain": [
       "30"
      ]
     },
     "execution_count": 1,
     "metadata": {},
     "output_type": "execute_result"
    }
   ],
   "source": [
    "(lambda a,b:a+b)(10,20)"
   ]
  },
  {
   "cell_type": "code",
   "execution_count": 6,
   "id": "ec69ed71",
   "metadata": {},
   "outputs": [
    {
     "name": "stdout",
     "output_type": "stream",
     "text": [
      "[1, 2, 3, 4, 5]\n"
     ]
    }
   ],
   "source": [
    "l1=[1,2,3,4,5]\n",
    "(lambda l:print(l))(l1)"
   ]
  },
  {
   "cell_type": "code",
   "execution_count": null,
   "id": "e4005ada",
   "metadata": {},
   "outputs": [],
   "source": []
  },
  {
   "cell_type": "code",
   "execution_count": null,
   "id": "275ba77b",
   "metadata": {},
   "outputs": [],
   "source": []
  },
  {
   "cell_type": "code",
   "execution_count": null,
   "id": "233a944c",
   "metadata": {},
   "outputs": [],
   "source": []
  },
  {
   "cell_type": "code",
   "execution_count": null,
   "id": "941035d2",
   "metadata": {},
   "outputs": [],
   "source": []
  },
  {
   "cell_type": "code",
   "execution_count": null,
   "id": "a2b49400",
   "metadata": {},
   "outputs": [],
   "source": []
  },
  {
   "cell_type": "code",
   "execution_count": null,
   "id": "ce0e99d4",
   "metadata": {},
   "outputs": [],
   "source": []
  }
 ],
 "metadata": {
  "kernelspec": {
   "display_name": "Python 3 (ipykernel)",
   "language": "python",
   "name": "python3"
  },
  "language_info": {
   "codemirror_mode": {
    "name": "ipython",
    "version": 3
   },
   "file_extension": ".py",
   "mimetype": "text/x-python",
   "name": "python",
   "nbconvert_exporter": "python",
   "pygments_lexer": "ipython3",
   "version": "3.11.4"
  }
 },
 "nbformat": 4,
 "nbformat_minor": 5
}
