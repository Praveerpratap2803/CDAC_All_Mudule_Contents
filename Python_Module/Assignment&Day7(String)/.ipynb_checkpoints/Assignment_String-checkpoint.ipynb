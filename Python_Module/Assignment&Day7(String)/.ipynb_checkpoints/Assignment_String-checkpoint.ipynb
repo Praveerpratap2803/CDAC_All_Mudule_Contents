{
 "cells": [
  {
   "cell_type": "markdown",
   "id": "87d535d0",
   "metadata": {},
   "source": [
    "# Assignment on Strings"
   ]
  },
  {
   "cell_type": "markdown",
   "id": "1a48ad6c",
   "metadata": {},
   "source": [
    "1. Given a string of odd length greater than 7, return a new string made of the middle three characters\n",
    "of a given String\n",
    "Given:\n",
    "str1 = \"RakeshzipPetabb\"\n",
    "Output\n",
    "zip\n",
    "str2 = \"JazzbonAyxx\"\n",
    "Output\n",
    "bon\n"
   ]
  },
  {
   "cell_type": "code",
   "execution_count": 5,
   "id": "98da40ed",
   "metadata": {},
   "outputs": [
    {
     "name": "stdout",
     "output_type": "stream",
     "text": [
      "Enter the string \n"
     ]
    },
    {
     "data": {
      "text/plain": [
       "''"
      ]
     },
     "execution_count": 5,
     "metadata": {},
     "output_type": "execute_result"
    }
   ],
   "source": [
    "str2 = input(\"Enter the string \")\n",
    "middle=len(str2)//2\n",
    "str2[middle-1:middle+2]\n",
    "\n"
   ]
  },
  {
   "cell_type": "markdown",
   "id": "f0eef712",
   "metadata": {},
   "source": [
    "2. Given two strings, s1 and s2, create a new string by appending s2 in the middle of s1\n",
    "Given:\n",
    "s1 = \"Ault\"\n",
    "s2 = \"Kelly\"\n",
    "Expected Output:\n",
    "AuKellylt"
   ]
  },
  {
   "cell_type": "code",
   "execution_count": 6,
   "id": "f7279964",
   "metadata": {},
   "outputs": [
    {
     "name": "stdout",
     "output_type": "stream",
     "text": [
      "Enter the string \n"
     ]
    },
    {
     "data": {
      "text/plain": [
       "''"
      ]
     },
     "execution_count": 6,
     "metadata": {},
     "output_type": "execute_result"
    }
   ],
   "source": [
    "str2 = input(\"Enter the string \")\n",
    "middle=len(str2)//2\n",
    "str2[middle-1:middle+2]\n",
    "\n"
   ]
  },
  {
   "cell_type": "markdown",
   "id": "0b086880",
   "metadata": {},
   "source": [
    "3. two strings, s1, and s2 return a new string made of the first, middle, and last characters each input\n",
    "string\n",
    "Given:\n",
    "s1 = \"America\"\n",
    "s2 = \"Japan\"\n",
    "Expected Output:\n",
    "AJrpan\n"
   ]
  },
  {
   "cell_type": "code",
   "execution_count": 7,
   "id": "4d325125",
   "metadata": {},
   "outputs": [
    {
     "name": "stdout",
     "output_type": "stream",
     "text": [
      "AJrpan\n"
     ]
    }
   ],
   "source": [
    "s1 = \"America\"\n",
    "s2 = \"Japan\"\n",
    "s3 = s1[0]+s2[0]+s1[len(s1)//2]+s2[len(s2)//2]+s1[-1]+s2[-1]\n",
    "print(s3)"
   ]
  },
  {
   "cell_type": "markdown",
   "id": "ee56dd60",
   "metadata": {},
   "source": [
    "4. Given an input string with the combination of the lower and upper case arrange characters in such a\n",
    "way that all lowercase letters should come first."
   ]
  },
  {
   "cell_type": "code",
   "execution_count": 8,
   "id": "f067864d",
   "metadata": {},
   "outputs": [
    {
     "data": {
      "text/plain": [
       "'yamesraveerratapMNIPP'"
      ]
     },
     "execution_count": 8,
     "metadata": {},
     "output_type": "execute_result"
    }
   ],
   "source": [
    "s1=\"MyNameIsPraveerPratap\"\n",
    "#s1.islower()\n",
    "s2=\"\"\n",
    "for i in s1:\n",
    "    if i.islower():\n",
    "        s2=s2+i\n",
    "for i in s1:\n",
    "    if i.isupper():\n",
    "        s2=s2+i\n",
    "s2\n"
   ]
  },
  {
   "cell_type": "markdown",
   "id": "4f4d6383",
   "metadata": {},
   "source": [
    "5. create a third-string made of the first char of s1 then the last char of s2, Next, the second char of s1\n",
    "and second last char of s2, and so on. Any leftover chars go at the end of the result.\n",
    "Given:\n",
    "s1 = \"Abc\"\n",
    "s2 = \"Xyz\"\n",
    "Expected Output:\n",
    "AzbycX"
   ]
  },
  {
   "cell_type": "code",
   "execution_count": 2,
   "id": "3764f9be",
   "metadata": {},
   "outputs": [
    {
     "data": {
      "text/plain": [
       "'AvbuctdserfqgphziyjXklmn'"
      ]
     },
     "execution_count": 2,
     "metadata": {},
     "output_type": "execute_result"
    }
   ],
   "source": [
    "s1 = \"Abcdefghijklmn\"\n",
    "s2 = \"Xyzpqrstuv\"\n",
    "s3=\"\"\n",
    "for i in range(max(len(s1),len(s2))):\n",
    "    if len(s1)==len(s2):\n",
    "        s3 = s3 + s1[i] +s2[len(s2)-i-1]\n",
    "    elif len(s1)>len(s2):\n",
    "        if i<len(s2):\n",
    "            s3 = s3 + s1[i] + s2[len(s2)-i-1]\n",
    "        else:\n",
    "            s3 = s3 + s1[i:]\n",
    "            break\n",
    "    else:\n",
    "        if i<len(s1):\n",
    "            s3 = s3 + s1[i] + s2[len(s2)-i-1]\n",
    "        else:\n",
    "            s3 = s3 + s2[i:]\n",
    "            break\n",
    "s3\n",
    "    \n",
    "    \n",
    "    "
   ]
  },
  {
   "cell_type": "code",
   "execution_count": 4,
   "id": "c3b77ab9",
   "metadata": {},
   "outputs": [
    {
     "name": "stdout",
     "output_type": "stream",
     "text": [
      "AvbuctdserfqgphziyjXklmn\n"
     ]
    }
   ],
   "source": [
    "s1 = \"Abcdefghijklmn\"\n",
    "s2 = \"Xyzpqrstuv\"\n",
    "s3=\"\"\n",
    "if len(s1)==len(s2):\n",
    "    for i in range(len(s1)):\n",
    "        s3=s3+s1[i]+s2[-i-1]\n",
    "elif len(s1)>len(s2):\n",
    "    for i in range(len(s2)):\n",
    "        s3=s3+s1[i]+s2[-i-1]\n",
    "    s3+=s1[len(s2):]\n",
    "else:\n",
    "    for i in range(len(s1)):\n",
    "        s3=s3+s1[i]+s2[-i-1]\n",
    "    s3+=s2[len(s1):]\n",
    "    \n",
    "print(s3)"
   ]
  },
  {
   "cell_type": "markdown",
   "id": "1fd44859",
   "metadata": {},
   "source": [
    "(Remaining) 6. Find all occurrences of “USA” from right to left in a given string ignoring the case. also display the\n",
    "starting position\n",
    "Given:\n",
    "str1 = \"Welcome to USA. usa awesome, isn't it?\n",
    "Expected answer : 16, 11\n"
   ]
  },
  {
   "cell_type": "code",
   "execution_count": 1,
   "id": "45bb1a04",
   "metadata": {},
   "outputs": [
    {
     "name": "stdout",
     "output_type": "stream",
     "text": [
      "16 11\n"
     ]
    }
   ],
   "source": [
    "str1 = \"Welcome to USA. usa awesome, isn't it?\"\n",
    "\"\"\"str1 = str1[::-1].lower()\n",
    "starting_pos=str1.find(\"asu\")\n",
    "next_occr1=str1.find(\"asu\",starting_pos+3)\n",
    "print(starting_pos,next_occr1)\"\"\"\n",
    "str1 = str1.lower()\n",
    "starting_pos=str1.find(\"usa\")\n",
    "next_occr1=str1.find(\"usa\",starting_pos+len(\"usa\"))\n",
    "print(next_occr1,starting_pos)"
   ]
  },
  {
   "cell_type": "code",
   "execution_count": null,
   "id": "47ba18b1",
   "metadata": {},
   "outputs": [],
   "source": [
    "str1 = \"Welcome to USA. usa awesome, isn't it?\"\n",
    "str1=str1.lower()\n",
    "print(str1)\n",
    "n=str1.count(\"usa\")\n",
    "a=0\n",
    "for i in range(n):\n",
    "    b=str1.find(\"usa\",a,len(str1)-1)\n",
    "    print(b)\n",
    "    a=b+1\n"
   ]
  },
  {
   "cell_type": "markdown",
   "id": "0d4d6157",
   "metadata": {},
   "source": [
    "7. Find all overlapping occurrences of given substring in given string\n",
    "Ex.\n",
    "String = 0111\n",
    "Substring = 11\n",
    "Expected answer : 2\n",
    "String : ANANAAAANNN\n",
    "Substring: ANA\n",
    "Expected answer : 2\n",
    "String : ANANAAAANNN\n",
    "Substring: AA\n",
    "Expected answer : 3"
   ]
  },
  {
   "cell_type": "code",
   "execution_count": 4,
   "id": "80532451",
   "metadata": {},
   "outputs": [
    {
     "name": "stdout",
     "output_type": "stream",
     "text": [
      "1\n",
      "2\n",
      "2\n"
     ]
    }
   ],
   "source": [
    "String1= \"0111\"\n",
    "Substring= \"11\"\n",
    "n=len(String1)\n",
    "a=0\n",
    "f=0\n",
    "count=0\n",
    "while f!=-1:\n",
    "    f=String1.find(Substring,a,n)\n",
    "    if f==-1:\n",
    "        break\n",
    "    count+=1\n",
    "    print(f)\n",
    "    a=f+1\n",
    "print(count)"
   ]
  },
  {
   "cell_type": "markdown",
   "id": "5c47a00a",
   "metadata": {},
   "source": [
    "8. Given a string in format Emp_name:Emp_id\n",
    "If emp_is is perfect square -- > Print only vowels from emp_name\n",
    "Else if emp_id is prime -- > print alternate characters from emp_name\n",
    "Else if emp_id is odd -- > print sum of ascii values of characters in emp_name\n",
    "Else print None"
   ]
  },
  {
   "cell_type": "code",
   "execution_count": 12,
   "id": "e8cb796c",
   "metadata": {},
   "outputs": [
    {
     "name": "stdout",
     "output_type": "stream",
     "text": [
      "Enter the Emp_name:Emp_idpraveer:64\n",
      "praveer 64\n",
      "aee\n",
      "perfect square\n"
     ]
    }
   ],
   "source": [
    "#Praveer:35\n",
    "import math\n",
    "inf=input(\"Enter the Emp_name:Emp_id\")\n",
    "Emp_name,Emp_id=inf.split(\":\")\n",
    "print(Emp_name,Emp_id)\n",
    "if math.sqrt(int(Emp_id))==int(math.sqrt(int(Emp_id))):\n",
    "    #l1=[e for e in Emp_name if (e=='a' || e=='e' || e=='i' || e=='o' || e=='u') ]\n",
    "    l1=[e for e in Emp_name if e in \"aeiou\" ]\n",
    "    print(\"\".join(l1))\n",
    "    print(\"perfect square\")\n",
    "    "
   ]
  },
  {
   "cell_type": "code",
   "execution_count": null,
   "id": "336ca943",
   "metadata": {},
   "outputs": [],
   "source": []
  },
  {
   "cell_type": "code",
   "execution_count": null,
   "id": "59dd9eeb",
   "metadata": {},
   "outputs": [],
   "source": []
  },
  {
   "cell_type": "markdown",
   "id": "7149de2b",
   "metadata": {},
   "source": [
    "9. Find all mobile number mentioned in given paragraph of text\n",
    "Mobile number is always a 10 digit number no spaces no special characters\n",
    "Ex. Input= “this is a good number 9089786756 and 8900000000 is a desired number”\n",
    "Expected output: 9089786756 , 8900000000\n"
   ]
  },
  {
   "cell_type": "code",
   "execution_count": null,
   "id": "d972d20d",
   "metadata": {},
   "outputs": [],
   "source": [
    "\n",
    "        "
   ]
  },
  {
   "cell_type": "code",
   "execution_count": 4,
   "id": "fe810baf",
   "metadata": {},
   "outputs": [
    {
     "name": "stdout",
     "output_type": "stream",
     "text": [
      "['9089786756', '8900000000']\n"
     ]
    }
   ],
   "source": [
    "Input= \"this is a good number 9089786756 and 8900000000 is a desired number\"\n",
    "s1=\"\"\n",
    "for i in Input:\n",
    "    if i.isdigit():\n",
    "        s1+=i\n",
    "    else:\n",
    "        s1+=' '\n",
    "s1.strip().split(' ')\n",
    "l1=[]\n",
    "for i in s1.strip().split(' '):\n",
    "    if len(i)==10 and i.isdigit():\n",
    "        l1.append(i)\n",
    "print(l1)"
   ]
  },
  {
   "cell_type": "code",
   "execution_count": 11,
   "id": "76291fe6",
   "metadata": {},
   "outputs": [
    {
     "name": "stdout",
     "output_type": "stream",
     "text": [
      "['1234567891']\n"
     ]
    }
   ],
   "source": [
    "import re\n",
    "Input= \"this is a good number 9089786756 and 12345678912 is a desired number\"\n",
    "Input1= \"12345678914\"\n",
    "\n",
    "regex_pattern=\"[^0-9][0-9]{10}[^0-9]\"\n",
    "result=re.findall(regex_pattern,Input1)\n",
    "print(result)"
   ]
  },
  {
   "cell_type": "markdown",
   "id": "feed704f",
   "metadata": {},
   "source": [
    "10. Count occurrence of spaces, and special characters in given string\n",
    "Ex.\n",
    "Input: Fgh^f #89\n",
    "Expected output :\n",
    "Spaces: 1\n",
    "Special characters: 2"
   ]
  },
  {
   "cell_type": "code",
   "execution_count": 18,
   "id": "b7626539",
   "metadata": {},
   "outputs": [
    {
     "name": "stdout",
     "output_type": "stream",
     "text": [
      "1 2\n"
     ]
    }
   ],
   "source": [
    "Input=\"Fgh^f #89\"\n",
    "spaces_counts=0\n",
    "special_characters_counts=0\n",
    "for i in Input:\n",
    "    if i==' ':\n",
    "        spaces_counts+=1\n",
    "    elif not i.isalnum():\n",
    "        special_characters_counts+=1\n",
    "print(spaces_counts,special_characters_counts)"
   ]
  },
  {
   "cell_type": "code",
   "execution_count": null,
   "id": "f82170f7",
   "metadata": {},
   "outputs": [],
   "source": []
  },
  {
   "cell_type": "markdown",
   "id": "b655f151",
   "metadata": {},
   "source": [
    "11. Given a paragraph count number of words, sentences. Every sentence ends with either . or ? or !\n",
    "Print Count of how many normal sentences ending with . , how many interrogative sentences ( ending\n",
    "with ?) and how many exclamatory sentences ( ending with !).\n",
    "Ex.\n",
    "Input : “I am at CDAC. What about you? I am surprised by current weather!”\n",
    "Normal sentence : 1\n",
    "Interrogative: 1\n",
    "Exclamatory : 1\n"
   ]
  },
  {
   "cell_type": "code",
   "execution_count": 24,
   "id": "290c1245",
   "metadata": {},
   "outputs": [
    {
     "name": "stdout",
     "output_type": "stream",
     "text": [
      "Normal sentence 1\n",
      "Interrogative 1\n",
      "Exclamatory 1\n"
     ]
    }
   ],
   "source": [
    "Input =\"I am at CDAC. What about you? I am surprised by current weather!\"\n",
    "\n",
    "#for i in Input:\n",
    "print(\"Normal sentence\",Input.count('.'))\n",
    "print(\"Interrogative\",Input.count('?'))\n",
    "print(\"Exclamatory\",Input.count('!'))\n"
   ]
  },
  {
   "cell_type": "markdown",
   "id": "4701579c",
   "metadata": {},
   "source": [
    "12. You are given a string S and width w.\n",
    "Your task is to wrap the string into a paragraph of width w\n",
    "Example .\n",
    "String : “ABCDEFGHIJKLIMNOQRSTUVWXYZ”\n",
    "Width: 4\n",
    "Output:\n",
    "ABCD\n",
    "EFGH\n",
    "IJKL\n",
    "IMNO\n",
    "QRST\n",
    "UVWX\n",
    "YZ"
   ]
  },
  {
   "cell_type": "code",
   "execution_count": 64,
   "id": "38a17c44",
   "metadata": {},
   "outputs": [
    {
     "name": "stdout",
     "output_type": "stream",
     "text": [
      "ABCD\n",
      "EFGH\n",
      "IJKL\n",
      "IMNO\n",
      "QRST\n",
      "UVWX\n",
      "YZ\n"
     ]
    }
   ],
   "source": [
    "String=\"ABCDEFGHIJKLIMNOQRSTUVWXYZ\"\n",
    "Width=4\n",
    "Start=0\n",
    "for i in range(len(String)):\n",
    "    print(String[Start:Width])\n",
    "    Start=Width\n",
    "    Width=Width+4\n",
    "    if Width>len(String)+4:\n",
    "        break"
   ]
  },
  {
   "cell_type": "code",
   "execution_count": null,
   "id": "e2c183fa",
   "metadata": {},
   "outputs": [],
   "source": []
  },
  {
   "cell_type": "code",
   "execution_count": null,
   "id": "c7d5aa58",
   "metadata": {},
   "outputs": [],
   "source": []
  },
  {
   "cell_type": "code",
   "execution_count": null,
   "id": "336d462d",
   "metadata": {},
   "outputs": [],
   "source": []
  },
  {
   "cell_type": "code",
   "execution_count": null,
   "id": "236fdebb",
   "metadata": {},
   "outputs": [],
   "source": []
  },
  {
   "cell_type": "code",
   "execution_count": null,
   "id": "078d3e10",
   "metadata": {},
   "outputs": [],
   "source": []
  },
  {
   "cell_type": "code",
   "execution_count": null,
   "id": "c6a86999",
   "metadata": {},
   "outputs": [],
   "source": []
  },
  {
   "cell_type": "code",
   "execution_count": null,
   "id": "20b8314b",
   "metadata": {},
   "outputs": [],
   "source": []
  },
  {
   "cell_type": "code",
   "execution_count": null,
   "id": "a679502b",
   "metadata": {},
   "outputs": [],
   "source": []
  },
  {
   "cell_type": "code",
   "execution_count": null,
   "id": "2a8e864c",
   "metadata": {},
   "outputs": [],
   "source": []
  },
  {
   "cell_type": "code",
   "execution_count": null,
   "id": "c040d048",
   "metadata": {},
   "outputs": [],
   "source": []
  },
  {
   "cell_type": "code",
   "execution_count": null,
   "id": "27669f19",
   "metadata": {},
   "outputs": [],
   "source": []
  },
  {
   "cell_type": "code",
   "execution_count": null,
   "id": "880d7ed0",
   "metadata": {},
   "outputs": [],
   "source": []
  },
  {
   "cell_type": "code",
   "execution_count": null,
   "id": "c8d20f3c",
   "metadata": {},
   "outputs": [],
   "source": []
  },
  {
   "cell_type": "code",
   "execution_count": null,
   "id": "38103ab9",
   "metadata": {},
   "outputs": [],
   "source": []
  },
  {
   "cell_type": "code",
   "execution_count": null,
   "id": "1a84cd4d",
   "metadata": {},
   "outputs": [],
   "source": []
  },
  {
   "cell_type": "code",
   "execution_count": null,
   "id": "ef7d9f2a",
   "metadata": {},
   "outputs": [],
   "source": []
  },
  {
   "cell_type": "code",
   "execution_count": null,
   "id": "a9f9421e",
   "metadata": {},
   "outputs": [],
   "source": []
  },
  {
   "cell_type": "code",
   "execution_count": null,
   "id": "845411dc",
   "metadata": {},
   "outputs": [],
   "source": []
  },
  {
   "cell_type": "code",
   "execution_count": null,
   "id": "0ac7e66e",
   "metadata": {},
   "outputs": [],
   "source": []
  },
  {
   "cell_type": "code",
   "execution_count": null,
   "id": "3bceb24c",
   "metadata": {},
   "outputs": [],
   "source": []
  },
  {
   "cell_type": "code",
   "execution_count": null,
   "id": "df9305ec",
   "metadata": {},
   "outputs": [],
   "source": []
  },
  {
   "cell_type": "code",
   "execution_count": null,
   "id": "6dd992cd",
   "metadata": {},
   "outputs": [],
   "source": []
  },
  {
   "cell_type": "code",
   "execution_count": null,
   "id": "2941115f",
   "metadata": {},
   "outputs": [],
   "source": []
  },
  {
   "cell_type": "code",
   "execution_count": null,
   "id": "a7aaa0ad",
   "metadata": {},
   "outputs": [],
   "source": []
  },
  {
   "cell_type": "code",
   "execution_count": null,
   "id": "7baab298",
   "metadata": {},
   "outputs": [],
   "source": []
  },
  {
   "cell_type": "code",
   "execution_count": null,
   "id": "c16a8831",
   "metadata": {},
   "outputs": [],
   "source": []
  },
  {
   "cell_type": "code",
   "execution_count": null,
   "id": "70f88c0f",
   "metadata": {},
   "outputs": [],
   "source": []
  },
  {
   "cell_type": "code",
   "execution_count": null,
   "id": "ce50af60",
   "metadata": {},
   "outputs": [],
   "source": []
  },
  {
   "cell_type": "code",
   "execution_count": null,
   "id": "412a5345",
   "metadata": {},
   "outputs": [],
   "source": []
  },
  {
   "cell_type": "code",
   "execution_count": null,
   "id": "d4b0d981",
   "metadata": {},
   "outputs": [],
   "source": []
  },
  {
   "cell_type": "code",
   "execution_count": null,
   "id": "dbcc61ef",
   "metadata": {},
   "outputs": [],
   "source": []
  },
  {
   "cell_type": "code",
   "execution_count": null,
   "id": "1045ae35",
   "metadata": {},
   "outputs": [],
   "source": []
  },
  {
   "cell_type": "code",
   "execution_count": null,
   "id": "0e38b6b3",
   "metadata": {},
   "outputs": [],
   "source": []
  },
  {
   "cell_type": "code",
   "execution_count": null,
   "id": "81e37362",
   "metadata": {},
   "outputs": [],
   "source": []
  },
  {
   "cell_type": "code",
   "execution_count": null,
   "id": "fb8f90e5",
   "metadata": {},
   "outputs": [],
   "source": []
  },
  {
   "cell_type": "code",
   "execution_count": null,
   "id": "69441df7",
   "metadata": {},
   "outputs": [],
   "source": []
  },
  {
   "cell_type": "code",
   "execution_count": null,
   "id": "af260f32",
   "metadata": {},
   "outputs": [],
   "source": []
  }
 ],
 "metadata": {
  "kernelspec": {
   "display_name": "Python 3 (ipykernel)",
   "language": "python",
   "name": "python3"
  },
  "language_info": {
   "codemirror_mode": {
    "name": "ipython",
    "version": 3
   },
   "file_extension": ".py",
   "mimetype": "text/x-python",
   "name": "python",
   "nbconvert_exporter": "python",
   "pygments_lexer": "ipython3",
   "version": "3.11.4"
  }
 },
 "nbformat": 4,
 "nbformat_minor": 5
}
