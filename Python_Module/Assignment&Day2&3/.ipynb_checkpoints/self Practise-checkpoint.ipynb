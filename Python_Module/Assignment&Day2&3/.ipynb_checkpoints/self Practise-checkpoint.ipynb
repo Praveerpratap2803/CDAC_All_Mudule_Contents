{
 "cells": [
  {
   "cell_type": "code",
   "execution_count": 1,
   "id": "d5e76044",
   "metadata": {},
   "outputs": [
    {
     "name": "stdout",
     "output_type": "stream",
     "text": [
      "enter the number\n",
      " <class 'str'>\n"
     ]
    }
   ],
   "source": [
    "a=input(\"enter the number\")\n",
    "print(a,type(a))"
   ]
  },
  {
   "cell_type": "code",
   "execution_count": 4,
   "id": "680381c5",
   "metadata": {},
   "outputs": [
    {
     "name": "stdout",
     "output_type": "stream",
     "text": [
      "praveer#pratap#a#f\n"
     ]
    }
   ],
   "source": [
    "print(\"praveer\",\"pratap\",\"a\",\"f\",sep='#')"
   ]
  },
  {
   "cell_type": "code",
   "execution_count": 1,
   "id": "2805be48",
   "metadata": {},
   "outputs": [
    {
     "name": "stdout",
     "output_type": "stream",
     "text": [
      "praveer praveer#"
     ]
    }
   ],
   "source": [
    "print(\"praveer\",\"praveer\",end='#')"
   ]
  },
  {
   "cell_type": "code",
   "execution_count": 3,
   "id": "36d7f59e",
   "metadata": {},
   "outputs": [
    {
     "name": "stdout",
     "output_type": "stream",
     "text": [
      "20000.0\n"
     ]
    }
   ],
   "source": [
    "print(2e4)"
   ]
  },
  {
   "cell_type": "code",
   "execution_count": 16,
   "id": "e422fa70",
   "metadata": {},
   "outputs": [
    {
     "ename": "NameError",
     "evalue": "name '_10' is not defined",
     "output_type": "error",
     "traceback": [
      "\u001b[1;31m---------------------------------------------------------------------------\u001b[0m",
      "\u001b[1;31mNameError\u001b[0m                                 Traceback (most recent call last)",
      "Cell \u001b[1;32mIn[16], line 1\u001b[0m\n\u001b[1;32m----> 1\u001b[0m a\u001b[38;5;241m=\u001b[39m_10\n",
      "\u001b[1;31mNameError\u001b[0m: name '_10' is not defined"
     ]
    }
   ],
   "source": [
    "#a=_10  error"
   ]
  },
  {
   "cell_type": "code",
   "execution_count": 2,
   "id": "7e39bbc8",
   "metadata": {},
   "outputs": [
    {
     "name": "stdout",
     "output_type": "stream",
     "text": [
      "abc\n"
     ]
    }
   ],
   "source": [
    "var1:int=10\n",
    "var1=\"abc\"\n",
    "print(var1)"
   ]
  },
  {
   "cell_type": "code",
   "execution_count": 3,
   "id": "eb0b11b2",
   "metadata": {},
   "outputs": [
    {
     "ename": "NameError",
     "evalue": "name 'a' is not defined",
     "output_type": "error",
     "traceback": [
      "\u001b[1;31m---------------------------------------------------------------------------\u001b[0m",
      "\u001b[1;31mNameError\u001b[0m                                 Traceback (most recent call last)",
      "Cell \u001b[1;32mIn[3], line 1\u001b[0m\n\u001b[1;32m----> 1\u001b[0m a\n",
      "\u001b[1;31mNameError\u001b[0m: name 'a' is not defined"
     ]
    }
   ],
   "source": [
    "a"
   ]
  },
  {
   "cell_type": "code",
   "execution_count": 10,
   "id": "d72d20cd",
   "metadata": {},
   "outputs": [
    {
     "data": {
      "text/plain": [
       "1"
      ]
     },
     "execution_count": 10,
     "metadata": {},
     "output_type": "execute_result"
    }
   ],
   "source": [
    "10 and 1"
   ]
  },
  {
   "cell_type": "code",
   "execution_count": 11,
   "id": "99f4739a",
   "metadata": {},
   "outputs": [
    {
     "name": "stdout",
     "output_type": "stream",
     "text": [
      "True\n"
     ]
    }
   ],
   "source": [
    "if 5>6:\n",
    "    print(\"True\")\n",
    "elif 6>3:\n",
    "    print(\"True\")"
   ]
  },
  {
   "cell_type": "code",
   "execution_count": 16,
   "id": "351b7691",
   "metadata": {},
   "outputs": [
    {
     "data": {
      "text/plain": [
       "20.5"
      ]
     },
     "execution_count": 16,
     "metadata": {},
     "output_type": "execute_result"
    }
   ],
   "source": [
    "10+10.5"
   ]
  },
  {
   "cell_type": "code",
   "execution_count": 17,
   "id": "ff82f598",
   "metadata": {},
   "outputs": [
    {
     "data": {
      "text/plain": [
       "10"
      ]
     },
     "execution_count": 17,
     "metadata": {},
     "output_type": "execute_result"
    }
   ],
   "source": [
    "10+False"
   ]
  },
  {
   "cell_type": "code",
   "execution_count": 18,
   "id": "ceb39fea",
   "metadata": {},
   "outputs": [
    {
     "data": {
      "text/plain": [
       "10"
      ]
     },
     "execution_count": 18,
     "metadata": {},
     "output_type": "execute_result"
    }
   ],
   "source": [
    "int(10.3)"
   ]
  },
  {
   "cell_type": "code",
   "execution_count": 20,
   "id": "c4fcb5b4",
   "metadata": {},
   "outputs": [
    {
     "data": {
      "text/plain": [
       "False"
      ]
     },
     "execution_count": 20,
     "metadata": {},
     "output_type": "execute_result"
    }
   ],
   "source": [
    "isinstance(10,type)"
   ]
  },
  {
   "cell_type": "code",
   "execution_count": 21,
   "id": "5f524e7e",
   "metadata": {},
   "outputs": [
    {
     "name": "stdout",
     "output_type": "stream",
     "text": [
      "140711854773320 140711854773320\n"
     ]
    }
   ],
   "source": [
    "i=10\n",
    "j=10\n",
    "print(id(i),id(j))"
   ]
  },
  {
   "cell_type": "code",
   "execution_count": 23,
   "id": "a6d0b20c",
   "metadata": {},
   "outputs": [
    {
     "name": "stdout",
     "output_type": "stream",
     "text": [
      "\n",
      "*\n",
      "**\n",
      "***\n",
      "****\n"
     ]
    }
   ],
   "source": [
    "n=5\n",
    "for i in range(n):\n",
    "    print('*'*i)"
   ]
  },
  {
   "cell_type": "code",
   "execution_count": 31,
   "id": "ec0cff7e",
   "metadata": {},
   "outputs": [
    {
     "name": "stdout",
     "output_type": "stream",
     "text": [
      "*******\n",
      "*****\n",
      "***\n",
      "*\n"
     ]
    }
   ],
   "source": [
    "n=5\n",
    "for i in range(2*(n-1),1,-2):\n",
    "    print('*'*(i-1))"
   ]
  },
  {
   "cell_type": "code",
   "execution_count": 52,
   "id": "13e3cabb",
   "metadata": {},
   "outputs": [
    {
     "name": "stdout",
     "output_type": "stream",
     "text": [
      "     *\n",
      "   ***\n",
      " *****\n",
      "   ***\n",
      "     *\n"
     ]
    }
   ],
   "source": [
    "n=5\n",
    "for i in range(0,n,2):\n",
    "    print(' '*(n-i-1),(i+1)*'*')\n",
    "for j in range(n-2,0,-2):\n",
    "    print(' '*(n-j),'*'*j)\n",
    "\n"
   ]
  },
  {
   "cell_type": "code",
   "execution_count": 35,
   "id": "5eb70f21",
   "metadata": {},
   "outputs": [
    {
     "name": "stdout",
     "output_type": "stream",
     "text": [
      "     *\n",
      "   ***\n",
      " *****\n",
      "   ***\n",
      "     *\n"
     ]
    }
   ],
   "source": [
    "n=5\n",
    "for i in range(0,n,2):\n",
    "    print(' '*(n-i-1),'*'*(i+1))\n",
    "for j in range(1,n,2):\n",
    "    print(' '*(j+1),'*'*(n-j-1))\n",
    "    \n"
   ]
  },
  {
   "cell_type": "code",
   "execution_count": 44,
   "id": "324bb2b6",
   "metadata": {},
   "outputs": [
    {
     "name": "stdout",
     "output_type": "stream",
     "text": [
      "     *\n",
      "   ***\n",
      " *****\n",
      "   ***\n",
      "     *\n"
     ]
    }
   ],
   "source": [
    "n=5\n",
    "sp=n-1\n",
    "for i in range(1,n+1,2):\n",
    "    print(' '*sp,'*'*i)\n",
    "    sp=sp-2\n",
    "sp=2\n",
    "for j in range(n-2,0,-2):\n",
    "    print(' '*sp,'*'*j)\n",
    "    sp=sp+2"
   ]
  },
  {
   "cell_type": "code",
   "execution_count": 59,
   "id": "46c16dda",
   "metadata": {},
   "outputs": [
    {
     "name": "stdout",
     "output_type": "stream",
     "text": [
      "1010101\n",
      " 10101\n",
      "  101\n",
      "   1\n"
     ]
    }
   ],
   "source": [
    "n=4\n",
    "for i in range(n):\n",
    "    print(' '*(i),'1','01'*(n-i-1),sep='')"
   ]
  },
  {
   "cell_type": "code",
   "execution_count": 63,
   "id": "fb9f2bea",
   "metadata": {},
   "outputs": [
    {
     "name": "stdout",
     "output_type": "stream",
     "text": [
      "\n",
      "1\n",
      "22\n",
      "333\n",
      "4444\n"
     ]
    }
   ],
   "source": [
    "n=5\n",
    "for i in range(5):\n",
    "    print(str(i)*i)"
   ]
  },
  {
   "cell_type": "code",
   "execution_count": 65,
   "id": "49a40550",
   "metadata": {},
   "outputs": [
    {
     "name": "stdout",
     "output_type": "stream",
     "text": [
      "   *\n",
      "  ***\n",
      " *****\n",
      "  ***\n",
      "   *\n"
     ]
    }
   ],
   "source": [
    "n=5\n",
    "sp=n-3\n",
    "for i in range(1,n+1,2):\n",
    "    print(' '*sp,'*'*i)\n",
    "    sp=sp-1\n",
    "sp=1\n",
    "for j in range(n-2,0,-2):\n",
    "    print(sp*' ','*'*j)\n",
    "    sp=sp+1"
   ]
  },
  {
   "cell_type": "code",
   "execution_count": 66,
   "id": "83a91f82",
   "metadata": {},
   "outputs": [
    {
     "data": {
      "text/plain": [
       "True"
      ]
     },
     "execution_count": 66,
     "metadata": {},
     "output_type": "execute_result"
    }
   ],
   "source": [
    "10==10.0"
   ]
  },
  {
   "cell_type": "code",
   "execution_count": 73,
   "id": "7c90ca28",
   "metadata": {},
   "outputs": [
    {
     "name": "stdout",
     "output_type": "stream",
     "text": [
      "number1\n"
     ]
    }
   ],
   "source": [
    "a=10\n",
    "match a:\n",
    "    case 1 | 10:\n",
    "        print(\"number1\")\n",
    "    case 10:\n",
    "        print(\"number2\")\n",
    "    case _:\n",
    "        print(\"not matched any\")\n",
    "    "
   ]
  },
  {
   "cell_type": "code",
   "execution_count": 74,
   "id": "8b4bb652",
   "metadata": {},
   "outputs": [
    {
     "name": "stdout",
     "output_type": "stream",
     "text": [
      "0b1010\n"
     ]
    }
   ],
   "source": [
    "print(bin(10))"
   ]
  },
  {
   "cell_type": "code",
   "execution_count": 75,
   "id": "11287c00",
   "metadata": {},
   "outputs": [
    {
     "name": "stdout",
     "output_type": "stream",
     "text": [
      "140710474719752 140710474719752\n"
     ]
    }
   ],
   "source": [
    "a='a'\n",
    "b='a'\n",
    "print(id(a),id(b))"
   ]
  },
  {
   "cell_type": "code",
   "execution_count": 85,
   "id": "5a8d77c1",
   "metadata": {},
   "outputs": [
    {
     "name": "stdout",
     "output_type": "stream",
     "text": [
      "(11+0j) <class 'complex'>\n"
     ]
    }
   ],
   "source": [
    "a=complex(11)\n",
    "print(a,type(a))"
   ]
  },
  {
   "cell_type": "code",
   "execution_count": 88,
   "id": "12649ac6",
   "metadata": {},
   "outputs": [
    {
     "data": {
      "text/plain": [
       "'0xb'"
      ]
     },
     "execution_count": 88,
     "metadata": {},
     "output_type": "execute_result"
    }
   ],
   "source": [
    "a=hex(11)\n",
    "a"
   ]
  },
  {
   "cell_type": "code",
   "execution_count": 89,
   "id": "317ab91f",
   "metadata": {},
   "outputs": [
    {
     "data": {
      "text/plain": [
       "'0o13'"
      ]
     },
     "execution_count": 89,
     "metadata": {},
     "output_type": "execute_result"
    }
   ],
   "source": [
    "a=oct(11)\n",
    "a"
   ]
  },
  {
   "cell_type": "code",
   "execution_count": 102,
   "id": "0164c529",
   "metadata": {},
   "outputs": [],
   "source": [
    "import math\n",
    "n=9\n",
    "if math.sqrt(n)-int(math.sqrt(n))>0:\n",
    "    print(\"not perfect \")\n"
   ]
  },
  {
   "cell_type": "code",
   "execution_count": null,
   "id": "b1ebbf6a",
   "metadata": {},
   "outputs": [],
   "source": []
  },
  {
   "cell_type": "code",
   "execution_count": 106,
   "id": "af261d38",
   "metadata": {},
   "outputs": [
    {
     "data": {
      "text/plain": [
       "Fraction(2942384595296007, 281474976710656)"
      ]
     },
     "execution_count": 106,
     "metadata": {},
     "output_type": "execute_result"
    }
   ],
   "source": [
    "num=10.45345\n",
    "from fractions import Fraction\n",
    "Fraction(num)"
   ]
  },
  {
   "cell_type": "code",
   "execution_count": 111,
   "id": "b92ee30c",
   "metadata": {},
   "outputs": [
    {
     "name": "stdout",
     "output_type": "stream",
     "text": [
      "Enter the number 1 12\n",
      "Enter the number 2 10\n",
      "Press E to exitr\n",
      "Enter the operation +)Add -)subs *)mul /)div+\n",
      "22\n",
      "Press E to exitE\n"
     ]
    }
   ],
   "source": [
    "#calculator\n",
    "num1 = int(input(\"Enter the number 1 \"))\n",
    "num2 = int(input(\"Enter the number 2 \"))\n",
    "n=True\n",
    "while(n):\n",
    "    n1=input(\"Press E to exit\")\n",
    "    if n1=='E':\n",
    "        break;\n",
    "    option = input(\"Enter the operation +)Add -)subs *)mul /)div\")\n",
    "    match(option):\n",
    "        case '+':\n",
    "            print(num1+num2)\n",
    "        case '-':\n",
    "            print(num1-num2)\n",
    "        case _:\n",
    "            print('Enter the valid option')\n",
    "\n",
    "    \n",
    "\n",
    "    \n",
    "\n"
   ]
  },
  {
   "cell_type": "code",
   "execution_count": 118,
   "id": "70e2e8da",
   "metadata": {},
   "outputs": [
    {
     "name": "stdout",
     "output_type": "stream",
     "text": [
      "Enter the number9\n",
      "Number is prime\n"
     ]
    }
   ],
   "source": [
    "#check prime number\n",
    "# n -> check till sqrt(n)\n",
    "import math\n",
    "n=int(input(\"Enter the number\"))\n",
    "for i in range(2,math.floor(n**(1/2))):\n",
    "    if n%i==0:\n",
    "        print(\"Number is not prime\")\n",
    "        break;\n",
    "else:\n",
    "    print(\"Number is prime\")\n",
    "\n"
   ]
  },
  {
   "cell_type": "code",
   "execution_count": 113,
   "id": "934ed5fb",
   "metadata": {},
   "outputs": [
    {
     "data": {
      "text/plain": [
       "3.0"
      ]
     },
     "execution_count": 113,
     "metadata": {},
     "output_type": "execute_result"
    }
   ],
   "source": [
    "9**(1/2)"
   ]
  },
  {
   "cell_type": "markdown",
   "id": "17579785",
   "metadata": {},
   "source": [
    "# List"
   ]
  },
  {
   "cell_type": "code",
   "execution_count": 121,
   "id": "3b15b46f",
   "metadata": {},
   "outputs": [
    {
     "name": "stdout",
     "output_type": "stream",
     "text": [
      "[] <class 'list'>\n"
     ]
    }
   ],
   "source": [
    "l1=list()\n",
    "print(l1,type(l1))"
   ]
  },
  {
   "cell_type": "code",
   "execution_count": 122,
   "id": "3e5393b6",
   "metadata": {},
   "outputs": [
    {
     "name": "stdout",
     "output_type": "stream",
     "text": [
      "10\n",
      "20\n",
      "30\n"
     ]
    }
   ],
   "source": [
    "l2=[10,20,30]\n",
    "for i in l2:\n",
    "    print(i)"
   ]
  },
  {
   "cell_type": "code",
   "execution_count": 129,
   "id": "ff052990",
   "metadata": {},
   "outputs": [
    {
     "name": "stdout",
     "output_type": "stream",
     "text": [
      "(0, 10)\n",
      "(1, 20)\n",
      "(2, 30)\n"
     ]
    }
   ],
   "source": [
    "l2=[10,20,30]\n",
    "for i in enumerate(l2):\n",
    "    print(i)"
   ]
  },
  {
   "cell_type": "code",
   "execution_count": 131,
   "id": "9b190a0d",
   "metadata": {},
   "outputs": [
    {
     "name": "stdout",
     "output_type": "stream",
     "text": [
      "[1, 4, 9, 16]\n"
     ]
    }
   ],
   "source": [
    "l1='PraveerPratap'\n",
    "l2=[i*i for i in l1]\n",
    "print(l2)"
   ]
  },
  {
   "cell_type": "code",
   "execution_count": 141,
   "id": "731ad898",
   "metadata": {},
   "outputs": [
    {
     "data": {
      "text/plain": [
       "'par'"
      ]
     },
     "execution_count": 141,
     "metadata": {},
     "output_type": "execute_result"
    }
   ],
   "source": [
    "l1='PraveerPratap'\n",
    "l1[-1:5:-3]"
   ]
  },
  {
   "cell_type": "code",
   "execution_count": 144,
   "id": "e0893804",
   "metadata": {},
   "outputs": [
    {
     "name": "stdout",
     "output_type": "stream",
     "text": [
      "10 20\n"
     ]
    }
   ],
   "source": [
    "a,b=[10,20]\n",
    "print(a,b)"
   ]
  },
  {
   "cell_type": "code",
   "execution_count": 147,
   "id": "dee93469",
   "metadata": {},
   "outputs": [
    {
     "name": "stdout",
     "output_type": "stream",
     "text": [
      "10 [20, 30, 40, 50] 60\n"
     ]
    }
   ],
   "source": [
    "a,*b,c=[10,20,30,40,50,60]\n",
    "print(a,b,c)"
   ]
  },
  {
   "cell_type": "code",
   "execution_count": 148,
   "id": "ba03dbc0",
   "metadata": {},
   "outputs": [
    {
     "data": {
      "text/plain": [
       "True"
      ]
     },
     "execution_count": 148,
     "metadata": {},
     "output_type": "execute_result"
    }
   ],
   "source": [
    "l1=[10,20,30]\n",
    "l2=[10,20,30]\n",
    "l1==l2"
   ]
  },
  {
   "cell_type": "code",
   "execution_count": 8,
   "id": "4bcc9cff",
   "metadata": {},
   "outputs": [],
   "source": [
    "l1=[10,20,30,40,50]\n",
    "l1.append('a')"
   ]
  },
  {
   "cell_type": "code",
   "execution_count": 9,
   "id": "bd04bf10",
   "metadata": {},
   "outputs": [
    {
     "data": {
      "text/plain": [
       "[10, 20, 30, 40, 50, 'a']"
      ]
     },
     "execution_count": 9,
     "metadata": {},
     "output_type": "execute_result"
    }
   ],
   "source": [
    "l1"
   ]
  },
  {
   "cell_type": "code",
   "execution_count": 10,
   "id": "1f8f34ae",
   "metadata": {},
   "outputs": [
    {
     "data": {
      "text/plain": [
       "[10, 20, 'b', 30, 40, 50, 'a']"
      ]
     },
     "execution_count": 10,
     "metadata": {},
     "output_type": "execute_result"
    }
   ],
   "source": [
    "l1.insert(2,'b')\n",
    "l1"
   ]
  },
  {
   "cell_type": "code",
   "execution_count": 11,
   "id": "e1e546a7",
   "metadata": {},
   "outputs": [
    {
     "data": {
      "text/plain": [
       "[20, 'b', 30, 40, 50, 'a']"
      ]
     },
     "execution_count": 11,
     "metadata": {},
     "output_type": "execute_result"
    }
   ],
   "source": [
    "del l1[0]\n",
    "l1"
   ]
  },
  {
   "cell_type": "code",
   "execution_count": 12,
   "id": "7f36e927",
   "metadata": {},
   "outputs": [
    {
     "data": {
      "text/plain": [
       "[1, 2, 3, 4]"
      ]
     },
     "execution_count": 12,
     "metadata": {},
     "output_type": "execute_result"
    }
   ],
   "source": [
    "l2=[1,2,3,3,4]\n",
    "l2.remove(3)\n",
    "l2"
   ]
  },
  {
   "cell_type": "code",
   "execution_count": 20,
   "id": "0827ded1",
   "metadata": {},
   "outputs": [
    {
     "data": {
      "text/plain": [
       "[2, 3, 4]"
      ]
     },
     "execution_count": 20,
     "metadata": {},
     "output_type": "execute_result"
    }
   ],
   "source": [
    "l1=[1,2,3,4]\n",
    "l1.pop(0)\n",
    "l1"
   ]
  },
  {
   "cell_type": "code",
   "execution_count": 19,
   "id": "c4d96c45",
   "metadata": {},
   "outputs": [],
   "source": [
    "l1.clear()"
   ]
  },
  {
   "cell_type": "code",
   "execution_count": 23,
   "id": "8934518b",
   "metadata": {},
   "outputs": [],
   "source": [
    "del l1[2]\n"
   ]
  },
  {
   "cell_type": "code",
   "execution_count": 28,
   "id": "b48cec60",
   "metadata": {},
   "outputs": [
    {
     "data": {
      "text/plain": [
       "[2, 3, 2, 3, 2, 3]"
      ]
     },
     "execution_count": 28,
     "metadata": {},
     "output_type": "execute_result"
    }
   ],
   "source": [
    "l1*3"
   ]
  },
  {
   "cell_type": "code",
   "execution_count": 29,
   "id": "7d555c73",
   "metadata": {},
   "outputs": [
    {
     "name": "stdout",
     "output_type": "stream",
     "text": [
      "True\n"
     ]
    }
   ],
   "source": [
    "print(2 in l1)"
   ]
  },
  {
   "cell_type": "code",
   "execution_count": 30,
   "id": "d9ca1bf3",
   "metadata": {},
   "outputs": [
    {
     "data": {
      "text/plain": [
       "[2, 3]"
      ]
     },
     "execution_count": 30,
     "metadata": {},
     "output_type": "execute_result"
    }
   ],
   "source": [
    "l1"
   ]
  },
  {
   "cell_type": "code",
   "execution_count": 34,
   "id": "84abe322",
   "metadata": {},
   "outputs": [
    {
     "name": "stdout",
     "output_type": "stream",
     "text": [
      "2 3 2\n"
     ]
    }
   ],
   "source": [
    "print(len(l1),max(l1),min(l1))"
   ]
  },
  {
   "cell_type": "code",
   "execution_count": 51,
   "id": "8f01cafa",
   "metadata": {},
   "outputs": [
    {
     "name": "stdout",
     "output_type": "stream",
     "text": [
      "[1, 2, 2, 3, 3, 4, 5, 6, 7]\n"
     ]
    }
   ],
   "source": [
    "l1=[1,2,3,4,5,6,7,2,3]\n",
    "l1.count(2)\n",
    "l1.index(2)\n",
    "l1.sort()\n",
    "print(l1)"
   ]
  },
  {
   "cell_type": "code",
   "execution_count": 52,
   "id": "dfbb2a61",
   "metadata": {},
   "outputs": [
    {
     "name": "stdout",
     "output_type": "stream",
     "text": [
      "[1, 2, 2, 3, 3, 4, 5, 6, 7] [1, 2, 2, 3, 3, 4, 5, 6, 7]\n"
     ]
    }
   ],
   "source": [
    "l2=sorted(l1)\n",
    "print(l1,l2)"
   ]
  },
  {
   "cell_type": "code",
   "execution_count": 57,
   "id": "c476722b",
   "metadata": {},
   "outputs": [
    {
     "data": {
      "text/plain": [
       "[7, 6, 5, 4, 3, 3, 2, 2, 1]"
      ]
     },
     "execution_count": 57,
     "metadata": {},
     "output_type": "execute_result"
    }
   ],
   "source": [
    "l1.reverse()\n",
    "l1"
   ]
  },
  {
   "cell_type": "code",
   "execution_count": null,
   "id": "3cac6213",
   "metadata": {},
   "outputs": [],
   "source": [
    "a=1\n",
    "res = a if a>2 else b "
   ]
  },
  {
   "cell_type": "code",
   "execution_count": 59,
   "id": "c98a2174",
   "metadata": {},
   "outputs": [
    {
     "data": {
      "text/plain": [
       "[(1, -1), (2, -2), (3, -3), (4, -4)]"
      ]
     },
     "execution_count": 59,
     "metadata": {},
     "output_type": "execute_result"
    }
   ],
   "source": [
    "l1 = [1,2,3,4,5]\n",
    "l2 = [-1,-2,-3,-4]\n",
    "list(zip(l1,l2))"
   ]
  },
  {
   "cell_type": "code",
   "execution_count": 62,
   "id": "4ff7a245",
   "metadata": {},
   "outputs": [
    {
     "data": {
      "text/plain": [
       "'abcdef'"
      ]
     },
     "execution_count": 62,
     "metadata": {},
     "output_type": "execute_result"
    }
   ],
   "source": [
    "\"abc\"\"def\""
   ]
  },
  {
   "cell_type": "code",
   "execution_count": 7,
   "id": "2a9bab1c",
   "metadata": {},
   "outputs": [
    {
     "name": "stdout",
     "output_type": "stream",
     "text": [
      "5 1 7 [1, 2, 4, 5, 7]\n"
     ]
    }
   ],
   "source": [
    "l1 = [1,2,7,4,5]\n",
    "print(len(l1),min(l1),max(l1),sorted(l1))"
   ]
  },
  {
   "cell_type": "code",
   "execution_count": 8,
   "id": "e71efcd9",
   "metadata": {},
   "outputs": [
    {
     "data": {
      "text/plain": [
       "[1, 2, 7, 4, 5]"
      ]
     },
     "execution_count": 8,
     "metadata": {},
     "output_type": "execute_result"
    }
   ],
   "source": [
    "l1"
   ]
  },
  {
   "cell_type": "code",
   "execution_count": 9,
   "id": "d0917568",
   "metadata": {},
   "outputs": [],
   "source": [
    "l1.sort()"
   ]
  },
  {
   "cell_type": "code",
   "execution_count": 10,
   "id": "aec9b3d4",
   "metadata": {},
   "outputs": [
    {
     "data": {
      "text/plain": [
       "[1, 2, 4, 5, 7]"
      ]
     },
     "execution_count": 10,
     "metadata": {},
     "output_type": "execute_result"
    }
   ],
   "source": [
    "l1"
   ]
  },
  {
   "cell_type": "code",
   "execution_count": 11,
   "id": "8d549e17",
   "metadata": {},
   "outputs": [],
   "source": [
    "l1.reverse()"
   ]
  },
  {
   "cell_type": "code",
   "execution_count": 12,
   "id": "9f5a9edf",
   "metadata": {},
   "outputs": [
    {
     "name": "stdout",
     "output_type": "stream",
     "text": [
      "20\n"
     ]
    }
   ],
   "source": [
    "a=10\n",
    "b=20\n",
    "res = a if a>b else b\n",
    "print(res)"
   ]
  },
  {
   "cell_type": "markdown",
   "id": "900223e9",
   "metadata": {},
   "source": [
    "# String"
   ]
  },
  {
   "cell_type": "code",
   "execution_count": 13,
   "id": "982dc88f",
   "metadata": {},
   "outputs": [
    {
     "name": "stdout",
     "output_type": "stream",
     "text": [
      "P\n",
      "r\n",
      "a\n",
      "v\n",
      "e\n",
      "e\n",
      "r\n"
     ]
    }
   ],
   "source": [
    "s1=\"Praveer\"\n",
    "for i in s1:\n",
    "    print(i)"
   ]
  },
  {
   "cell_type": "code",
   "execution_count": 23,
   "id": "0c15c5c8",
   "metadata": {},
   "outputs": [
    {
     "name": "stdout",
     "output_type": "stream",
     "text": [
      "1\n",
      "1\n"
     ]
    }
   ],
   "source": [
    "s2=\"baaa\"\n",
    "print(s2.count('aa'))\n",
    "print(s2.find('a',1,3))"
   ]
  },
  {
   "cell_type": "code",
   "execution_count": 27,
   "id": "f9680ca8",
   "metadata": {},
   "outputs": [
    {
     "name": "stdout",
     "output_type": "stream",
     "text": [
      "['10', ' 20', '30'] ['10,', '20,30']\n"
     ]
    }
   ],
   "source": [
    "s1 = \"10, 20,30\"\n",
    "s1.split(',')"
   ]
  },
  {
   "cell_type": "code",
   "execution_count": 31,
   "id": "2fe6f672",
   "metadata": {},
   "outputs": [
    {
     "data": {
      "text/plain": [
       "['10,', '20,30']"
      ]
     },
     "execution_count": 31,
     "metadata": {},
     "output_type": "execute_result"
    }
   ],
   "source": [
    "\n",
    "\"10, 20,30\".split(' ')"
   ]
  },
  {
   "cell_type": "code",
   "execution_count": 33,
   "id": "e1a54f96",
   "metadata": {},
   "outputs": [
    {
     "name": "stdout",
     "output_type": "stream",
     "text": [
      "['10', '20', '30', '40']\n"
     ]
    },
    {
     "data": {
      "text/plain": [
       "'10+20+30+40'"
      ]
     },
     "execution_count": 33,
     "metadata": {},
     "output_type": "execute_result"
    }
   ],
   "source": [
    "s1 = \"10,20,30,40\".split(',')\n",
    "print(s1)\n",
    "\"+\".join(s1)"
   ]
  },
  {
   "cell_type": "code",
   "execution_count": 34,
   "id": "f5f6b140",
   "metadata": {},
   "outputs": [
    {
     "data": {
      "text/plain": [
       "'prZveer prZtZp'"
      ]
     },
     "execution_count": 34,
     "metadata": {},
     "output_type": "execute_result"
    }
   ],
   "source": [
    "\"praveer pratap\".replace('a','Z')"
   ]
  },
  {
   "cell_type": "markdown",
   "id": "1eff561c",
   "metadata": {},
   "source": [
    "# Tuple "
   ]
  },
  {
   "cell_type": "code",
   "execution_count": 43,
   "id": "a8abdd62",
   "metadata": {},
   "outputs": [
    {
     "name": "stdout",
     "output_type": "stream",
     "text": [
      "(1, 2, 3, 4)\n"
     ]
    }
   ],
   "source": [
    "t1=(1,2,3,4)\n",
    "#t1[1]=10 error\n",
    "print(l1)"
   ]
  },
  {
   "cell_type": "code",
   "execution_count": 38,
   "id": "de4b8e45",
   "metadata": {},
   "outputs": [
    {
     "data": {
      "text/plain": [
       "(1, 2, 3, 4, 4, 4)"
      ]
     },
     "execution_count": 38,
     "metadata": {},
     "output_type": "execute_result"
    }
   ],
   "source": [
    "t1=(1,2,3,4,4,4)\n",
    "t1"
   ]
  },
  {
   "cell_type": "code",
   "execution_count": 44,
   "id": "e4251d93",
   "metadata": {},
   "outputs": [
    {
     "name": "stdout",
     "output_type": "stream",
     "text": [
      "<class 'str'> <class 'tuple'>\n"
     ]
    }
   ],
   "source": [
    "t1=(\"abc\")#string\n",
    "t2=(\"abc\",)\n",
    "print(type(t1),type(t2))"
   ]
  },
  {
   "cell_type": "code",
   "execution_count": 57,
   "id": "c73be010",
   "metadata": {},
   "outputs": [
    {
     "data": {
      "text/plain": [
       "[1, 2, 3, 4, 4, 4, 'abc']"
      ]
     },
     "execution_count": 57,
     "metadata": {},
     "output_type": "execute_result"
    }
   ],
   "source": [
    "t1=(1,2,3,4,4,4,\"abc\")\n",
    "list(t1)\n"
   ]
  },
  {
   "cell_type": "code",
   "execution_count": 58,
   "id": "b5c051f1",
   "metadata": {},
   "outputs": [
    {
     "data": {
      "text/plain": [
       "3"
      ]
     },
     "execution_count": 58,
     "metadata": {},
     "output_type": "execute_result"
    }
   ],
   "source": [
    "t1.count(4)"
   ]
  },
  {
   "cell_type": "code",
   "execution_count": 59,
   "id": "13e59341",
   "metadata": {},
   "outputs": [
    {
     "data": {
      "text/plain": [
       "6"
      ]
     },
     "execution_count": 59,
     "metadata": {},
     "output_type": "execute_result"
    }
   ],
   "source": [
    "t1.index(\"abc\")"
   ]
  },
  {
   "cell_type": "code",
   "execution_count": 62,
   "id": "29abba2e",
   "metadata": {},
   "outputs": [
    {
     "name": "stdout",
     "output_type": "stream",
     "text": [
      "2\n"
     ]
    }
   ],
   "source": [
    "a,b,c,d,e=(1,2,3,4,5)\n",
    "print(b)"
   ]
  },
  {
   "cell_type": "code",
   "execution_count": 63,
   "id": "121164b7",
   "metadata": {},
   "outputs": [
    {
     "name": "stdout",
     "output_type": "stream",
     "text": [
      "[2, 3, 4]\n"
     ]
    }
   ],
   "source": [
    "a,*b,e=(1,2,3,4,5)\n",
    "print(b)"
   ]
  },
  {
   "cell_type": "code",
   "execution_count": 69,
   "id": "31dd1b4a",
   "metadata": {},
   "outputs": [
    {
     "data": {
      "text/plain": [
       "0"
      ]
     },
     "execution_count": 69,
     "metadata": {},
     "output_type": "execute_result"
    }
   ],
   "source": [
    "hash(\"\")"
   ]
  },
  {
   "cell_type": "markdown",
   "id": "11343119",
   "metadata": {},
   "source": [
    "# Set"
   ]
  },
  {
   "cell_type": "code",
   "execution_count": 74,
   "id": "0feb4474",
   "metadata": {},
   "outputs": [
    {
     "name": "stdout",
     "output_type": "stream",
     "text": [
      "<class 'dict'>\n"
     ]
    }
   ],
   "source": [
    "a={}\n",
    "print(type(a))"
   ]
  },
  {
   "cell_type": "code",
   "execution_count": 75,
   "id": "d82ca76c",
   "metadata": {},
   "outputs": [
    {
     "name": "stdout",
     "output_type": "stream",
     "text": [
      "<class 'set'>\n"
     ]
    }
   ],
   "source": [
    "a={\"a\"}\n",
    "print(type(a))"
   ]
  },
  {
   "cell_type": "code",
   "execution_count": 77,
   "id": "aeb01d5c",
   "metadata": {},
   "outputs": [
    {
     "name": "stdout",
     "output_type": "stream",
     "text": [
      "<class 'set'> <class 'set'>\n"
     ]
    }
   ],
   "source": [
    "a=set()\n",
    "b={\"a\",}\n",
    "print(type(a),type(b))"
   ]
  },
  {
   "cell_type": "code",
   "execution_count": 84,
   "id": "2451e88f",
   "metadata": {},
   "outputs": [
    {
     "data": {
      "text/plain": [
       "True"
      ]
     },
     "execution_count": 84,
     "metadata": {},
     "output_type": "execute_result"
    }
   ],
   "source": [
    "a=\"praveer\" \n",
    "b=\"veerpra\"\n",
    "a==b\n",
    "list(a)==list(b)#false\n",
    "tuple(a)==tuple(b)#false\n",
    "set(a)==set(b)#true"
   ]
  },
  {
   "cell_type": "code",
   "execution_count": 90,
   "id": "ddae8ec3",
   "metadata": {},
   "outputs": [
    {
     "data": {
      "text/plain": [
       "{1, 2, 3, 4, 5, 6, 7, 8, 9}"
      ]
     },
     "execution_count": 90,
     "metadata": {},
     "output_type": "execute_result"
    }
   ],
   "source": [
    "s={1,2,3,4,5}\n",
    "s.add(6)\n",
    "s.update([7,8,9])\n",
    "s"
   ]
  },
  {
   "cell_type": "code",
   "execution_count": 94,
   "id": "7ada5798",
   "metadata": {},
   "outputs": [
    {
     "name": "stdout",
     "output_type": "stream",
     "text": [
      "None\n"
     ]
    }
   ],
   "source": [
    "[1,2,3].remove(3)\n"
   ]
  },
  {
   "cell_type": "code",
   "execution_count": 100,
   "id": "712fa65d",
   "metadata": {},
   "outputs": [
    {
     "name": "stdout",
     "output_type": "stream",
     "text": [
      "1\n",
      "2\n",
      "3\n",
      "4\n",
      "5\n"
     ]
    }
   ],
   "source": [
    "s1={1,2,3,4,5}\n",
    "for i in s1:\n",
    "    print(i)"
   ]
  },
  {
   "cell_type": "code",
   "execution_count": 103,
   "id": "2063cf86",
   "metadata": {},
   "outputs": [
    {
     "data": {
      "text/plain": [
       "{1, 2, 4, 5}"
      ]
     },
     "execution_count": 103,
     "metadata": {},
     "output_type": "execute_result"
    }
   ],
   "source": [
    "s1={1,2,3,4,5}\n",
    "s2={9,8,3}\n",
    "s1|s2\n",
    "s1&s2\n",
    "s1-s2\n"
   ]
  },
  {
   "cell_type": "markdown",
   "id": "86abab5c",
   "metadata": {},
   "source": [
    "# Dict"
   ]
  },
  {
   "cell_type": "code",
   "execution_count": 108,
   "id": "cc6ea68f",
   "metadata": {},
   "outputs": [],
   "source": [
    "d={}\n",
    "d1={'a':1,'b':2}\n",
    "s2={(1,2,3):56}"
   ]
  },
  {
   "cell_type": "code",
   "execution_count": 109,
   "id": "58653157",
   "metadata": {},
   "outputs": [
    {
     "data": {
      "text/plain": [
       "56"
      ]
     },
     "execution_count": 109,
     "metadata": {},
     "output_type": "execute_result"
    }
   ],
   "source": [
    "s2[(1,2,3)]"
   ]
  },
  {
   "cell_type": "code",
   "execution_count": 110,
   "id": "feb1e88a",
   "metadata": {},
   "outputs": [
    {
     "data": {
      "text/plain": [
       "1"
      ]
     },
     "execution_count": 110,
     "metadata": {},
     "output_type": "execute_result"
    }
   ],
   "source": [
    "d1.get('a')"
   ]
  },
  {
   "cell_type": "code",
   "execution_count": 111,
   "id": "1ccd531b",
   "metadata": {},
   "outputs": [],
   "source": [
    "d1['c']=3"
   ]
  },
  {
   "cell_type": "code",
   "execution_count": 112,
   "id": "a05e6533",
   "metadata": {},
   "outputs": [
    {
     "data": {
      "text/plain": [
       "{'a': 1, 'b': 2, 'c': 3}"
      ]
     },
     "execution_count": 112,
     "metadata": {},
     "output_type": "execute_result"
    }
   ],
   "source": [
    "d1"
   ]
  },
  {
   "cell_type": "code",
   "execution_count": 114,
   "id": "494a6989",
   "metadata": {},
   "outputs": [],
   "source": [
    "del d1['b']"
   ]
  },
  {
   "cell_type": "code",
   "execution_count": 115,
   "id": "a1d90695",
   "metadata": {},
   "outputs": [
    {
     "data": {
      "text/plain": [
       "{'a': 1, 'c': 3}"
      ]
     },
     "execution_count": 115,
     "metadata": {},
     "output_type": "execute_result"
    }
   ],
   "source": [
    "d1"
   ]
  },
  {
   "cell_type": "code",
   "execution_count": 116,
   "id": "8de79a84",
   "metadata": {},
   "outputs": [
    {
     "data": {
      "text/plain": [
       "{'a': 8, 'c': 3}"
      ]
     },
     "execution_count": 116,
     "metadata": {},
     "output_type": "execute_result"
    }
   ],
   "source": [
    "d1['a']=8\n",
    "d1"
   ]
  },
  {
   "cell_type": "code",
   "execution_count": 117,
   "id": "7f4bf874",
   "metadata": {},
   "outputs": [
    {
     "data": {
      "text/plain": [
       "True"
      ]
     },
     "execution_count": 117,
     "metadata": {},
     "output_type": "execute_result"
    }
   ],
   "source": [
    "'a' in d1"
   ]
  },
  {
   "cell_type": "code",
   "execution_count": 120,
   "id": "48192260",
   "metadata": {},
   "outputs": [
    {
     "name": "stdout",
     "output_type": "stream",
     "text": [
      "a 1\n",
      "b 2\n",
      "c [1, 2, 3]\n",
      "(9, 8) abc\n"
     ]
    }
   ],
   "source": [
    "d1={'a':1,'b':2,'c':[1,2,3],(9,8):\"abc\"}\n",
    "for i in d1:\n",
    "    print(i,d1[i])"
   ]
  },
  {
   "cell_type": "code",
   "execution_count": 122,
   "id": "1b5e81a4",
   "metadata": {},
   "outputs": [
    {
     "data": {
      "text/plain": [
       "dict_items([('a', 1), ('b', 2), ('c', [1, 2, 3]), ((9, 8), 'abc')])"
      ]
     },
     "execution_count": 122,
     "metadata": {},
     "output_type": "execute_result"
    }
   ],
   "source": [
    "d1.items()"
   ]
  },
  {
   "cell_type": "code",
   "execution_count": 124,
   "id": "da1daa95",
   "metadata": {},
   "outputs": [
    {
     "data": {
      "text/plain": [
       "dict_keys(['a', 'b', 'c', (9, 8)])"
      ]
     },
     "execution_count": 124,
     "metadata": {},
     "output_type": "execute_result"
    }
   ],
   "source": [
    "d1.keys()"
   ]
  },
  {
   "cell_type": "code",
   "execution_count": 125,
   "id": "be7f5470",
   "metadata": {},
   "outputs": [
    {
     "data": {
      "text/plain": [
       "dict_values([1, 2, [1, 2, 3], 'abc'])"
      ]
     },
     "execution_count": 125,
     "metadata": {},
     "output_type": "execute_result"
    }
   ],
   "source": [
    "d1.values()"
   ]
  },
  {
   "cell_type": "code",
   "execution_count": 126,
   "id": "ad6ddb88",
   "metadata": {},
   "outputs": [
    {
     "data": {
      "text/plain": [
       "{'a': 1, 'b': 2, 'c': [1, 2, 3], (9, 8): 'abc'}"
      ]
     },
     "execution_count": 126,
     "metadata": {},
     "output_type": "execute_result"
    }
   ],
   "source": [
    "d1"
   ]
  },
  {
   "cell_type": "code",
   "execution_count": 129,
   "id": "b264d14a",
   "metadata": {},
   "outputs": [
    {
     "data": {
      "text/plain": [
       "{1: 1, 2: 4, 3: 9, 4: 16}"
      ]
     },
     "execution_count": 129,
     "metadata": {},
     "output_type": "execute_result"
    }
   ],
   "source": [
    "{i:i**2 for i in range(1,5)}"
   ]
  },
  {
   "cell_type": "code",
   "execution_count": 130,
   "id": "0a7a289c",
   "metadata": {},
   "outputs": [],
   "source": [
    "# Assignment List"
   ]
  },
  {
   "cell_type": "code",
   "execution_count": 138,
   "id": "4ba78105",
   "metadata": {},
   "outputs": [
    {
     "data": {
      "text/plain": [
       "[4, 3, 2, 1]"
      ]
     },
     "execution_count": 138,
     "metadata": {},
     "output_type": "execute_result"
    }
   ],
   "source": [
    "l1=[1,2,3,4]\n",
    "l1.reverse()\n",
    "l1"
   ]
  },
  {
   "cell_type": "code",
   "execution_count": 139,
   "id": "3b7b65fd",
   "metadata": {},
   "outputs": [
    {
     "data": {
      "text/plain": [
       "[1, 2, 3, 4]"
      ]
     },
     "execution_count": 139,
     "metadata": {},
     "output_type": "execute_result"
    }
   ],
   "source": [
    "l1[::-1]"
   ]
  },
  {
   "cell_type": "code",
   "execution_count": 146,
   "id": "a42f8a18",
   "metadata": {},
   "outputs": [
    {
     "data": {
      "text/plain": [
       "[150,\n",
       " 152,\n",
       " 154,\n",
       " 156,\n",
       " 158,\n",
       " 160,\n",
       " 162,\n",
       " 164,\n",
       " 166,\n",
       " 168,\n",
       " 170,\n",
       " 172,\n",
       " 174,\n",
       " 176,\n",
       " 178,\n",
       " 180,\n",
       " 182,\n",
       " 184,\n",
       " 186,\n",
       " 188,\n",
       " 190,\n",
       " 192,\n",
       " 194,\n",
       " 196,\n",
       " 198,\n",
       " 200,\n",
       " 202,\n",
       " 204,\n",
       " 206,\n",
       " 208,\n",
       " 210,\n",
       " 212,\n",
       " 214,\n",
       " 216,\n",
       " 218,\n",
       " 220,\n",
       " 222,\n",
       " 224,\n",
       " 226,\n",
       " 228,\n",
       " 230,\n",
       " 232,\n",
       " 234,\n",
       " 236,\n",
       " 238,\n",
       " 240,\n",
       " 242,\n",
       " 244,\n",
       " 246,\n",
       " 248]"
      ]
     },
     "execution_count": 146,
     "metadata": {},
     "output_type": "execute_result"
    }
   ],
   "source": [
    "l1=[]\n",
    "for i in range(150,250,2):\n",
    "    l1.append(i)\n",
    "l1"
   ]
  },
  {
   "cell_type": "code",
   "execution_count": 152,
   "id": "7804dba0",
   "metadata": {},
   "outputs": [
    {
     "data": {
      "text/plain": [
       "[152,\n",
       " 156,\n",
       " 160,\n",
       " 164,\n",
       " 168,\n",
       " 172,\n",
       " 176,\n",
       " 180,\n",
       " 184,\n",
       " 188,\n",
       " 192,\n",
       " 196,\n",
       " 200,\n",
       " 204,\n",
       " 208,\n",
       " 212,\n",
       " 216,\n",
       " 220,\n",
       " 224,\n",
       " 228,\n",
       " 232,\n",
       " 236,\n",
       " 240,\n",
       " 244,\n",
       " 248]"
      ]
     },
     "execution_count": 152,
     "metadata": {},
     "output_type": "execute_result"
    }
   ],
   "source": [
    "l1 = [i for i in range(150,250) if i %4==0]\n",
    "l1"
   ]
  },
  {
   "cell_type": "code",
   "execution_count": 156,
   "id": "cceaee23",
   "metadata": {},
   "outputs": [
    {
     "name": "stdout",
     "output_type": "stream",
     "text": [
      "not present\n"
     ]
    }
   ],
   "source": [
    "names = [\"praveer\",\"tejveer\",\"Anshu\"]\n",
    "op = \"present\" if \"pravee\" in names else \"not present\"\n",
    "print(op)"
   ]
  },
  {
   "cell_type": "code",
   "execution_count": 158,
   "id": "166976a6",
   "metadata": {},
   "outputs": [
    {
     "name": "stdout",
     "output_type": "stream",
     "text": [
      "[1.0, 2.0, 3.0, 4.0, 5.0, 6.0, 7.0]\n"
     ]
    }
   ],
   "source": [
    "import math\n",
    "aList = [1, 4, 9, 16, 25, 36, 49] \n",
    "aList1 = [math.sqrt(i) for i in aList]\n",
    "print(aList1)"
   ]
  },
  {
   "cell_type": "code",
   "execution_count": 161,
   "id": "a14c0c7a",
   "metadata": {},
   "outputs": [
    {
     "name": "stdout",
     "output_type": "stream",
     "text": [
      "['50', '51', '60', '61', '70', '71']\n"
     ]
    }
   ],
   "source": [
    "list1 = [5, 6,7]\n",
    "list2 = [0, 1]\n",
    "l1=[str(i)+str(j) for i in list1 for j in list2 ]\n",
    "print(l1)"
   ]
  },
  {
   "cell_type": "code",
   "execution_count": 167,
   "id": "b151de27",
   "metadata": {},
   "outputs": [
    {
     "name": "stdout",
     "output_type": "stream",
     "text": [
      "10 400\n",
      "20 300\n",
      "30 200\n",
      "40 100\n"
     ]
    }
   ],
   "source": [
    "list1 = [10, 20, 30, 40]\n",
    "list2 = [100, 200, 300, 400]\n",
    "for i,j in zip(list1,list2[::-1]):\n",
    "    print(i,j)"
   ]
  },
  {
   "cell_type": "code",
   "execution_count": 169,
   "id": "36d70fd6",
   "metadata": {},
   "outputs": [
    {
     "name": "stdout",
     "output_type": "stream",
     "text": [
      "0 10\n",
      "1 20\n",
      "2 30\n",
      "3 40\n"
     ]
    }
   ],
   "source": [
    "list1 = [10, 20, 30, 40]\n",
    "for i,e in enumerate(list1):\n",
    "    print(i,e)\n",
    "\n"
   ]
  },
  {
   "cell_type": "code",
   "execution_count": 197,
   "id": "870ba842",
   "metadata": {},
   "outputs": [
    {
     "name": "stdout",
     "output_type": "stream",
     "text": [
      "['1', '2', '3', '4']\n",
      "1234\n",
      "4321\n"
     ]
    }
   ],
   "source": [
    "input1 = 3421\n",
    "input2=list(str(input1))\n",
    "input2.sort()\n",
    "input3=''.join(input2)\n",
    "print(int(input3))\n",
    "input3=''.join(input2[::-1])\n",
    "print(int(input3))"
   ]
  },
  {
   "cell_type": "code",
   "execution_count": 189,
   "id": "1af91e37",
   "metadata": {},
   "outputs": [
    {
     "name": "stdout",
     "output_type": "stream",
     "text": [
      "['1', '2', '3', '4']\n"
     ]
    },
    {
     "data": {
      "text/plain": [
       "1234"
      ]
     },
     "execution_count": 189,
     "metadata": {},
     "output_type": "execute_result"
    }
   ],
   "source": [
    "input1 = 3421\n",
    "input2=[i for i in str(input1)]\n",
    "input2.sort()\n",
    "print(input2)\n",
    "input3=''.join(input2)\n",
    "int(input3)"
   ]
  },
  {
   "cell_type": "code",
   "execution_count": 191,
   "id": "6f2253fb",
   "metadata": {},
   "outputs": [
    {
     "name": "stdout",
     "output_type": "stream",
     "text": [
      "['1', '2', '3', '4']\n"
     ]
    },
    {
     "data": {
      "text/plain": [
       "4321"
      ]
     },
     "execution_count": 191,
     "metadata": {},
     "output_type": "execute_result"
    }
   ],
   "source": [
    "print(input2)\n",
    "input3=''.join(input2[::-1])\n",
    "int(input3)"
   ]
  },
  {
   "cell_type": "code",
   "execution_count": 202,
   "id": "119f3b56",
   "metadata": {},
   "outputs": [
    {
     "name": "stdout",
     "output_type": "stream",
     "text": [
      "3421\n",
      "[3, 1, 31, 43, 41, 23, 21, 13]\n"
     ]
    }
   ],
   "source": [
    "input=3421\n",
    "input1=str(3421)\n",
    "print(input1)\n",
    "l1=[]\n",
    "for i in input1:\n",
    "    if int(i)%2!=0:\n",
    "        l1.append(int(i))\n",
    "for i in range(len(input1)):\n",
    "    for j in range(len(input1)):\n",
    "        if (i!=j):\n",
    "            #print(input1[i]+input1[j])\n",
    "            if int(input1[i]+input1[j])%2!=0:\n",
    "                l1.append(int(input1[i]+input1[j]))\n",
    "        \n",
    "print(l1)\n",
    "# for i in input1:\n",
    "#     for j in input1:\n",
    "#         l1.append(i+j)"
   ]
  },
  {
   "cell_type": "code",
   "execution_count": 215,
   "id": "76cd87de",
   "metadata": {},
   "outputs": [
    {
     "name": "stdout",
     "output_type": "stream",
     "text": [
      "1\n",
      "2\n",
      "3\n",
      "4\n",
      "12\n",
      "13\n",
      "14\n",
      "21\n",
      "23\n",
      "24\n",
      "31\n",
      "32\n",
      "34\n",
      "41\n",
      "42\n",
      "43\n",
      "123\n",
      "124\n",
      "132\n",
      "134\n",
      "142\n",
      "143\n",
      "213\n",
      "214\n",
      "231\n",
      "234\n",
      "241\n",
      "243\n",
      "312\n",
      "314\n",
      "321\n",
      "324\n",
      "341\n",
      "342\n",
      "412\n",
      "413\n",
      "421\n",
      "423\n",
      "431\n",
      "432\n",
      "1234\n",
      "1243\n",
      "1324\n",
      "1342\n",
      "1423\n",
      "1432\n",
      "2134\n",
      "2143\n",
      "2314\n",
      "2341\n",
      "2413\n",
      "2431\n",
      "3124\n",
      "3142\n",
      "3214\n",
      "3241\n",
      "3412\n",
      "3421\n",
      "4123\n",
      "4132\n",
      "4213\n",
      "4231\n",
      "4312\n",
      "4321\n"
     ]
    }
   ],
   "source": [
    "from itertools import permutations\n",
    "input1=3421\n",
    "input1 = list(str(input1))\n",
    "l1=[]\n",
    "for i in range(len(input1)):\n",
    "    l1.append(list(permutations([1,2,3,4],i+1)))\n",
    "for i in l1:\n",
    "    for j in i:\n",
    "        print(\"\".join([str(i) for i in list(j)]))"
   ]
  },
  {
   "cell_type": "code",
   "execution_count": null,
   "id": "0fa939f0",
   "metadata": {},
   "outputs": [],
   "source": []
  },
  {
   "cell_type": "markdown",
   "id": "cdd040d2",
   "metadata": {},
   "source": [
    "# String Assignment"
   ]
  },
  {
   "cell_type": "code",
   "execution_count": 235,
   "id": "a7cd06a8",
   "metadata": {},
   "outputs": [
    {
     "data": {
      "text/plain": [
       "'zip'"
      ]
     },
     "execution_count": 235,
     "metadata": {},
     "output_type": "execute_result"
    }
   ],
   "source": [
    "str1 = \"RakeshzipPetabb\"\n",
    "str1[(len(str1)//2)-1:(len(str1)//2)+2]"
   ]
  },
  {
   "cell_type": "code",
   "execution_count": 241,
   "id": "33e016de",
   "metadata": {},
   "outputs": [
    {
     "name": "stdout",
     "output_type": "stream",
     "text": [
      "2\n"
     ]
    },
    {
     "data": {
      "text/plain": [
       "'AuKellylt'"
      ]
     },
     "execution_count": 241,
     "metadata": {},
     "output_type": "execute_result"
    }
   ],
   "source": [
    "s1 = \"Ault\"\n",
    "s2 = \"Kelly\"\n",
    "l1=len(s1)//2\n",
    "print(l1)\n",
    "s1[0:l1]+s2+s1[l1::]"
   ]
  },
  {
   "cell_type": "code",
   "execution_count": 244,
   "id": "915dfbd9",
   "metadata": {},
   "outputs": [
    {
     "data": {
      "text/plain": [
       "'eeratPRAVPRP'"
      ]
     },
     "execution_count": 244,
     "metadata": {},
     "output_type": "execute_result"
    }
   ],
   "source": [
    "s1=\"PRAVeerPRatP\"\n",
    "s2=\"\"\n",
    "s3=\"\"\n",
    "for i in s1:\n",
    "    if(i.islower()):\n",
    "        s2+=i\n",
    "    else:\n",
    "        s3+=i\n",
    "s2+s3"
   ]
  },
  {
   "cell_type": "code",
   "execution_count": 245,
   "id": "f5e07fad",
   "metadata": {},
   "outputs": [
    {
     "data": {
      "text/plain": [
       "'AzbycX'"
      ]
     },
     "execution_count": 245,
     "metadata": {},
     "output_type": "execute_result"
    }
   ],
   "source": [
    "s1 = \"Abc\"\n",
    "s2 = \"Xyz\"\n",
    "s3=\"\"\n",
    "for i,j in zip(s1,s2[::-1]):\n",
    "    s3=s3+i+j\n",
    "s3\n",
    "    "
   ]
  },
  {
   "cell_type": "code",
   "execution_count": 255,
   "id": "c3cc59d6",
   "metadata": {},
   "outputs": [
    {
     "name": "stdout",
     "output_type": "stream",
     "text": [
      "welcome to usa. usa awesome, isn't it?\n",
      "11\n",
      "16\n"
     ]
    },
    {
     "data": {
      "text/plain": [
       "2"
      ]
     },
     "execution_count": 255,
     "metadata": {},
     "output_type": "execute_result"
    }
   ],
   "source": [
    "str1 = \"Welcome to USA. usa awesome, isn't it?\"\n",
    "str1=str1.lower()\n",
    "print(str1)\n",
    "n=str1.count(\"usa\")\n",
    "a=0\n",
    "for i in range(n):\n",
    "    b=str1.find(\"usa\",a,len(str1)-1)\n",
    "    print(b)\n",
    "    a=b+1\n"
   ]
  },
  {
   "cell_type": "code",
   "execution_count": null,
   "id": "10f117d9",
   "metadata": {},
   "outputs": [],
   "source": []
  },
  {
   "cell_type": "code",
   "execution_count": null,
   "id": "5f9dfc7e",
   "metadata": {},
   "outputs": [],
   "source": []
  },
  {
   "cell_type": "code",
   "execution_count": null,
   "id": "0309f937",
   "metadata": {},
   "outputs": [],
   "source": []
  },
  {
   "cell_type": "code",
   "execution_count": null,
   "id": "5e48fc1f",
   "metadata": {},
   "outputs": [],
   "source": []
  },
  {
   "cell_type": "code",
   "execution_count": null,
   "id": "43d7844b",
   "metadata": {},
   "outputs": [],
   "source": []
  },
  {
   "cell_type": "code",
   "execution_count": null,
   "id": "bbd6efca",
   "metadata": {},
   "outputs": [],
   "source": []
  },
  {
   "cell_type": "code",
   "execution_count": null,
   "id": "0508cad1",
   "metadata": {},
   "outputs": [],
   "source": []
  },
  {
   "cell_type": "code",
   "execution_count": 269,
   "id": "9a8ad5c6",
   "metadata": {},
   "outputs": [
    {
     "name": "stdout",
     "output_type": "stream",
     "text": [
      "4\n",
      "5\n",
      "6\n",
      "3\n"
     ]
    }
   ],
   "source": [
    "String1= \"ANANAAAANNN\"\n",
    "Substring= \"AA\"\n",
    "n=len(String1)\n",
    "a=0\n",
    "f=0\n",
    "count=0\n",
    "while f!=-1:\n",
    "    f=String1.find(Substring,a,n-1)\n",
    "    if f==-1:\n",
    "        break\n",
    "    count+=1\n",
    "    print(f)\n",
    "    a=f+1\n",
    "print(count)"
   ]
  },
  {
   "cell_type": "code",
   "execution_count": null,
   "id": "e36c4d46",
   "metadata": {},
   "outputs": [],
   "source": [
    "L=[1,2,3,4,5,6]\n",
    "a=-1\n",
    "for i in range(len(L)):\n",
    "    m=max(L[0],L[-1])\n",
    "    if(m>=a):\n",
    "        \n",
    "    a=del m\n",
    "    \n",
    "    "
   ]
  },
  {
   "cell_type": "code",
   "execution_count": null,
   "id": "b8b8f31e",
   "metadata": {},
   "outputs": [],
   "source": [
    "\n"
   ]
  },
  {
   "cell_type": "code",
   "execution_count": null,
   "id": "1be113b9",
   "metadata": {},
   "outputs": [],
   "source": []
  }
 ],
 "metadata": {
  "kernelspec": {
   "display_name": "Python 3 (ipykernel)",
   "language": "python",
   "name": "python3"
  },
  "language_info": {
   "codemirror_mode": {
    "name": "ipython",
    "version": 3
   },
   "file_extension": ".py",
   "mimetype": "text/x-python",
   "name": "python",
   "nbconvert_exporter": "python",
   "pygments_lexer": "ipython3",
   "version": "3.11.4"
  }
 },
 "nbformat": 4,
 "nbformat_minor": 5
}
