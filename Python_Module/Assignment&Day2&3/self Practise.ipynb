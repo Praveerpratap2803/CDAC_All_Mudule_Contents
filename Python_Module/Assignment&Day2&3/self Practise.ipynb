{
 "cells": [
  {
   "cell_type": "code",
   "execution_count": 2,
   "id": "d5e76044",
   "metadata": {},
   "outputs": [
    {
     "name": "stdout",
     "output_type": "stream",
     "text": [
      "enter the number34\n",
      "34 <class 'str'>\n"
     ]
    }
   ],
   "source": [
    "a=input(\"enter the number\")\n",
    "print(a,type(a))"
   ]
  },
  {
   "cell_type": "code",
   "execution_count": 4,
   "id": "680381c5",
   "metadata": {},
   "outputs": [
    {
     "name": "stdout",
     "output_type": "stream",
     "text": [
      "praveer#pratap#a#f\n"
     ]
    }
   ],
   "source": [
    "print(\"praveer\",\"pratap\",\"a\",\"f\",sep='#')"
   ]
  },
  {
   "cell_type": "code",
   "execution_count": 1,
   "id": "2805be48",
   "metadata": {},
   "outputs": [
    {
     "name": "stdout",
     "output_type": "stream",
     "text": [
      "praveer praveer#"
     ]
    }
   ],
   "source": [
    "print(\"praveer\",\"praveer\",end='#')"
   ]
  },
  {
   "cell_type": "code",
   "execution_count": 3,
   "id": "36d7f59e",
   "metadata": {},
   "outputs": [
    {
     "name": "stdout",
     "output_type": "stream",
     "text": [
      "20000.0\n"
     ]
    }
   ],
   "source": [
    "print(2e4)"
   ]
  },
  {
   "cell_type": "code",
   "execution_count": 16,
   "id": "e422fa70",
   "metadata": {},
   "outputs": [
    {
     "ename": "NameError",
     "evalue": "name '_10' is not defined",
     "output_type": "error",
     "traceback": [
      "\u001b[1;31m---------------------------------------------------------------------------\u001b[0m",
      "\u001b[1;31mNameError\u001b[0m                                 Traceback (most recent call last)",
      "Cell \u001b[1;32mIn[16], line 1\u001b[0m\n\u001b[1;32m----> 1\u001b[0m a\u001b[38;5;241m=\u001b[39m_10\n",
      "\u001b[1;31mNameError\u001b[0m: name '_10' is not defined"
     ]
    }
   ],
   "source": [
    "#a=_10  error"
   ]
  },
  {
   "cell_type": "code",
   "execution_count": 2,
   "id": "7e39bbc8",
   "metadata": {},
   "outputs": [
    {
     "name": "stdout",
     "output_type": "stream",
     "text": [
      "abc\n"
     ]
    }
   ],
   "source": [
    "var1:int=10\n",
    "var1=\"abc\"\n",
    "print(var1)"
   ]
  },
  {
   "cell_type": "code",
   "execution_count": 3,
   "id": "eb0b11b2",
   "metadata": {},
   "outputs": [
    {
     "ename": "NameError",
     "evalue": "name 'a' is not defined",
     "output_type": "error",
     "traceback": [
      "\u001b[1;31m---------------------------------------------------------------------------\u001b[0m",
      "\u001b[1;31mNameError\u001b[0m                                 Traceback (most recent call last)",
      "Cell \u001b[1;32mIn[3], line 1\u001b[0m\n\u001b[1;32m----> 1\u001b[0m a\n",
      "\u001b[1;31mNameError\u001b[0m: name 'a' is not defined"
     ]
    }
   ],
   "source": [
    "a"
   ]
  },
  {
   "cell_type": "code",
   "execution_count": 10,
   "id": "d72d20cd",
   "metadata": {},
   "outputs": [
    {
     "data": {
      "text/plain": [
       "1"
      ]
     },
     "execution_count": 10,
     "metadata": {},
     "output_type": "execute_result"
    }
   ],
   "source": [
    "10 and 1"
   ]
  },
  {
   "cell_type": "code",
   "execution_count": 11,
   "id": "99f4739a",
   "metadata": {},
   "outputs": [
    {
     "name": "stdout",
     "output_type": "stream",
     "text": [
      "True\n"
     ]
    }
   ],
   "source": [
    "if 5>6:\n",
    "    print(\"True\")\n",
    "elif 6>3:\n",
    "    print(\"True\")"
   ]
  },
  {
   "cell_type": "code",
   "execution_count": 16,
   "id": "351b7691",
   "metadata": {},
   "outputs": [
    {
     "data": {
      "text/plain": [
       "20.5"
      ]
     },
     "execution_count": 16,
     "metadata": {},
     "output_type": "execute_result"
    }
   ],
   "source": [
    "10+10.5"
   ]
  },
  {
   "cell_type": "code",
   "execution_count": 17,
   "id": "ff82f598",
   "metadata": {},
   "outputs": [
    {
     "data": {
      "text/plain": [
       "10"
      ]
     },
     "execution_count": 17,
     "metadata": {},
     "output_type": "execute_result"
    }
   ],
   "source": [
    "10+False"
   ]
  },
  {
   "cell_type": "code",
   "execution_count": 18,
   "id": "ceb39fea",
   "metadata": {},
   "outputs": [
    {
     "data": {
      "text/plain": [
       "10"
      ]
     },
     "execution_count": 18,
     "metadata": {},
     "output_type": "execute_result"
    }
   ],
   "source": [
    "int(10.3)"
   ]
  },
  {
   "cell_type": "code",
   "execution_count": 20,
   "id": "c4fcb5b4",
   "metadata": {},
   "outputs": [
    {
     "data": {
      "text/plain": [
       "False"
      ]
     },
     "execution_count": 20,
     "metadata": {},
     "output_type": "execute_result"
    }
   ],
   "source": [
    "isinstance(10,type)"
   ]
  },
  {
   "cell_type": "code",
   "execution_count": 21,
   "id": "5f524e7e",
   "metadata": {},
   "outputs": [
    {
     "name": "stdout",
     "output_type": "stream",
     "text": [
      "140711854773320 140711854773320\n"
     ]
    }
   ],
   "source": [
    "i=10\n",
    "j=10\n",
    "print(id(i),id(j))"
   ]
  },
  {
   "cell_type": "code",
   "execution_count": 23,
   "id": "a6d0b20c",
   "metadata": {},
   "outputs": [
    {
     "name": "stdout",
     "output_type": "stream",
     "text": [
      "\n",
      "*\n",
      "**\n",
      "***\n",
      "****\n"
     ]
    }
   ],
   "source": [
    "n=5\n",
    "for i in range(n):\n",
    "    print('*'*i)"
   ]
  },
  {
   "cell_type": "code",
   "execution_count": 31,
   "id": "ec0cff7e",
   "metadata": {},
   "outputs": [
    {
     "name": "stdout",
     "output_type": "stream",
     "text": [
      "*******\n",
      "*****\n",
      "***\n",
      "*\n"
     ]
    }
   ],
   "source": [
    "n=5\n",
    "for i in range(2*(n-1),1,-2):\n",
    "    print('*'*(i-1))"
   ]
  },
  {
   "cell_type": "code",
   "execution_count": 52,
   "id": "13e3cabb",
   "metadata": {},
   "outputs": [
    {
     "name": "stdout",
     "output_type": "stream",
     "text": [
      "     *\n",
      "   ***\n",
      " *****\n",
      "   ***\n",
      "     *\n"
     ]
    }
   ],
   "source": [
    "n=5\n",
    "for i in range(0,n,2):\n",
    "    print(' '*(n-i-1),(i+1)*'*')\n",
    "for j in range(n-2,0,-2):\n",
    "    print(' '*(n-j),'*'*j)\n",
    "\n"
   ]
  },
  {
   "cell_type": "code",
   "execution_count": 35,
   "id": "5eb70f21",
   "metadata": {},
   "outputs": [
    {
     "name": "stdout",
     "output_type": "stream",
     "text": [
      "     *\n",
      "   ***\n",
      " *****\n",
      "   ***\n",
      "     *\n"
     ]
    }
   ],
   "source": [
    "n=5\n",
    "for i in range(0,n,2):\n",
    "    print(' '*(n-i-1),'*'*(i+1))\n",
    "for j in range(1,n,2):\n",
    "    print(' '*(j+1),'*'*(n-j-1))\n",
    "    \n"
   ]
  },
  {
   "cell_type": "code",
   "execution_count": 44,
   "id": "324bb2b6",
   "metadata": {},
   "outputs": [
    {
     "name": "stdout",
     "output_type": "stream",
     "text": [
      "     *\n",
      "   ***\n",
      " *****\n",
      "   ***\n",
      "     *\n"
     ]
    }
   ],
   "source": [
    "n=5\n",
    "sp=n-1\n",
    "for i in range(1,n+1,2):\n",
    "    print(' '*sp,'*'*i)\n",
    "    sp=sp-2\n",
    "sp=2\n",
    "for j in range(n-2,0,-2):\n",
    "    print(' '*sp,'*'*j)\n",
    "    sp=sp+2"
   ]
  },
  {
   "cell_type": "code",
   "execution_count": 59,
   "id": "8e4ec004",
   "metadata": {},
   "outputs": [
    {
     "name": "stdout",
     "output_type": "stream",
     "text": [
      "1010101\n",
      " 10101\n",
      "  101\n",
      "   1\n"
     ]
    }
   ],
   "source": [
    "n=4\n",
    "for i in range(n):\n",
    "    print(' '*(i),'1','01'*(n-i-1),sep='')"
   ]
  },
  {
   "cell_type": "code",
   "execution_count": 63,
   "id": "10d5d088",
   "metadata": {},
   "outputs": [
    {
     "name": "stdout",
     "output_type": "stream",
     "text": [
      "\n",
      "1\n",
      "22\n",
      "333\n",
      "4444\n"
     ]
    }
   ],
   "source": [
    "n=5\n",
    "for i in range(5):\n",
    "    print(str(i)*i)"
   ]
  },
  {
   "cell_type": "code",
   "execution_count": 65,
   "id": "7aac741a",
   "metadata": {},
   "outputs": [
    {
     "name": "stdout",
     "output_type": "stream",
     "text": [
      "   *\n",
      "  ***\n",
      " *****\n",
      "  ***\n",
      "   *\n"
     ]
    }
   ],
   "source": [
    "n=5\n",
    "sp=n-3\n",
    "for i in range(1,n+1,2):\n",
    "    print(' '*sp,'*'*i)\n",
    "    sp=sp-1\n",
    "sp=1\n",
    "for j in range(n-2,0,-2):\n",
    "    print(sp*' ','*'*j)\n",
    "    sp=sp+1"
   ]
  },
  {
   "cell_type": "code",
   "execution_count": 66,
   "id": "91be0816",
   "metadata": {},
   "outputs": [
    {
     "data": {
      "text/plain": [
       "True"
      ]
     },
     "execution_count": 66,
     "metadata": {},
     "output_type": "execute_result"
    }
   ],
   "source": [
    "10==10.0"
   ]
  },
  {
   "cell_type": "code",
   "execution_count": 73,
   "id": "0729b5d6",
   "metadata": {},
   "outputs": [
    {
     "name": "stdout",
     "output_type": "stream",
     "text": [
      "number1\n"
     ]
    }
   ],
   "source": [
    "a=10\n",
    "match a:\n",
    "    case 1 | 10:\n",
    "        print(\"number1\")\n",
    "    case 10:\n",
    "        print(\"number2\")\n",
    "    case _:\n",
    "        print(\"not matched any\")\n",
    "    "
   ]
  },
  {
   "cell_type": "code",
   "execution_count": 74,
   "id": "2b1aaf27",
   "metadata": {},
   "outputs": [
    {
     "name": "stdout",
     "output_type": "stream",
     "text": [
      "0b1010\n"
     ]
    }
   ],
   "source": [
    "print(bin(10))"
   ]
  },
  {
   "cell_type": "code",
   "execution_count": 75,
   "id": "6b1c30cb",
   "metadata": {},
   "outputs": [
    {
     "name": "stdout",
     "output_type": "stream",
     "text": [
      "140710474719752 140710474719752\n"
     ]
    }
   ],
   "source": [
    "a='a'\n",
    "b='a'\n",
    "print(id(a),id(b))"
   ]
  },
  {
   "cell_type": "code",
   "execution_count": 85,
   "id": "008bba2f",
   "metadata": {},
   "outputs": [
    {
     "name": "stdout",
     "output_type": "stream",
     "text": [
      "(11+0j) <class 'complex'>\n"
     ]
    }
   ],
   "source": [
    "a=complex(11)\n",
    "print(a,type(a))"
   ]
  },
  {
   "cell_type": "code",
   "execution_count": 88,
   "id": "252ecfbb",
   "metadata": {},
   "outputs": [
    {
     "data": {
      "text/plain": [
       "'0xb'"
      ]
     },
     "execution_count": 88,
     "metadata": {},
     "output_type": "execute_result"
    }
   ],
   "source": [
    "a=hex(11)\n",
    "a"
   ]
  },
  {
   "cell_type": "code",
   "execution_count": 89,
   "id": "11cec7e3",
   "metadata": {},
   "outputs": [
    {
     "data": {
      "text/plain": [
       "'0o13'"
      ]
     },
     "execution_count": 89,
     "metadata": {},
     "output_type": "execute_result"
    }
   ],
   "source": [
    "a=oct(11)\n",
    "a"
   ]
  },
  {
   "cell_type": "code",
   "execution_count": 102,
   "id": "9113d9b7",
   "metadata": {},
   "outputs": [],
   "source": [
    "import math\n",
    "n=9\n",
    "if math.sqrt(n)-int(math.sqrt(n))>0:\n",
    "    print(\"not perfect \")\n"
   ]
  },
  {
   "cell_type": "code",
   "execution_count": null,
   "id": "70818a29",
   "metadata": {},
   "outputs": [],
   "source": []
  },
  {
   "cell_type": "code",
   "execution_count": 106,
   "id": "bc41026d",
   "metadata": {},
   "outputs": [
    {
     "data": {
      "text/plain": [
       "Fraction(2942384595296007, 281474976710656)"
      ]
     },
     "execution_count": 106,
     "metadata": {},
     "output_type": "execute_result"
    }
   ],
   "source": [
    "num=10.45345\n",
    "from fractions import Fraction\n",
    "Fraction(num)"
   ]
  },
  {
   "cell_type": "code",
   "execution_count": 111,
   "id": "6c2528bd",
   "metadata": {},
   "outputs": [
    {
     "name": "stdout",
     "output_type": "stream",
     "text": [
      "Enter the number 1 12\n",
      "Enter the number 2 10\n",
      "Press E to exitr\n",
      "Enter the operation +)Add -)subs *)mul /)div+\n",
      "22\n",
      "Press E to exitE\n"
     ]
    }
   ],
   "source": [
    "#calculator\n",
    "num1 = int(input(\"Enter the number 1 \"))\n",
    "num2 = int(input(\"Enter the number 2 \"))\n",
    "n=True\n",
    "while(n):\n",
    "    n1=input(\"Press E to exit\")\n",
    "    if n1=='E':\n",
    "        break;\n",
    "    option = input(\"Enter the operation +)Add -)subs *)mul /)div\")\n",
    "    match(option):\n",
    "        case '+':\n",
    "            print(num1+num2)\n",
    "        case '-':\n",
    "            print(num1-num2)\n",
    "        case _:\n",
    "            print('Enter the valid option')\n",
    "\n",
    "    \n",
    "\n",
    "    \n",
    "\n"
   ]
  },
  {
   "cell_type": "code",
   "execution_count": 118,
   "id": "93660f0c",
   "metadata": {},
   "outputs": [
    {
     "name": "stdout",
     "output_type": "stream",
     "text": [
      "Enter the number9\n",
      "Number is prime\n"
     ]
    }
   ],
   "source": [
    "#check prime number\n",
    "# n -> check till sqrt(n)\n",
    "import math\n",
    "n=int(input(\"Enter the number\"))\n",
    "for i in range(2,math.floor(n**(1/2))):\n",
    "    if n%i==0:\n",
    "        print(\"Number is not prime\")\n",
    "        break;\n",
    "else:\n",
    "    print(\"Number is prime\")\n",
    "\n"
   ]
  },
  {
   "cell_type": "code",
   "execution_count": 113,
   "id": "f34723a3",
   "metadata": {},
   "outputs": [
    {
     "data": {
      "text/plain": [
       "3.0"
      ]
     },
     "execution_count": 113,
     "metadata": {},
     "output_type": "execute_result"
    }
   ],
   "source": [
    "9**(1/2)"
   ]
  },
  {
   "cell_type": "markdown",
   "id": "7a822e69",
   "metadata": {},
   "source": [
    "# List"
   ]
  },
  {
   "cell_type": "code",
   "execution_count": 121,
   "id": "c9ced5d1",
   "metadata": {},
   "outputs": [
    {
     "name": "stdout",
     "output_type": "stream",
     "text": [
      "[] <class 'list'>\n"
     ]
    }
   ],
   "source": [
    "l1=list()\n",
    "print(l1,type(l1))"
   ]
  },
  {
   "cell_type": "code",
   "execution_count": 122,
   "id": "8a1d164c",
   "metadata": {},
   "outputs": [
    {
     "name": "stdout",
     "output_type": "stream",
     "text": [
      "10\n",
      "20\n",
      "30\n"
     ]
    }
   ],
   "source": [
    "l2=[10,20,30]\n",
    "for i in l2:\n",
    "    print(i)"
   ]
  },
  {
   "cell_type": "code",
   "execution_count": 129,
   "id": "64e89c19",
   "metadata": {},
   "outputs": [
    {
     "name": "stdout",
     "output_type": "stream",
     "text": [
      "(0, 10)\n",
      "(1, 20)\n",
      "(2, 30)\n"
     ]
    }
   ],
   "source": [
    "l2=[10,20,30]\n",
    "for i in enumerate(l2):\n",
    "    print(i)"
   ]
  },
  {
   "cell_type": "code",
   "execution_count": null,
   "id": "be11b052",
   "metadata": {},
   "outputs": [],
   "source": []
  },
  {
   "cell_type": "code",
   "execution_count": null,
   "id": "a20eb627",
   "metadata": {},
   "outputs": [],
   "source": []
  },
  {
   "cell_type": "code",
   "execution_count": null,
   "id": "d66176a6",
   "metadata": {},
   "outputs": [],
   "source": [
    "\n"
   ]
  }
 ],
 "metadata": {
  "kernelspec": {
   "display_name": "Python 3 (ipykernel)",
   "language": "python",
   "name": "python3"
  },
  "language_info": {
   "codemirror_mode": {
    "name": "ipython",
    "version": 3
   },
   "file_extension": ".py",
   "mimetype": "text/x-python",
   "name": "python",
   "nbconvert_exporter": "python",
   "pygments_lexer": "ipython3",
   "version": "3.11.4"
  }
 },
 "nbformat": 4,
 "nbformat_minor": 5
}
