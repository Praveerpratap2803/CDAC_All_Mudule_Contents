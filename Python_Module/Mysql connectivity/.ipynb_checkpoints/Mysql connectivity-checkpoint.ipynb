{
 "cells": [
  {
   "cell_type": "code",
   "execution_count": 1,
   "id": "92e0189d",
   "metadata": {},
   "outputs": [],
   "source": [
    "import mysql.connector\n",
    "cnx = mysql.connector.connect(user='root',password='root',host='127.0.0.1',database='mytrial')\n",
    "cur = cnx.cursor()\n",
    "cur.execute(\"\"\"CREATE TABLE student1( \n",
    "            roll_no INT, \n",
    "            subid varchar(10), \n",
    "            marks INT);\"\"\")\n",
    "cnx.commit()\n",
    "cnx.close()"
   ]
  },
  {
   "cell_type": "code",
   "execution_count": 2,
   "id": "9ce359ef",
   "metadata": {},
   "outputs": [],
   "source": []
  },
  {
   "cell_type": "code",
   "execution_count": 2,
   "id": "697f23c9",
   "metadata": {},
   "outputs": [
    {
     "name": "stdout",
     "output_type": "stream",
     "text": [
      "insert into student1 values(1,'sub1',34);\n",
      "insert into student1 values(2,'sub1',30);\n",
      "insert into student1 values(3,'sub1',23);\n",
      "insert into student1 values(1,'sub2',23);\n",
      "insert into student1 values(2,'sub2',26);\n",
      "insert into student1 values(3,'sub2',30);\n",
      "insert into student1 values(1,'sub3',30);\n",
      "insert into student1 values(2,'sub3',30);\n",
      "insert into student1 values(3,'sub3',27);\n"
     ]
    }
   ],
   "source": [
    "records=[[1,'sub1',34],\n",
    "         [2,'sub1',30],\n",
    "         [3,'sub1',23],\n",
    "         [1,'sub2',23],\n",
    "        [2,'sub2',26],\n",
    "        [3,'sub2',30],\n",
    "        [1,'sub3',30],\n",
    "        [2,'sub3',30],\n",
    "        [3,'sub3',27],\n",
    "    ]\n",
    "cnx = mysql.connector.connect(user='root', \n",
    "                              password='root',\n",
    "                              host='127.0.0.1',\n",
    "                              database='mytrial')\n",
    "cur=cnx.cursor()\n",
    "for rno, sub, marks in records:\n",
    "    query = \"insert into student1 values(\" +\\\n",
    "                str(rno)+\",\"+\\\n",
    "                repr(sub) + \",\"+\\\n",
    "                str(marks)+\");\"\n",
    "    print(query)\n",
    "    cur.execute(query)\n",
    "\n",
    "cnx.commit()\n",
    "cnx.close()"
   ]
  },
  {
   "cell_type": "code",
   "execution_count": 3,
   "id": "a0c0133d",
   "metadata": {},
   "outputs": [
    {
     "name": "stdout",
     "output_type": "stream",
     "text": [
      "(1, 'sub1', 34)\n",
      "(2, 'sub1', 30)\n",
      "(3, 'sub1', 23)\n",
      "(1, 'sub2', 23)\n",
      "(2, 'sub2', 26)\n",
      "(3, 'sub2', 30)\n",
      "(1, 'sub3', 30)\n",
      "(2, 'sub3', 30)\n",
      "(3, 'sub3', 27)\n"
     ]
    }
   ],
   "source": [
    "cnx = mysql.connector.connect(user='root', \n",
    "                              password='root',\n",
    "                              host='127.0.0.1',\n",
    "                              database='mytrial')\n",
    "cur=cnx.cursor()\n",
    "cur.execute(\"select * from student1\")\n",
    "\n",
    "for row in cur:\n",
    "    print(row)\n",
    "    \n",
    "cnx.commit()\n",
    "cnx.close()\n"
   ]
  },
  {
   "cell_type": "code",
   "execution_count": null,
   "id": "9fcb0fa2",
   "metadata": {},
   "outputs": [],
   "source": []
  }
 ],
 "metadata": {
  "kernelspec": {
   "display_name": "Python 3 (ipykernel)",
   "language": "python",
   "name": "python3"
  },
  "language_info": {
   "codemirror_mode": {
    "name": "ipython",
    "version": 3
   },
   "file_extension": ".py",
   "mimetype": "text/x-python",
   "name": "python",
   "nbconvert_exporter": "python",
   "pygments_lexer": "ipython3",
   "version": "3.11.4"
  }
 },
 "nbformat": 4,
 "nbformat_minor": 5
}
