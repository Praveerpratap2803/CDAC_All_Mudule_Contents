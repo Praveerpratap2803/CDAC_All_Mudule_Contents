{
 "cells": [
  {
   "cell_type": "code",
   "execution_count": 1,
   "id": "7b5834bd",
   "metadata": {},
   "outputs": [],
   "source": [
    "import mysql.connector"
   ]
  },
  {
   "cell_type": "code",
   "execution_count": 14,
   "id": "3e3a99f0",
   "metadata": {},
   "outputs": [],
   "source": [
    "cnx=mysql.connector.connect(user='root',\n",
    "                        password='root',\n",
    "                        host='127.0.0.1')\n",
    "cur=cnx.cursor()\n",
    "cur.execute(\"\"\"CREATE DATABASE XYZ\"\"\")\n",
    "cnx.commit()\n",
    "cnx.close()"
   ]
  },
  {
   "cell_type": "code",
   "execution_count": 20,
   "id": "14a60388",
   "metadata": {},
   "outputs": [
    {
     "data": {
      "text/plain": [
       "<bound method CMySQLConnection.close of <mysql.connector.connection_cext.CMySQLConnection object at 0x00000261CE081190>>"
      ]
     },
     "execution_count": 20,
     "metadata": {},
     "output_type": "execute_result"
    }
   ],
   "source": [
    "cnx = mysql.connector.connect(user=\"root\",\n",
    "                              password=\"root\",\n",
    "                              host=\"127.0.0.1\",\n",
    "                             database='XYZ'\n",
    "                             )\n",
    "cur=cnx.cursor()\n",
    "cur.execute(\"\"\"CREATE TABLE student (roll_no int,name varchar(20),marks int );\"\"\")\n",
    "cnx.commit()\n",
    "cnx.close"
   ]
  },
  {
   "cell_type": "code",
   "execution_count": 33,
   "id": "230b5cb4",
   "metadata": {},
   "outputs": [],
   "source": [
    "cnx = mysql.connector.connect(user=\"root\",\n",
    "                              password=\"root\",\n",
    "                              host=\"127.0.0.1\",\n",
    "                              database='XYZ')\n",
    "cur = cnx.cursor()\n",
    "cur.execute(\"\"\"INSERT INTO student(roll_no,name,marks) VALUES(1,\"PRAVEER\",90);\"\"\")\n",
    "cnx.commit()\n",
    "cnx.close()"
   ]
  },
  {
   "cell_type": "code",
   "execution_count": 56,
   "id": "6268f40e",
   "metadata": {},
   "outputs": [
    {
     "name": "stdout",
     "output_type": "stream",
     "text": [
      "(1, 'PRAVEER', 90)\n",
      "(1, 'PRAVEER', 90)\n",
      "(9, 'name1', 91)\n",
      "(8, 'name2', 92)\n"
     ]
    }
   ],
   "source": [
    "cnx = mysql.connector.connect(user=\"root\",\n",
    "                              password=\"root\",\n",
    "                              host=\"127.0.0.1\",\n",
    "                              database='XYZ')\n",
    "cur = cnx.cursor()\n",
    "cur.execute(\"\"\"select * from student\"\"\")\n",
    "for i in cur:\n",
    "    print(i)\n",
    "cnx.commit()\n",
    "cnx.close()"
   ]
  },
  {
   "cell_type": "code",
   "execution_count": 54,
   "id": "d6b0a032",
   "metadata": {},
   "outputs": [],
   "source": [
    "data = [\n",
    "    [9,\"name1\",91],\n",
    "    [8,\"name2\",92]\n",
    "]\n",
    "cnx = mysql.connector.connect(user=\"root\",\n",
    "                              password=\"root\",\n",
    "                              host=\"127.0.0.1\",\n",
    "                              database=\"XYZ\"\n",
    ")\n"
   ]
  },
  {
   "cell_type": "code",
   "execution_count": 55,
   "id": "c34d2516",
   "metadata": {},
   "outputs": [],
   "source": [
    "cur = cnx.cursor()\n",
    "for i in data:\n",
    "    a=\"INSERT INTO student(roll_no,name,marks) values(\"+str(i[0])+\", '\"+i[1]+\"',\"+str(i[2])+\");\"\n",
    "    cur.execute(a)\n",
    "cnx.commit()\n",
    "cnx.close()"
   ]
  },
  {
   "cell_type": "code",
   "execution_count": 51,
   "id": "277ee373",
   "metadata": {},
   "outputs": [
    {
     "name": "stdout",
     "output_type": "stream",
     "text": [
      "INSERT INTO student values(9,Tejveer,91);\n",
      "INSERT INTO student values(8,Veer,92);\n"
     ]
    }
   ],
   "source": [
    "data = [\n",
    "    [9,\"Tejveer\",91],\n",
    "    [8,\"Veer\",92]\n",
    "]\n",
    "for i in data:\n",
    "    a=\"INSERT INTO student values(\"+str(i[0])+\",\"+str(i[1])+\",\"+str(i[2])+\");\"\n",
    "    print(a)"
   ]
  },
  {
   "cell_type": "code",
   "execution_count": null,
   "id": "ad627b87",
   "metadata": {},
   "outputs": [],
   "source": []
  },
  {
   "cell_type": "code",
   "execution_count": null,
   "id": "657189b0",
   "metadata": {},
   "outputs": [],
   "source": []
  },
  {
   "cell_type": "code",
   "execution_count": 19,
   "id": "88d8150b",
   "metadata": {},
   "outputs": [],
   "source": []
  },
  {
   "cell_type": "code",
   "execution_count": null,
   "id": "0fca9ec8",
   "metadata": {},
   "outputs": [],
   "source": []
  }
 ],
 "metadata": {
  "kernelspec": {
   "display_name": "Python 3 (ipykernel)",
   "language": "python",
   "name": "python3"
  },
  "language_info": {
   "codemirror_mode": {
    "name": "ipython",
    "version": 3
   },
   "file_extension": ".py",
   "mimetype": "text/x-python",
   "name": "python",
   "nbconvert_exporter": "python",
   "pygments_lexer": "ipython3",
   "version": "3.11.4"
  }
 },
 "nbformat": 4,
 "nbformat_minor": 5
}
