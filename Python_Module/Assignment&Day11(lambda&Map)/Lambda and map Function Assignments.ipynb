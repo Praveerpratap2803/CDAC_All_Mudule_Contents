{
 "cells": [
  {
   "cell_type": "code",
   "execution_count": null,
   "id": "44f5ac83",
   "metadata": {},
   "outputs": [],
   "source": [
    "Lambda and map Function Assignments\n",
    "\n",
    "\n",
    "Q Sort all the numbers in a list in descending order using lambda function\n",
    "\n",
    "Q Sort all the characters of given string using lambda function\n",
    "\n",
    "Q Given list of strings, sort all the strings by last character of that string. . Use lambda function and normal function both.\n",
    "\n",
    "Q Given list of employees. This list may contain repetitions. Find all unique employee names and print them as per order of second character in that name. Use lambda function and normal function both.\n",
    "\n",
    "Q. Take Employee id and Employee name of 5 employees from user. Store it in dictionary. Print all employees in increasing order of employee Id . Also print all employees in alphabetical order by name.\n",
    "\n",
    "Q. Take comma separated numbers as input from the user. Split it in list of strings. Now convert every string in this list to float using map function\n",
    "\n",
    "Q Given list of floating point numbers. Convert every number into string and then join all the numbers such that they are separated by pipe(|)\n",
    "\n",
    "Q Given list of integers. Use map function to calculate square of all and store in list. Then print sum of all square values.\n",
    "\n",
    "\n",
    "\n"
   ]
  },
  {
   "cell_type": "code",
   "execution_count": null,
   "id": "5c092c28",
   "metadata": {},
   "outputs": [],
   "source": [
    "Q1) Sort all the numbers in a list in descending order using lambda function\n"
   ]
  },
  {
   "cell_type": "code",
   "execution_count": null,
   "id": "21327fd1",
   "metadata": {},
   "outputs": [],
   "source": []
  },
  {
   "cell_type": "code",
   "execution_count": 7,
   "id": "ee781050",
   "metadata": {},
   "outputs": [
    {
     "name": "stdout",
     "output_type": "stream",
     "text": [
      "[5, 4, 3, 2, 1]\n"
     ]
    }
   ],
   "source": [
    "l1=[1,2,3,4,5]\n",
    "(lambda l:print(l[::-1]))(l1)"
   ]
  },
  {
   "cell_type": "code",
   "execution_count": 9,
   "id": "af8aa013",
   "metadata": {},
   "outputs": [
    {
     "data": {
      "text/plain": [
       "[5, 4, 3, 2, 1]"
      ]
     },
     "execution_count": 9,
     "metadata": {},
     "output_type": "execute_result"
    }
   ],
   "source": [
    "sorted(l1,key=(lambda e:-e))"
   ]
  },
  {
   "cell_type": "code",
   "execution_count": null,
   "id": "1f8c59b5",
   "metadata": {},
   "outputs": [],
   "source": [
    "Q2) Sort all the characters of given string using lambda function\n"
   ]
  },
  {
   "cell_type": "code",
   "execution_count": 4,
   "id": "0f9ef133",
   "metadata": {},
   "outputs": [
    {
     "data": {
      "text/plain": [
       "['a', 'e', 'e', 'p', 'r', 'r', 'v']"
      ]
     },
     "execution_count": 4,
     "metadata": {},
     "output_type": "execute_result"
    }
   ],
   "source": [
    "str1='praveer'\n",
    "sorted(str1,key=(lambda c:c))"
   ]
  },
  {
   "cell_type": "code",
   "execution_count": null,
   "id": "2e9501d0",
   "metadata": {},
   "outputs": [],
   "source": [
    "Q3) Given list of strings, sort all the strings by last character of that string. . Use lambda function and normal function both.\n"
   ]
  },
  {
   "cell_type": "code",
   "execution_count": 9,
   "id": "47525944",
   "metadata": {},
   "outputs": [
    {
     "data": {
      "text/plain": [
       "['Name', 'Praveer', 'is', 'My']"
      ]
     },
     "execution_count": 9,
     "metadata": {},
     "output_type": "execute_result"
    }
   ],
   "source": [
    "list_s=['My','Name','is','Praveer']\n",
    "sorted(list_s,key=(lambda e:e[-1]))\n",
    "    "
   ]
  },
  {
   "cell_type": "code",
   "execution_count": 11,
   "id": "9508c3cd",
   "metadata": {},
   "outputs": [
    {
     "name": "stdout",
     "output_type": "stream",
     "text": [
      "<function last_c at 0x0000021ADA04EB60>\n"
     ]
    },
    {
     "data": {
      "text/plain": [
       "'e'"
      ]
     },
     "execution_count": 11,
     "metadata": {},
     "output_type": "execute_result"
    }
   ],
   "source": [
    "list_s=['My','Name','is','Praveer']\n",
    "def last_c(e):\n",
    "    return e[-1]\n",
    "\n",
    "sorted(list_s,key=last_c)\n",
    "a=last_c\n",
    "print(a)\n",
    "a('qwe')"
   ]
  },
  {
   "cell_type": "code",
   "execution_count": null,
   "id": "a3a14643",
   "metadata": {},
   "outputs": [],
   "source": [
    "#Sort using last char without using the sort function"
   ]
  },
  {
   "cell_type": "code",
   "execution_count": null,
   "id": "d2c765c9",
   "metadata": {},
   "outputs": [],
   "source": [
    "Q4) Given list of employees. This list may contain repetitions. Find all unique employee names and print them as per order of second character in that name. Use lambda function and normal function both.\n"
   ]
  },
  {
   "cell_type": "code",
   "execution_count": 10,
   "id": "54ff9d40",
   "metadata": {},
   "outputs": [
    {
     "name": "stdout",
     "output_type": "stream",
     "text": [
      "['Ganesh', 'Tejveer', 'Amrut', 'Praveer', 'Prajwal']\n"
     ]
    }
   ],
   "source": [
    "l1=['Praveer','Praveer','Tejveer','Ganesh','Amrut','Prajwal']\n",
    "l1=list(set(l1))\n",
    "l2=sorted(l1,key=lambda w: w[1])\n",
    "print(l2)"
   ]
  },
  {
   "cell_type": "code",
   "execution_count": 8,
   "id": "606b1530",
   "metadata": {},
   "outputs": [
    {
     "data": {
      "text/plain": [
       "['Ganesh', 'Tejveer', 'Amrut', 'Praveer', 'Prajwal']"
      ]
     },
     "execution_count": 8,
     "metadata": {},
     "output_type": "execute_result"
    }
   ],
   "source": [
    "l1=['Praveer','Praveer','Tejveer','Ganesh','Amrut','Prajwal']\n",
    "l1=list(set(l1))\n",
    "def fun(w):\n",
    "    return w[1]\n",
    "sorted(l1,key=fun)"
   ]
  },
  {
   "cell_type": "markdown",
   "id": "1fa7a005",
   "metadata": {},
   "source": [
    "Q5) Take Employee id and Employee name of 5 employees from user. \n",
    "Store it in dictionary. Print all employees in increasing order of employee Id . \n",
    "Also print all employees in alphabetical order by name.\n"
   ]
  },
  {
   "cell_type": "code",
   "execution_count": 30,
   "id": "ffa08ae5",
   "metadata": {},
   "outputs": [
    {
     "name": "stdout",
     "output_type": "stream",
     "text": [
      "Praveer\n",
      "Ganesh\n",
      "Tejveer\n",
      "Amrut\n",
      "Prajwal\n",
      "--------------------------\n",
      "Amrut\n",
      "Ganesh\n",
      "Prajwal\n",
      "Praveer\n",
      "Tejveer\n"
     ]
    }
   ],
   "source": [
    "l1={1:'Praveer',4:'Tejveer',3:'Ganesh',7:'Amrut',9:'Prajwal'}\n",
    "\n",
    "l2=sorted(l1,key= lambda x:x)\n",
    "for i in l2:\n",
    "    print(l1[i])\n",
    "print(\"--------------------------\")  \n",
    "l3=sorted(l1,key=lambda x:l1[x])\n",
    "for i in l3:\n",
    "    print(l1[i])"
   ]
  },
  {
   "cell_type": "code",
   "execution_count": null,
   "id": "1bc3b33a",
   "metadata": {},
   "outputs": [],
   "source": []
  },
  {
   "cell_type": "code",
   "execution_count": null,
   "id": "104ad28c",
   "metadata": {},
   "outputs": [],
   "source": [
    "Q. Take comma separated numbers as input from the user. Split it in list of strings. \n",
    "Now convert every string in this list to float using map function\n"
   ]
  },
  {
   "cell_type": "code",
   "execution_count": 51,
   "id": "b16f87cc",
   "metadata": {},
   "outputs": [
    {
     "name": "stdout",
     "output_type": "stream",
     "text": [
      "Enter the number comma separated1,2,3,4\n",
      "[1.0, 2.0, 3.0, 4.0]\n"
     ]
    }
   ],
   "source": [
    "l1=input('Enter the number comma separated').split(',')\n",
    "def str_to_float(str1):\n",
    "    return float(str1)\n",
    "l2=list(map(str_to_float,l1))\n",
    "print(l2)"
   ]
  },
  {
   "cell_type": "code",
   "execution_count": null,
   "id": "fddeef1e",
   "metadata": {},
   "outputs": [],
   "source": []
  },
  {
   "cell_type": "code",
   "execution_count": null,
   "id": "5e9a13e4",
   "metadata": {},
   "outputs": [],
   "source": [
    "Q Given list of floating point numbers. \n",
    "Convert every number into string and then join all the numbers such that they are separated by pipe(|)\n"
   ]
  },
  {
   "cell_type": "code",
   "execution_count": 50,
   "id": "53fce043",
   "metadata": {},
   "outputs": [
    {
     "name": "stdout",
     "output_type": "stream",
     "text": [
      "1.1|2.2|3.3|4.4\n"
     ]
    }
   ],
   "source": [
    "l1=[1.1,2.2,3.3,4.4]\n",
    "l2=list(map(str,l1))\n",
    "l3='|'.join(l2)\n",
    "print(l3)"
   ]
  },
  {
   "cell_type": "code",
   "execution_count": null,
   "id": "698a9b7d",
   "metadata": {},
   "outputs": [],
   "source": []
  },
  {
   "cell_type": "code",
   "execution_count": null,
   "id": "3a85e8d5",
   "metadata": {},
   "outputs": [],
   "source": [
    "Q Given list of integers. Use map function to calculate square of all and store in list. \n",
    "Then print sum of all square values.\n"
   ]
  },
  {
   "cell_type": "code",
   "execution_count": 45,
   "id": "f8bad8e8",
   "metadata": {},
   "outputs": [
    {
     "name": "stdout",
     "output_type": "stream",
     "text": [
      "55\n"
     ]
    }
   ],
   "source": [
    "l1=[1,2,3,4,5]\n",
    "def square(x):\n",
    "    return x**2\n",
    "l2=list(map(square,l1))\n",
    "sum=0\n",
    "for i in l2:\n",
    "    sum+=i\n",
    "print(sum)"
   ]
  },
  {
   "cell_type": "code",
   "execution_count": null,
   "id": "354f3fac",
   "metadata": {},
   "outputs": [],
   "source": []
  }
 ],
 "metadata": {
  "kernelspec": {
   "display_name": "Python 3 (ipykernel)",
   "language": "python",
   "name": "python3"
  },
  "language_info": {
   "codemirror_mode": {
    "name": "ipython",
    "version": 3
   },
   "file_extension": ".py",
   "mimetype": "text/x-python",
   "name": "python",
   "nbconvert_exporter": "python",
   "pygments_lexer": "ipython3",
   "version": "3.11.4"
  }
 },
 "nbformat": 4,
 "nbformat_minor": 5
}
