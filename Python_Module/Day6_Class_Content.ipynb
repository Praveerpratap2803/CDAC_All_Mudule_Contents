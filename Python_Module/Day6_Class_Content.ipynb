{
 "cells": [
  {
   "cell_type": "code",
   "execution_count": null,
   "id": "a1d1d6c1",
   "metadata": {},
   "outputs": [],
   "source": []
  },
  {
   "cell_type": "code",
   "execution_count": null,
   "id": "f6db3d14",
   "metadata": {},
   "outputs": [],
   "source": []
  },
  {
   "cell_type": "code",
   "execution_count": 1,
   "id": "2ec0b9f2",
   "metadata": {},
   "outputs": [],
   "source": [
    "# Check number is armstrong or not"
   ]
  },
  {
   "cell_type": "code",
   "execution_count": 4,
   "id": "8125af95",
   "metadata": {},
   "outputs": [
    {
     "name": "stdout",
     "output_type": "stream",
     "text": [
      "Enter the number153\n",
      "3\n",
      "5\n",
      "1\n",
      "153\n",
      "153\n",
      "Number is armstrong\n"
     ]
    }
   ],
   "source": [
    "number = input(\"Enter the number\")\n",
    "length_number = len(number)\n",
    "number = int(number)\n",
    "number1=number\n",
    "sum1=0\n",
    "while number>0:\n",
    "    digit=number%10\n",
    "    print(digit)\n",
    "    number=number//10\n",
    "    sum1 = sum1 + pow(digit,int(length_number))\n",
    "print(sum1)\n",
    "print(number1)\n",
    "if sum1==number1:\n",
    "    print(\"Number is armstrong\")\n",
    "else:\n",
    "    print(\"Number is not armstrong\")\n",
    "    "
   ]
  },
  {
   "cell_type": "code",
   "execution_count": null,
   "id": "27aac6ad",
   "metadata": {},
   "outputs": [],
   "source": [
    "number = input(\"Enter the number\")\n",
    "length_number = len(number)\n"
   ]
  },
  {
   "cell_type": "code",
   "execution_count": null,
   "id": "62ae569a",
   "metadata": {},
   "outputs": [],
   "source": []
  },
  {
   "cell_type": "code",
   "execution_count": null,
   "id": "c52c587b",
   "metadata": {},
   "outputs": [],
   "source": []
  }
 ],
 "metadata": {
  "kernelspec": {
   "display_name": "Python 3 (ipykernel)",
   "language": "python",
   "name": "python3"
  },
  "language_info": {
   "codemirror_mode": {
    "name": "ipython",
    "version": 3
   },
   "file_extension": ".py",
   "mimetype": "text/x-python",
   "name": "python",
   "nbconvert_exporter": "python",
   "pygments_lexer": "ipython3",
   "version": "3.11.4"
  }
 },
 "nbformat": 4,
 "nbformat_minor": 5
}
