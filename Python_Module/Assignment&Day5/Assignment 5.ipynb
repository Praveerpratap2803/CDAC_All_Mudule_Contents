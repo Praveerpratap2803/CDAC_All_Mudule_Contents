{
 "cells": [
  {
   "cell_type": "markdown",
   "id": "c5da8495",
   "metadata": {},
   "source": [
    "# Assignment 5"
   ]
  },
  {
   "cell_type": "markdown",
   "id": "19d9c2d8",
   "metadata": {},
   "source": [
    "1. Reverse a given list in Python\n",
    "aList = [100, 200, 300, 400, 500]\n",
    "output:\n",
    "[500, 400, 300, 200, 100]\n"
   ]
  },
  {
   "cell_type": "code",
   "execution_count": null,
   "id": "153b442e",
   "metadata": {},
   "outputs": [],
   "source": []
  },
  {
   "cell_type": "markdown",
   "id": "72224dcd",
   "metadata": {},
   "source": [
    "2. take a list 'l1' of even nos between 150 to 250. Print its length.\n",
    "Then create another list 'l2' using 'l1', containing only nos divisible by 4 from 'l1'."
   ]
  },
  {
   "cell_type": "code",
   "execution_count": null,
   "id": "99003b55",
   "metadata": {},
   "outputs": [],
   "source": []
  },
  {
   "cell_type": "markdown",
   "id": "bb6073a6",
   "metadata": {},
   "source": [
    "3. Given a Python list of numbers. Turn every item of a list into its square root\n",
    "aList = [1, 4, 9, 16, 25, 36, 49] \n",
    "output:\n",
    "[1, 2, 3, 4, 5, 6, 7]"
   ]
  },
  {
   "cell_type": "code",
   "execution_count": null,
   "id": "8f7d8349",
   "metadata": {},
   "outputs": [],
   "source": []
  },
  {
   "cell_type": "markdown",
   "id": "dcbbdc51",
   "metadata": {},
   "source": [
    "4. Print two lists in the following order\n",
    "list1 = [5, 6,7]\n",
    "list2 = [0, 1]\n",
    "output:\n",
    "50,51,60,61,70,71"
   ]
  },
  {
   "cell_type": "code",
   "execution_count": null,
   "id": "a8ee9093",
   "metadata": {},
   "outputs": [],
   "source": []
  },
  {
   "cell_type": "markdown",
   "id": "91e6cbb6",
   "metadata": {},
   "source": [
    "5. Given a two Python list. Iterate both lists simultaneously such that list1 should display item in original order and list2 in reverse order. It should work for any two lists.\n",
    "list1 = [10, 20, 30, 40]\n",
    "list2 = [100, 200, 300, 400]\n",
    "output:\n",
    "10 400\n",
    "20 300\n",
    "30 200\n",
    "40 100\n"
   ]
  },
  {
   "cell_type": "code",
   "execution_count": null,
   "id": "977d48ab",
   "metadata": {},
   "outputs": [],
   "source": []
  },
  {
   "cell_type": "markdown",
   "id": "2224370b",
   "metadata": {},
   "source": [
    "6. Remove empty strings from the list of strings\n",
    "list1 = [\"Ashish\", \"\", \"Atharva\", \"Amit\", \"\", \"Revati\"]\n",
    "output:\n",
    "[\"Ashish\", \"Atharva\", \"Amit\", \"Revati\"]\n"
   ]
  },
  {
   "cell_type": "code",
   "execution_count": null,
   "id": "67530a42",
   "metadata": {},
   "outputs": [],
   "source": []
  },
  {
   "cell_type": "markdown",
   "id": "b6541853",
   "metadata": {},
   "source": [
    "7. Add item 7000 after 6000 in the following Python List\n",
    "list1 = [10, 20, [300, 400, [5000, 6000], 500], 30, 40]\n",
    "output:\n",
    "[10, 20, [300, 400, [5000, 6000, 7000], 500], 30, 40]"
   ]
  },
  {
   "cell_type": "code",
   "execution_count": null,
   "id": "20deb1f7",
   "metadata": {},
   "outputs": [],
   "source": []
  },
  {
   "cell_type": "markdown",
   "id": "8f035850",
   "metadata": {},
   "source": [
    "8. Given a nested list extend it by adding the sub list [\"h\", \"i\", \"j\"] in such a way that it will look like the following list\n",
    "\n",
    "list1 = [\"a\", \"b\", [\"c\", [\"d\", \"e\", [\"f\", \"g\"], \"k\"], \"l\"], \"m\", \"n\"]\n",
    "Sub List to be added = [\"h\", \"i\", \"j\"]\n",
    "output:\n",
    "['a', 'b', ['c', ['d', 'e', ['f', 'g', 'h', 'i', 'j'], 'k'], 'l'], 'm', 'n'] \n",
    "\n",
    "solution\n",
    "list1 = [\"a\", \"b\", [\"c\", [\"d\", \"e\", [\"f\", \"g\"], \"k\"], \"l\"], \"m\", \"n\"]\n",
    "subList = [\"h\", \"i\", \"j\"]\n",
    "list1[2][1][2].extend(subList)\n",
    "print(list1)\n"
   ]
  },
  {
   "cell_type": "code",
   "execution_count": null,
   "id": "670e31b6",
   "metadata": {},
   "outputs": [],
   "source": []
  },
  {
   "cell_type": "markdown",
   "id": "76445cdb",
   "metadata": {},
   "source": [
    "9. Given a Python list, find value 20 in the list, and if it is present, replace it with 200. Only update the first occurrence of a value\n",
    "list1 = [5, 10, 15, 20, 25, 50, 20]\n",
    "output:\n",
    "list1 = [5, 10, 15, 200, 25, 50, 20]\n"
   ]
  },
  {
   "cell_type": "code",
   "execution_count": null,
   "id": "a7ca69a5",
   "metadata": {},
   "outputs": [],
   "source": []
  },
  {
   "cell_type": "markdown",
   "id": "707b2d05",
   "metadata": {},
   "source": [
    "10. Given a Python list, remove all occurrence of 20 from the list\n",
    "list1 = [5, 20, 15, 20, 25, 50, 20]\n",
    "output:\n",
    "[5, 15, 25, 50]\n"
   ]
  },
  {
   "cell_type": "code",
   "execution_count": null,
   "id": "fc7d10b1",
   "metadata": {},
   "outputs": [],
   "source": []
  },
  {
   "cell_type": "markdown",
   "id": "1cf313b1",
   "metadata": {},
   "source": [
    "11. Take a number as input from user. \n",
    "Print maximum and minimum integer which can be generated using all the digits in the input number\n",
    "Ex. Input 3421   : o/p max: 4321, min 1234\n",
    "Input 7789    : o/p max: 9776   min 6779\n"
   ]
  },
  {
   "cell_type": "code",
   "execution_count": null,
   "id": "d987020f",
   "metadata": {},
   "outputs": [],
   "source": []
  },
  {
   "cell_type": "markdown",
   "id": "75c47935",
   "metadata": {},
   "source": [
    "12. Take integer from user and print all odd numbers which can be generated using any number of digits from given number\n",
    "Ex. \n",
    "Input: 3421  o/p: 1,3,13,43,23,31,41,21,421,241,341,431,423,243,143,413,1243,1423,4213,4123, 2413,2143, .. etc\n"
   ]
  },
  {
   "cell_type": "code",
   "execution_count": null,
   "id": "aa90a7ea",
   "metadata": {},
   "outputs": [],
   "source": []
  },
  {
   "cell_type": "markdown",
   "id": "caa69844",
   "metadata": {},
   "source": [
    "# Advanced Question"
   ]
  },
  {
   "cell_type": "markdown",
   "id": "670dc296",
   "metadata": {},
   "source": [
    "Q. What will be output of following and explain why?\n",
    "a. \n",
    "l1 = [ 0 , 1]\n",
    "x= l1[0]\n",
    "x, l1[x] = 1, 300\n",
    "print(l1)\n",
    "\n",
    "b.\n",
    "comp = [1, 2, ('aa', 'ab')]   < [1, 2, ('abc', 'a'), 4]\n",
    "print(comp)\n",
    "\n"
   ]
  },
  {
   "cell_type": "code",
   "execution_count": null,
   "id": "d4a3517f",
   "metadata": {},
   "outputs": [],
   "source": []
  },
  {
   "cell_type": "markdown",
   "id": "dc46dcd5",
   "metadata": {},
   "source": [
    "Scenario Based Question  : Difficulty -> Medium\n",
    "\n",
    "1.\tTake a list of integers. Every time you can select the first element or last element.\n",
    "Always next number selected should be less than or equal to the currently selected number. If no number can be selected to fulfill all conditions then return False. If all elements are completed using the selection criteria then print True. You have to try all the combinations possible before conclusion.\n",
    "\n",
    "Ex. \n",
    "L=[1,2,3,4,5]\n",
    "\n",
    "We can select 1 or 5 at step 1\n",
    "Assume, First 5 is selected (last element)\n",
    "Then, [1,2,3,4]we can select 1 or 4,  we will select 4 because 4<5\n",
    "Then [1,2,3] we can select 1 or 3, so select 3 because 3<5\n",
    "\n",
    "Like this we can select 5,4,3,2,1 and all elements are selected so print True\n",
    "But if we select 1 then we cannot select further elements\n",
    "Because, after selecting 1 list will be [2,3,4,5] and first 2 and last 5 both are greater than 1\n",
    "\n",
    "So, when selecting first element use the right choice so that there can be possibility of selection of all elements\n",
    "\n",
    "L=[1,3,2]\n",
    "\n",
    "We can select 1 or 2 at step1\n",
    "Assume we select 1,\n",
    "Then [3,2] so we can select 3 or 2 but both are greater than 1\n",
    "So, there is no way we can completely select all elements\n",
    "\n",
    "Assume we select 2,\n",
    "Then [1,3], so we can select 1 or 3, we select 1 because 1<2,\n",
    "Then [3], so we can ONLY select 3 but 3 is greater than 1\n",
    "\n",
    "So print False, because in all options we cannot select all elements from the list"
   ]
  },
  {
   "cell_type": "code",
   "execution_count": null,
   "id": "17831ed7",
   "metadata": {},
   "outputs": [],
   "source": []
  }
 ],
 "metadata": {
  "kernelspec": {
   "display_name": "Python 3 (ipykernel)",
   "language": "python",
   "name": "python3"
  },
  "language_info": {
   "codemirror_mode": {
    "name": "ipython",
    "version": 3
   },
   "file_extension": ".py",
   "mimetype": "text/x-python",
   "name": "python",
   "nbconvert_exporter": "python",
   "pygments_lexer": "ipython3",
   "version": "3.11.4"
  }
 },
 "nbformat": 4,
 "nbformat_minor": 5
}
