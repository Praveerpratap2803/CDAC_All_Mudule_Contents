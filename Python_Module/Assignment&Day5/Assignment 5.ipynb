{
 "cells": [
  {
   "cell_type": "markdown",
   "id": "c5da8495",
   "metadata": {},
   "source": [
    "# Assignment 5"
   ]
  },
  {
   "cell_type": "markdown",
   "id": "19d9c2d8",
   "metadata": {},
   "source": [
    "1. Reverse a given list in Python\n",
    "aList = [100, 200, 300, 400, 500]\n",
    "output:\n",
    "[500, 400, 300, 200, 100]\n"
   ]
  },
  {
   "cell_type": "code",
   "execution_count": 5,
   "id": "153b442e",
   "metadata": {},
   "outputs": [
    {
     "data": {
      "text/plain": [
       "[500, 400, 300, 200, 100]"
      ]
     },
     "execution_count": 5,
     "metadata": {},
     "output_type": "execute_result"
    }
   ],
   "source": [
    "aList = [100, 200, 300, 400, 500]\n",
    "#l1 = aList[::-1]\n",
    "aList.reverse()\n",
    "aList"
   ]
  },
  {
   "cell_type": "code",
   "execution_count": null,
   "id": "f58fd736",
   "metadata": {},
   "outputs": [],
   "source": []
  },
  {
   "cell_type": "markdown",
   "id": "72224dcd",
   "metadata": {},
   "source": [
    "2. take a list 'l1' of even nos between 150 to 250. Print its length.\n",
    "Then create another list 'l2' using 'l1', containing only nos divisible by 4 from 'l1'."
   ]
  },
  {
   "cell_type": "code",
   "execution_count": 18,
   "id": "99003b55",
   "metadata": {},
   "outputs": [
    {
     "data": {
      "text/plain": [
       "[152,\n",
       " 156,\n",
       " 160,\n",
       " 164,\n",
       " 168,\n",
       " 172,\n",
       " 176,\n",
       " 180,\n",
       " 184,\n",
       " 188,\n",
       " 192,\n",
       " 196,\n",
       " 200,\n",
       " 204,\n",
       " 208,\n",
       " 212,\n",
       " 216,\n",
       " 220,\n",
       " 224,\n",
       " 228,\n",
       " 232,\n",
       " 236,\n",
       " 240,\n",
       " 244,\n",
       " 248]"
      ]
     },
     "execution_count": 18,
     "metadata": {},
     "output_type": "execute_result"
    }
   ],
   "source": [
    "l1 = [ element for element in range(150,250,2) ]\n",
    "l2 = [element for element in l1 if element%4==0 ]\n",
    "l2"
   ]
  },
  {
   "cell_type": "code",
   "execution_count": 16,
   "id": "5f146c94",
   "metadata": {},
   "outputs": [
    {
     "data": {
      "text/plain": [
       "[152,\n",
       " 156,\n",
       " 160,\n",
       " 164,\n",
       " 168,\n",
       " 172,\n",
       " 176,\n",
       " 180,\n",
       " 184,\n",
       " 188,\n",
       " 192,\n",
       " 196,\n",
       " 200,\n",
       " 204,\n",
       " 208,\n",
       " 212,\n",
       " 216,\n",
       " 220,\n",
       " 224,\n",
       " 228,\n",
       " 232,\n",
       " 236,\n",
       " 240,\n",
       " 244,\n",
       " 248]"
      ]
     },
     "execution_count": 16,
     "metadata": {},
     "output_type": "execute_result"
    }
   ],
   "source": [
    "for i in range(150,250,2):\n",
    "    li1.append(i)\n",
    "#l1\n",
    "l2=[]\n",
    "for i in l1:\n",
    "    if i%4==0:\n",
    "        l2.append(i)\n",
    "l2"
   ]
  },
  {
   "cell_type": "code",
   "execution_count": null,
   "id": "baa4d8ba",
   "metadata": {},
   "outputs": [],
   "source": []
  },
  {
   "cell_type": "markdown",
   "id": "bb6073a6",
   "metadata": {},
   "source": [
    "3. Given a Python list of numbers. Turn every item of a list into its square root\n",
    "aList = [1, 4, 9, 16, 25, 36, 49] \n",
    "output:\n",
    "[1, 2, 3, 4, 5, 6, 7]"
   ]
  },
  {
   "cell_type": "code",
   "execution_count": 26,
   "id": "7dd03f2e",
   "metadata": {},
   "outputs": [
    {
     "data": {
      "text/plain": [
       "[1, 2, 3, 4, 5, 6, 7]"
      ]
     },
     "execution_count": 26,
     "metadata": {},
     "output_type": "execute_result"
    }
   ],
   "source": [
    "import math\n",
    "aList = [1, 4, 9, 16, 25, 36, 49] \n",
    "aList = [int(math.sqrt(i)) for i in aList ]\n",
    "aList"
   ]
  },
  {
   "cell_type": "code",
   "execution_count": 27,
   "id": "8f7d8349",
   "metadata": {},
   "outputs": [
    {
     "name": "stdout",
     "output_type": "stream",
     "text": [
      "[1, 2, 3, 4, 5, 6, 7]\n"
     ]
    }
   ],
   "source": [
    "import math\n",
    "aList = [1, 4, 9, 16, 25, 36, 49] \n",
    "aList1=[]\n",
    "for i in aList:\n",
    "    aList1.append(int(math.sqrt(i)))\n",
    "aList=aList1\n",
    "print(aList)"
   ]
  },
  {
   "cell_type": "markdown",
   "id": "dcbbdc51",
   "metadata": {},
   "source": [
    "4. Print two lists in the following order\n",
    "list1 = [5, 6,7]\n",
    "list2 = [0, 1]\n",
    "output:\n",
    "50,51,60,61,70,71"
   ]
  },
  {
   "cell_type": "code",
   "execution_count": 31,
   "id": "a8ee9093",
   "metadata": {},
   "outputs": [
    {
     "name": "stdout",
     "output_type": "stream",
     "text": [
      "50\n",
      "51\n",
      "60\n",
      "61\n",
      "70\n",
      "71\n"
     ]
    }
   ],
   "source": [
    "list1 = [5,6,7]\n",
    "list2 = [0,1]\n",
    "for i in list1:\n",
    "    for j in list2:\n",
    "        print(str(i)+str(j))"
   ]
  },
  {
   "cell_type": "code",
   "execution_count": null,
   "id": "68e3d808",
   "metadata": {},
   "outputs": [],
   "source": []
  },
  {
   "cell_type": "markdown",
   "id": "91e6cbb6",
   "metadata": {},
   "source": [
    "5. Given a two Python list. Iterate both lists simultaneously such that list1 should display item in original order and list2 in reverse order. It should work for any two lists.\n",
    "list1 = [10, 20, 30, 40]\n",
    "list2 = [100, 200, 300, 400]\n",
    "output:\n",
    "10 400\n",
    "20 300\n",
    "30 200\n",
    "40 100\n"
   ]
  },
  {
   "cell_type": "code",
   "execution_count": 52,
   "id": "977d48ab",
   "metadata": {},
   "outputs": [
    {
     "name": "stdout",
     "output_type": "stream",
     "text": [
      "10 400\n",
      "20 300\n",
      "30 200\n",
      "40 100\n"
     ]
    }
   ],
   "source": [
    "l1 = [10,20,30,40]\n",
    "l2 = [100,200,300,400]\n",
    "l3 = []\n",
    "l2 = l2[::-1]\n",
    "for i in range(len(l1)):\n",
    "    print(l1[i],l2[i])"
   ]
  },
  {
   "cell_type": "markdown",
   "id": "2224370b",
   "metadata": {},
   "source": [
    "6. Remove empty strings from the list of strings\n",
    "list1 = [\"Ashish\", \"\", \"Atharva\", \"Amit\", \"\", \"Revati\"]\n",
    "output:\n",
    "[\"Ashish\", \"Atharva\", \"Amit\", \"Revati\"]\n"
   ]
  },
  {
   "cell_type": "code",
   "execution_count": 54,
   "id": "67530a42",
   "metadata": {},
   "outputs": [
    {
     "data": {
      "text/plain": [
       "['Ashish', 'Atharva', 'Amit', 'Revati']"
      ]
     },
     "execution_count": 54,
     "metadata": {},
     "output_type": "execute_result"
    }
   ],
   "source": [
    "list1 = [\"Ashish\", \"\", \"Atharva\", \"Amit\", \"\", \"Revati\"]\n",
    "for i in list1:\n",
    "    if i==\"\":\n",
    "        list1.remove(i)\n",
    "list1"
   ]
  },
  {
   "cell_type": "markdown",
   "id": "b6541853",
   "metadata": {},
   "source": [
    "7. Add item 7000 after 6000 in the following Python List\n",
    "list1 = [10, 20, [300, 400, [5000, 6000], 500], 30, 40]\n",
    "output:\n",
    "[10, 20, [300, 400, [5000, 6000, 7000], 500], 30, 40]"
   ]
  },
  {
   "cell_type": "code",
   "execution_count": 57,
   "id": "20deb1f7",
   "metadata": {},
   "outputs": [
    {
     "data": {
      "text/plain": [
       "[10, 20, [300, 400, [5000, 6000, 7000], 500], 30, 40]"
      ]
     },
     "execution_count": 57,
     "metadata": {},
     "output_type": "execute_result"
    }
   ],
   "source": [
    "list1 = [10, 20, [300, 400, [5000, 6000], 500], 30, 40]\n",
    "list1[2][2].append(7000)\n",
    "list1"
   ]
  },
  {
   "cell_type": "markdown",
   "id": "8f035850",
   "metadata": {},
   "source": [
    "8. Given a nested list extend it by adding the sub list [\"h\", \"i\", \"j\"] in such a way that it will look like the following list\n",
    "\n",
    "list1 = [\"a\", \"b\", [\"c\", [\"d\", \"e\", [\"f\", \"g\"], \"k\"], \"l\"], \"m\", \"n\"]\n",
    "Sub List to be added = [\"h\", \"i\", \"j\"]\n",
    "output:\n",
    "['a', 'b', ['c', ['d', 'e', ['f', 'g', 'h', 'i', 'j'], 'k'], 'l'], 'm', 'n'] \n",
    "\n",
    "solution\n",
    "list1 = [\"a\", \"b\", [\"c\", [\"d\", \"e\", [\"f\", \"g\"], \"k\"], \"l\"], \"m\", \"n\"]\n",
    "subList = [\"h\", \"i\", \"j\"]\n",
    "list1[2][1][2].extend(subList)\n",
    "print(list1)\n"
   ]
  },
  {
   "cell_type": "code",
   "execution_count": 60,
   "id": "670e31b6",
   "metadata": {},
   "outputs": [
    {
     "data": {
      "text/plain": [
       "['a', 'b', ['c', ['d', 'e', ['f', 'g', 'h', 'i', 'j'], 'k'], 'l'], 'm', 'n']"
      ]
     },
     "execution_count": 60,
     "metadata": {},
     "output_type": "execute_result"
    }
   ],
   "source": [
    "list1 = [\"a\", \"b\", [\"c\", [\"d\", \"e\", [\"f\", \"g\"], \"k\"], \"l\"], \"m\", \"n\"]\n",
    "list2 = [\"h\", \"i\", \"j\"]\n",
    "list1[2][1][2].extend(list2)\n",
    "list1"
   ]
  },
  {
   "cell_type": "markdown",
   "id": "76445cdb",
   "metadata": {},
   "source": [
    "9. Given a Python list, find value 20 in the list, and if it is present, replace it with 200. Only update the first occurrence of a value\n",
    "list1 = [5, 10, 15, 20, 25, 50, 20]\n",
    "output:\n",
    "list1 = [5, 10, 15, 200, 25, 50, 20]\n"
   ]
  },
  {
   "cell_type": "code",
   "execution_count": 62,
   "id": "a7ca69a5",
   "metadata": {},
   "outputs": [
    {
     "data": {
      "text/plain": [
       "[5, 10, 15, 200, 25, 50, 20]"
      ]
     },
     "execution_count": 62,
     "metadata": {},
     "output_type": "execute_result"
    }
   ],
   "source": [
    "list1 = [5, 10, 15, 20, 25, 50, 20]\n",
    "for i in range(len(list1)):\n",
    "    if list1[i]==20:\n",
    "        list1[i]=200\n",
    "        break\n",
    "list1"
   ]
  },
  {
   "cell_type": "markdown",
   "id": "707b2d05",
   "metadata": {},
   "source": [
    "10. Given a Python list, remove all occurrence of 20 from the list\n",
    "list1 = [5, 20, 15, 20, 25, 50, 20]\n",
    "output:\n",
    "[5, 15, 25, 50]\n"
   ]
  },
  {
   "cell_type": "code",
   "execution_count": 66,
   "id": "fc7d10b1",
   "metadata": {},
   "outputs": [
    {
     "data": {
      "text/plain": [
       "[5, 15, 25, 50]"
      ]
     },
     "execution_count": 66,
     "metadata": {},
     "output_type": "execute_result"
    }
   ],
   "source": [
    "list1 = [5, 20, 15, 20, 25, 50, 20]\n",
    "for i in list1:\n",
    "    if i==20:\n",
    "        list1.remove(i)\n",
    "list1\n",
    "    "
   ]
  },
  {
   "cell_type": "markdown",
   "id": "1cf313b1",
   "metadata": {},
   "source": [
    "11. Take a number as input from user. \n",
    "Print maximum and minimum integer which can be generated using all the digits in the input number\n",
    "Ex. Input 3421   : o/p max: 4321, min 1234\n",
    "Input 7789    : o/p max: 9776   min 6779\n"
   ]
  },
  {
   "cell_type": "code",
   "execution_count": 91,
   "id": "d987020f",
   "metadata": {},
   "outputs": [
    {
     "name": "stdout",
     "output_type": "stream",
     "text": [
      "Enter the number 23523\n",
      "53322\n",
      "22335\n"
     ]
    }
   ],
   "source": [
    "number_s = input(\"Enter the number \")\n",
    "list1=[]\n",
    "for i in number_s:\n",
    "    list1.append(i)\n",
    "list1.sort()\n",
    "number_min=\"\"\n",
    "number_max=\"\"\n",
    "for i in range(len(list1)):\n",
    "    number_min=number_min+list1[i]\n",
    "    number_max = number_max +list1[len(list1)-i-1]\n",
    "print(number_max)\n",
    "print(number_min)"
   ]
  },
  {
   "cell_type": "code",
   "execution_count": null,
   "id": "65666324",
   "metadata": {},
   "outputs": [],
   "source": []
  },
  {
   "cell_type": "markdown",
   "id": "75c47935",
   "metadata": {},
   "source": [
    "12. Take integer from user and print all odd numbers which can be generated using any number of digits from given number\n",
    "Ex. \n",
    "Input: 3421  o/p: 1,3,13,43,23,31,41,21,421,241,341,431,423,243,143,413,1243,1423,4213,4123, 2413,2143, .. etc\n"
   ]
  },
  {
   "cell_type": "code",
   "execution_count": 43,
   "id": "aa90a7ea",
   "metadata": {},
   "outputs": [
    {
     "name": "stdout",
     "output_type": "stream",
     "text": [
      "Enter the number 123\n",
      "['1', '2', '3']\n",
      "['1', '2', '3', '12', '13', '21', '23', '31', '32', '123', '132', '213', '231', '312', '321']\n",
      "['1', '3', '13', '21', '23', '31', '123', '213', '231', '321']\n"
     ]
    }
   ],
   "source": [
    "from itertools import permutations\n",
    "number_s = input(\"Enter the number \")\n",
    "list1=[]\n",
    "for i in number_s:\n",
    "     list1.append(i)\n",
    "print(list1)\n",
    "l2=[]\n",
    "for i in range(len(list1)):\n",
    "    l2.append(permutations(list1,i+1))\n",
    "l3=[]\n",
    "for i in l2:\n",
    "    for j in i:\n",
    "        l3.append(\"\".join(j))\n",
    "print(l3)\n",
    "l4 = [e for e in l3 if int(e)%2!=0 ]\n",
    "print(l4)"
   ]
  },
  {
   "cell_type": "markdown",
   "id": "caa69844",
   "metadata": {},
   "source": [
    "# Advanced Question"
   ]
  },
  {
   "cell_type": "markdown",
   "id": "670dc296",
   "metadata": {},
   "source": [
    "Q. What will be output of following and explain why?\n",
    "a. \n",
    "l1 = [ 0 , 1]\n",
    "x= l1[0]\n",
    "x, l1[x] = 1, 300\n",
    "print(l1)\n",
    "\n",
    "b.\n",
    "comp = [1, 2, ('aa', 'ab')]   < [1, 2, ('abc', 'a'), 4]\n",
    "print(comp)\n",
    "\n"
   ]
  },
  {
   "cell_type": "code",
   "execution_count": 95,
   "id": "d46dd74b",
   "metadata": {},
   "outputs": [
    {
     "name": "stdout",
     "output_type": "stream",
     "text": [
      "[0, 300]\n"
     ]
    }
   ],
   "source": [
    "l1 = [ 0 , 1]\n",
    "x= l1[0]\n",
    "x, l1[x] = 1, 300\n",
    "print(l1)"
   ]
  },
  {
   "cell_type": "code",
   "execution_count": 96,
   "id": "9af39277",
   "metadata": {},
   "outputs": [
    {
     "name": "stdout",
     "output_type": "stream",
     "text": [
      "True\n"
     ]
    }
   ],
   "source": [
    "comp = [1, 2, ('aa', 'ab')]   < [1, 2, ('abc', 'a'), 4]\n",
    "print(comp)"
   ]
  },
  {
   "cell_type": "code",
   "execution_count": null,
   "id": "d4a3517f",
   "metadata": {},
   "outputs": [],
   "source": []
  },
  {
   "cell_type": "markdown",
   "id": "dc46dcd5",
   "metadata": {},
   "source": [
    "Scenario Based Question  : Difficulty -> Medium\n",
    "\n",
    "1.\tTake a list of integers. Every time you can select the first element or last element.\n",
    "Always next number selected should be less than or equal to the currently selected number. If no number can be selected to fulfill all conditions then return False. If all elements are completed using the selection criteria then print True. You have to try all the combinations possible before conclusion.\n",
    "\n",
    "Ex. \n",
    "L=[1,2,3,4,5]\n",
    "\n",
    "We can select 1 or 5 at step 1\n",
    "Assume, First 5 is selected (last element)\n",
    "Then, [1,2,3,4]we can select 1 or 4,  we will select 4 because 4<5\n",
    "Then [1,2,3] we can select 1 or 3, so select 3 because 3<5\n",
    "\n",
    "Like this we can select 5,4,3,2,1 and all elements are selected so print True\n",
    "But if we select 1 then we cannot select further elements\n",
    "Because, after selecting 1 list will be [2,3,4,5] and first 2 and last 5 both are greater than 1\n",
    "\n",
    "So, when selecting first element use the right choice so that there can be possibility of selection of all elements\n",
    "\n",
    "L=[1,3,2]\n",
    "\n",
    "We can select 1 or 2 at step1\n",
    "Assume we select 1,\n",
    "Then [3,2] so we can select 3 or 2 but both are greater than 1\n",
    "So, there is no way we can completely select all elements\n",
    "\n",
    "Assume we select 2,\n",
    "Then [1,3], so we can select 1 or 3, we select 1 because 1<2,\n",
    "Then [3], so we can ONLY select 3 but 3 is greater than 1\n",
    "\n",
    "So print False, because in all options we cannot select all elements from the list"
   ]
  },
  {
   "cell_type": "code",
   "execution_count": null,
   "id": "17831ed7",
   "metadata": {},
   "outputs": [],
   "source": []
  },
  {
   "cell_type": "code",
   "execution_count": 85,
   "id": "feb478c9",
   "metadata": {},
   "outputs": [
    {
     "name": "stdout",
     "output_type": "stream",
     "text": [
      "True\n"
     ]
    }
   ],
   "source": [
    "import sys\n",
    "l1 = [1,2,3,4,5,6]\n",
    "max_e_p=sys.maxsize\n",
    "while len(l1)>0:\n",
    "    max_e=max(l1[0],l1[-1])\n",
    "    if max_e_p<=max_e:\n",
    "        if min(l1[0],l1[-1])<=max_e:\n",
    "            break\n",
    "        else:\n",
    "            max_e=min(l1[0],l1[-1])\n",
    "            l1.remove(max_e)\n",
    "    #print(max_e)\n",
    "    max_e_p=max_e\n",
    "    l1.remove(max_e)\n",
    "if len(l1)>0:\n",
    "    print(False)\n",
    "else:\n",
    "    print(True)"
   ]
  },
  {
   "cell_type": "code",
   "execution_count": null,
   "id": "a671644f",
   "metadata": {},
   "outputs": [],
   "source": []
  }
 ],
 "metadata": {
  "kernelspec": {
   "display_name": "Python 3 (ipykernel)",
   "language": "python",
   "name": "python3"
  },
  "language_info": {
   "codemirror_mode": {
    "name": "ipython",
    "version": 3
   },
   "file_extension": ".py",
   "mimetype": "text/x-python",
   "name": "python",
   "nbconvert_exporter": "python",
   "pygments_lexer": "ipython3",
   "version": "3.11.4"
  }
 },
 "nbformat": 4,
 "nbformat_minor": 5
}
