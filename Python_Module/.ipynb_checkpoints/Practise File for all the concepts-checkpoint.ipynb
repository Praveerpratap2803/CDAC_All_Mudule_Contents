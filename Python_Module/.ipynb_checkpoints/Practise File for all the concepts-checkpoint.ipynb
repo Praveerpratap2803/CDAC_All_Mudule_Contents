{
 "cells": [
  {
   "cell_type": "code",
   "execution_count": 10,
   "id": "59227024",
   "metadata": {},
   "outputs": [
    {
     "name": "stdout",
     "output_type": "stream",
     "text": [
      "Hello\n",
      "Hello\n",
      "Hello\n"
     ]
    }
   ],
   "source": [
    "print('Hello',end='\\n')\n",
    "print('Hello')\n",
    "print('Hello')"
   ]
  },
  {
   "cell_type": "code",
   "execution_count": 8,
   "id": "d9c6152d",
   "metadata": {},
   "outputs": [
    {
     "name": "stdout",
     "output_type": "stream",
     "text": [
      "Hello # World\n"
     ]
    }
   ],
   "source": [
    "print('Hello','World',sep=' # ')\n"
   ]
  },
  {
   "cell_type": "code",
   "execution_count": 11,
   "id": "ba70817e",
   "metadata": {},
   "outputs": [
    {
     "name": "stdout",
     "output_type": "stream",
     "text": [
      "97\n"
     ]
    }
   ],
   "source": [
    "print(ord('a'))"
   ]
  },
  {
   "cell_type": "code",
   "execution_count": 14,
   "id": "68eddfc2",
   "metadata": {},
   "outputs": [
    {
     "name": "stdout",
     "output_type": "stream",
     "text": [
      "12\n"
     ]
    }
   ],
   "source": [
    "print(int('12'))"
   ]
  },
  {
   "cell_type": "code",
   "execution_count": 51,
   "id": "79854c59",
   "metadata": {},
   "outputs": [],
   "source": [
    "n=5\n"
   ]
  },
  {
   "cell_type": "code",
   "execution_count": 89,
   "id": "1ad844f7",
   "metadata": {},
   "outputs": [
    {
     "name": "stdout",
     "output_type": "stream",
     "text": [
      "30\n"
     ]
    }
   ],
   "source": [
    "c=10\n",
    "def add():\n",
    "    global c\n",
    "    c=c+20\n",
    "add()\n",
    "print(c)"
   ]
  },
  {
   "cell_type": "code",
   "execution_count": 90,
   "id": "266136d9",
   "metadata": {},
   "outputs": [
    {
     "name": "stdout",
     "output_type": "stream",
     "text": [
      "10\n"
     ]
    }
   ],
   "source": [
    "c=10\n",
    "def add():\n",
    "    print(c)\n",
    "add()\n"
   ]
  },
  {
   "cell_type": "code",
   "execution_count": null,
   "id": "f8e9de6f",
   "metadata": {},
   "outputs": [],
   "source": [
    "a=10\n",
    "def add():\n",
    "    global a\n",
    "    a+=10\n",
    "    "
   ]
  },
  {
   "cell_type": "code",
   "execution_count": 93,
   "id": "70e9c63e",
   "metadata": {},
   "outputs": [
    {
     "data": {
      "text/plain": [
       "3"
      ]
     },
     "execution_count": 93,
     "metadata": {},
     "output_type": "execute_result"
    }
   ],
   "source": [
    "(lambda a,b: a+b)(1,2)"
   ]
  },
  {
   "cell_type": "code",
   "execution_count": 94,
   "id": "9be31221",
   "metadata": {},
   "outputs": [
    {
     "name": "stdout",
     "output_type": "stream",
     "text": [
      "3\n"
     ]
    }
   ],
   "source": [
    "(lambda a,b: print(a+b))(1,2)"
   ]
  },
  {
   "cell_type": "code",
   "execution_count": 95,
   "id": "42bab07e",
   "metadata": {},
   "outputs": [],
   "source": [
    "a=(lambda a,b:a+b)\n"
   ]
  },
  {
   "cell_type": "code",
   "execution_count": 97,
   "id": "f91b09eb",
   "metadata": {},
   "outputs": [
    {
     "data": {
      "text/plain": [
       "3"
      ]
     },
     "execution_count": 97,
     "metadata": {},
     "output_type": "execute_result"
    }
   ],
   "source": [
    "a(1,2)"
   ]
  },
  {
   "cell_type": "code",
   "execution_count": 102,
   "id": "b2bbc537",
   "metadata": {},
   "outputs": [
    {
     "data": {
      "text/plain": [
       "['Name', 'Praveer', 'is', 'My']"
      ]
     },
     "execution_count": 102,
     "metadata": {},
     "output_type": "execute_result"
    }
   ],
   "source": [
    "words=[\"My\",'Name','is','Praveer']\n",
    "def sec_char(str1):\n",
    "    #print('1')\n",
    "    return str1[1]\n",
    "sorted(words,key=sec_char)"
   ]
  },
  {
   "cell_type": "code",
   "execution_count": 103,
   "id": "667fad82",
   "metadata": {},
   "outputs": [
    {
     "data": {
      "text/plain": [
       "['Name', 'Praveer', 'is', 'My']"
      ]
     },
     "execution_count": 103,
     "metadata": {},
     "output_type": "execute_result"
    }
   ],
   "source": [
    "words=[\"My\",'Name','is','Praveer']\n",
    "sorted(words,key=(lambda str1:str1[1]))"
   ]
  },
  {
   "cell_type": "code",
   "execution_count": 106,
   "id": "6fed9e44",
   "metadata": {},
   "outputs": [
    {
     "name": "stdout",
     "output_type": "stream",
     "text": [
      "(66, 78, 91)\n"
     ]
    }
   ],
   "source": [
    "def sum_n(num):\n",
    "    sum=0\n",
    "    for i in range(num):\n",
    "        sum+=i\n",
    "    return sum\n",
    "\n",
    "l1=map(sum_n,[12,13,14])\n",
    "print(tuple(l1))\n",
    "\n",
    "        \n"
   ]
  },
  {
   "cell_type": "code",
   "execution_count": null,
   "id": "b73b9a87",
   "metadata": {},
   "outputs": [],
   "source": []
  },
  {
   "cell_type": "code",
   "execution_count": 2,
   "id": "323d3162",
   "metadata": {},
   "outputs": [
    {
     "name": "stdout",
     "output_type": "stream",
     "text": [
      "Praveer 35 IACSD 99 IACSD IACSD\n"
     ]
    }
   ],
   "source": [
    "class Student:\n",
    "    college='IACSD'\n",
    "    def __init__(self,name,roll_no,marks,placement):\n",
    "        self.name=name\n",
    "        self.roll_no=roll_no\n",
    "        self.marks=marks\n",
    "        Student.placement=placement\n",
    "    \n",
    "    def display(self):\n",
    "        print(self.name,self.roll_no,self.college,self.marks,self.college,Student.college)\n",
    "    \n",
    "s1=Student('Praveer',35,99)\n",
    "s1.display()\n",
    "        "
   ]
  },
  {
   "cell_type": "code",
   "execution_count": null,
   "id": "0bb4e4c6",
   "metadata": {},
   "outputs": [],
   "source": [
    "5. create a third-string made of the first char of s1 then the last char of s2, Next, the second char of s1\n",
    "and second last char of s2, and so on. Any leftover chars go at the end of the result.\n",
    "Given:\n",
    "s1 = \"Abc\"\n",
    "s2 = \"Xyz\"\n",
    "Expected Output:\n",
    "AzbycX"
   ]
  },
  {
   "cell_type": "code",
   "execution_count": 8,
   "id": "dbd9f78a",
   "metadata": {},
   "outputs": [
    {
     "name": "stdout",
     "output_type": "stream",
     "text": [
      "Abcqrqrqrqrqrqr\n"
     ]
    }
   ],
   "source": [
    "s1=\"Abcqrqrqrqrqrqr\"\n",
    "s2=\"\"\n",
    "s3=\"\"\n",
    "if len(s1)==len(s2):\n",
    "    for i in range(len(s1)):\n",
    "        s3=s3+s1[i]+s2[-i]\n",
    "elif len(s1)>len(s2):\n",
    "    for i in range(len(s2)):\n",
    "        s3=s3+s1[i]+s2[-i]\n",
    "    s3+=s1[len(s2):]\n",
    "else:\n",
    "    for i in range(len(s1)):\n",
    "        s3=s3+s1[i]+s2[-i]\n",
    "    s3+=s2[len(s1):]\n",
    "    \n",
    "print(s3)\n",
    "        \n",
    "        "
   ]
  },
  {
   "cell_type": "code",
   "execution_count": null,
   "id": "16d16f24",
   "metadata": {},
   "outputs": [],
   "source": [
    "9. Find all mobile number mentioned in given paragraph of text\n",
    "Mobile number is always a 10 digit number no spaces no special characters\n",
    "Ex. Input= “this is a good number 9089786756 and 8900000000 is a desired number”\n",
    "Expected output: 9089786756 , 8900000000"
   ]
  },
  {
   "cell_type": "code",
   "execution_count": 61,
   "id": "5819f3d5",
   "metadata": {},
   "outputs": [
    {
     "name": "stdout",
     "output_type": "stream",
     "text": [
      "[' 9089786756 ']\n"
     ]
    }
   ],
   "source": [
    "import re\n",
    "Input= \"this is a good number 9089786756 and 12345678912 is a desired number\"\n",
    "Input1=\"1234567891\"\n",
    "regex_pattern=\"[^0-9][0-9]{10}[^0-9]\"\n",
    "result=re.findall(regex_pattern,Input)\n",
    "print(result)"
   ]
  },
  {
   "cell_type": "code",
   "execution_count": 49,
   "id": "a0c105b7",
   "metadata": {},
   "outputs": [
    {
     "name": "stdout",
     "output_type": "stream",
     "text": [
      "                      9089786756     8900000000                    \n",
      "['9089786756', '8900000000']\n"
     ]
    }
   ],
   "source": [
    "Input= \"this is a good number 9089786756 and 8900000000 is a desired number\"\n",
    "s1=\"\"\n",
    "for i in Input:\n",
    "    if i.isdigit():\n",
    "        s1+=i\n",
    "    else:\n",
    "        s1+=' '\n",
    "s1.strip().split(' ')\n",
    "l1=[]\n",
    "for i in s1.strip().split(' '):\n",
    "    if len(i)==10 and i.isdigit():\n",
    "        l1.append(i)\n",
    "print(l1)"
   ]
  },
  {
   "cell_type": "code",
   "execution_count": null,
   "id": "5967ca41",
   "metadata": {},
   "outputs": [],
   "source": []
  },
  {
   "cell_type": "code",
   "execution_count": 30,
   "id": "89059edc",
   "metadata": {},
   "outputs": [
    {
     "name": "stdout",
     "output_type": "stream",
     "text": [
      "[11, 34, 89, 45, 66, 243, 123, 90, 77]\n"
     ]
    }
   ],
   "source": [
    "l1=[[11,34,89],[45,66,243],[123,90,77]]\n",
    "l2=[]\n",
    "for i in l1:\n",
    "    for j in i:\n",
    "        l2.append(j)\n",
    "print(l2)\n"
   ]
  },
  {
   "cell_type": "code",
   "execution_count": 36,
   "id": "7563d2ff",
   "metadata": {},
   "outputs": [
    {
     "name": "stdout",
     "output_type": "stream",
     "text": [
      "[11, 34, 89, 45, 66, 243, 123, 90, 77]\n",
      "51.333333333333336\n"
     ]
    }
   ],
   "source": [
    "import math\n",
    "l2=[[11,34,89],[45,66,243],[123,90,77]]\n",
    "l1=[]\n",
    "for i in l2:\n",
    "    for j in i:\n",
    "        l1.append(j)\n",
    "print(l1)\n",
    "sum_l=0\n",
    "sum_l1=0\n",
    "avg_l=0\n",
    "count=0\n",
    "count1=0\n",
    "for i in l1:\n",
    "    if i%11==0:\n",
    "        count1+=1\n",
    "        \n",
    "if math.sqrt(count1)- int(math.sqrt(count1))==0:\n",
    "    for i in l1:\n",
    "        if i%11==0:\n",
    "            sum_l+=i\n",
    "    print(sum_l)\n",
    "else:\n",
    "    for i in l1:\n",
    "        if i%11==0:\n",
    "            count+=1\n",
    "            sum_l1+=i\n",
    "    avg_l=(sum_l1)/count\n",
    "    print(avg_l)\n",
    "        \n",
    "        \n",
    "        \n",
    "        \n",
    "        \n",
    "# print(l1.count(11),math.sqrt(l1.count(11)))"
   ]
  },
  {
   "cell_type": "code",
   "execution_count": 52,
   "id": "6f258d23",
   "metadata": {},
   "outputs": [
    {
     "name": "stdout",
     "output_type": "stream",
     "text": [
      "51.333333333333336\n"
     ]
    }
   ],
   "source": [
    "import math\n",
    "sum_l=0\n",
    "avg_l=0\n",
    "count1=0\n",
    "\n",
    "l2=[[11,34,89],[45,66,243],[123,90,77]]\n",
    "l1=[]\n",
    "\n",
    "for i in l2:\n",
    "    for j in i:\n",
    "        l1.append(j)\n",
    "# print(l1)\n",
    "for i in l1:\n",
    "    if i%11==0:\n",
    "        count1+=1\n",
    "        sum_l+=i\n",
    "if (math.sqrt(count1)) - int(math.sqrt(count1))==0:\n",
    "    print(sum_l)\n",
    "else:\n",
    "    avg_l=(sum_l)/count1\n",
    "    print(avg_l)\n",
    "        \n",
    "        \n",
    "        \n",
    "        \n",
    "        \n",
    "# print(l1.count(11),math.sqrt(l1.count(11)))"
   ]
  },
  {
   "cell_type": "code",
   "execution_count": null,
   "id": "076aea0f",
   "metadata": {},
   "outputs": [],
   "source": [
    "import math\n",
    "sum_l=0\n",
    "avg_l=0\n",
    "count1=0\n",
    "\n",
    "l2=[[11,34,89],[45,66,243],[123,90,77]]\n",
    "l1=[]\n",
    "\n",
    "for i in l2:\n",
    "    for j in i:\n",
    "        l1.append(j)\n",
    "# print(l1)\n",
    "for i in l1:\n",
    "    if i%11==0:\n",
    "        count1+=1\n",
    "        sum_l+=i\n",
    "if (math.sqrt(count1)) - int(math.sqrt(count1))==0:\n",
    "    print(sum_l)\n",
    "else:\n",
    "    avg_l=(sum_l)/count1\n",
    "    print(avg_l)\n",
    "        \n",
    "\n",
    "    \n",
    "        \n",
    "        \n",
    "        \n",
    "# print(l1.count(11),math.sqrt(l1.count(11)))"
   ]
  },
  {
   "cell_type": "code",
   "execution_count": null,
   "id": "e5c5a111",
   "metadata": {},
   "outputs": [],
   "source": []
  },
  {
   "cell_type": "code",
   "execution_count": null,
   "id": "a5c81917",
   "metadata": {},
   "outputs": [],
   "source": []
  },
  {
   "cell_type": "code",
   "execution_count": null,
   "id": "4d8b2819",
   "metadata": {},
   "outputs": [],
   "source": []
  }
 ],
 "metadata": {
  "kernelspec": {
   "display_name": "Python 3 (ipykernel)",
   "language": "python",
   "name": "python3"
  },
  "language_info": {
   "codemirror_mode": {
    "name": "ipython",
    "version": 3
   },
   "file_extension": ".py",
   "mimetype": "text/x-python",
   "name": "python",
   "nbconvert_exporter": "python",
   "pygments_lexer": "ipython3",
   "version": "3.11.4"
  }
 },
 "nbformat": 4,
 "nbformat_minor": 5
}
